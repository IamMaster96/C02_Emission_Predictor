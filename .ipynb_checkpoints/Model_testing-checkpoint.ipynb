{
 "cells": [
  {
   "cell_type": "code",
   "execution_count": 24,
   "id": "0d5901f0",
   "metadata": {},
   "outputs": [],
   "source": [
    "import pandas as pd\n",
    "from matplotlib import pyplot as plt\n",
    "import plotly.express as px\n",
    "import plotly.graph_objects as go\n",
    "from plotly.subplots import make_subplots\n",
    "import seaborn as sns\n",
    "from sklearn.preprocessing import StandardScaler,QuantileTransformer\n",
    "from sklearn.linear_model import LinearRegression\n",
    "from sklearn.metrics import mean_absolute_error, r2_score\n",
    "from statsmodels.stats.outliers_influence import variance_inflation_factor\n",
    "import numpy as np\n",
    "import os,pickle"
   ]
  },
  {
   "cell_type": "code",
   "execution_count": 25,
   "id": "1155a654",
   "metadata": {},
   "outputs": [],
   "source": [
    "import warnings\n",
    "warnings.filterwarnings('ignore')"
   ]
  },
  {
   "cell_type": "code",
   "execution_count": 42,
   "id": "0e2d1d06",
   "metadata": {},
   "outputs": [
    {
     "data": {
      "text/html": [
       "<div>\n",
       "<style scoped>\n",
       "    .dataframe tbody tr th:only-of-type {\n",
       "        vertical-align: middle;\n",
       "    }\n",
       "\n",
       "    .dataframe tbody tr th {\n",
       "        vertical-align: top;\n",
       "    }\n",
       "\n",
       "    .dataframe thead th {\n",
       "        text-align: right;\n",
       "    }\n",
       "</style>\n",
       "<table border=\"1\" class=\"dataframe\">\n",
       "  <thead>\n",
       "    <tr style=\"text-align: right;\">\n",
       "      <th></th>\n",
       "      <th>EG.CFT.ACCS.ZS</th>\n",
       "      <th>EG.CFT.ACCS.RU.ZS</th>\n",
       "      <th>EG.CFT.ACCS.UR.ZS</th>\n",
       "      <th>EG.ELC.ACCS.ZS</th>\n",
       "      <th>EG.ELC.ACCS.RU.ZS</th>\n",
       "      <th>EG.ELC.ACCS.UR.ZS</th>\n",
       "      <th>FX.OWN.TOTL.ZS</th>\n",
       "      <th>FX.OWN.TOTL.FE.ZS</th>\n",
       "      <th>FX.OWN.TOTL.MA.ZS</th>\n",
       "      <th>FX.OWN.TOTL.OL.ZS</th>\n",
       "      <th>...</th>\n",
       "      <th>SE.PRM.NENR</th>\n",
       "      <th>SE.TER.ENRR</th>\n",
       "      <th>SE.ENR.TERT.FM.ZS</th>\n",
       "      <th>SE.TER.ENRR.FE</th>\n",
       "      <th>SE.TER.ENRR.MA</th>\n",
       "      <th>TM.TAX.MRCH.SM.FN.ZS</th>\n",
       "      <th>TM.TAX.MANF.SM.FN.ZS</th>\n",
       "      <th>TM.TAX.TCOM.SM.FN.ZS</th>\n",
       "      <th>NY.TTF.GNFS.KN</th>\n",
       "      <th>NE.TRD.GNFS.ZS</th>\n",
       "    </tr>\n",
       "    <tr>\n",
       "      <th>Country Name</th>\n",
       "      <th></th>\n",
       "      <th></th>\n",
       "      <th></th>\n",
       "      <th></th>\n",
       "      <th></th>\n",
       "      <th></th>\n",
       "      <th></th>\n",
       "      <th></th>\n",
       "      <th></th>\n",
       "      <th></th>\n",
       "      <th></th>\n",
       "      <th></th>\n",
       "      <th></th>\n",
       "      <th></th>\n",
       "      <th></th>\n",
       "      <th></th>\n",
       "      <th></th>\n",
       "      <th></th>\n",
       "      <th></th>\n",
       "      <th></th>\n",
       "      <th></th>\n",
       "    </tr>\n",
       "  </thead>\n",
       "  <tbody>\n",
       "    <tr>\n",
       "      <th>Afghanistan</th>\n",
       "      <td>30.3</td>\n",
       "      <td>13.5</td>\n",
       "      <td>81.6</td>\n",
       "      <td>97.7</td>\n",
       "      <td>97.1</td>\n",
       "      <td>99.5</td>\n",
       "      <td>14.89</td>\n",
       "      <td>7.16</td>\n",
       "      <td>22.54</td>\n",
       "      <td>18.02</td>\n",
       "      <td>...</td>\n",
       "      <td>94.69278</td>\n",
       "      <td>45.186440</td>\n",
       "      <td>1.18761</td>\n",
       "      <td>55.833092</td>\n",
       "      <td>39.070808</td>\n",
       "      <td>6.785</td>\n",
       "      <td>5.965</td>\n",
       "      <td>10.03</td>\n",
       "      <td>2.223271e+08</td>\n",
       "      <td>77.036522</td>\n",
       "    </tr>\n",
       "    <tr>\n",
       "      <th>Albania</th>\n",
       "      <td>79.6</td>\n",
       "      <td>61.8</td>\n",
       "      <td>92.5</td>\n",
       "      <td>99.9</td>\n",
       "      <td>99.7</td>\n",
       "      <td>100.0</td>\n",
       "      <td>40.02</td>\n",
       "      <td>38.10</td>\n",
       "      <td>42.04</td>\n",
       "      <td>42.51</td>\n",
       "      <td>...</td>\n",
       "      <td>95.53947</td>\n",
       "      <td>58.653511</td>\n",
       "      <td>1.30887</td>\n",
       "      <td>69.444946</td>\n",
       "      <td>47.995461</td>\n",
       "      <td>3.740</td>\n",
       "      <td>3.370</td>\n",
       "      <td>4.73</td>\n",
       "      <td>-1.469819e+10</td>\n",
       "      <td>78.194250</td>\n",
       "    </tr>\n",
       "    <tr>\n",
       "      <th>Algeria</th>\n",
       "      <td>99.7</td>\n",
       "      <td>98.7</td>\n",
       "      <td>99.9</td>\n",
       "      <td>99.5</td>\n",
       "      <td>98.6</td>\n",
       "      <td>99.9</td>\n",
       "      <td>42.78</td>\n",
       "      <td>29.27</td>\n",
       "      <td>56.25</td>\n",
       "      <td>48.75</td>\n",
       "      <td>...</td>\n",
       "      <td>97.58830</td>\n",
       "      <td>49.377911</td>\n",
       "      <td>1.33998</td>\n",
       "      <td>59.828751</td>\n",
       "      <td>39.487999</td>\n",
       "      <td>18.880</td>\n",
       "      <td>18.290</td>\n",
       "      <td>20.62</td>\n",
       "      <td>-5.133701e+11</td>\n",
       "      <td>49.820816</td>\n",
       "    </tr>\n",
       "    <tr>\n",
       "      <th>American Samoa</th>\n",
       "      <td>88.0</td>\n",
       "      <td>73.5</td>\n",
       "      <td>96.4</td>\n",
       "      <td>99.9</td>\n",
       "      <td>100.0</td>\n",
       "      <td>100.0</td>\n",
       "      <td>58.60</td>\n",
       "      <td>53.85</td>\n",
       "      <td>62.40</td>\n",
       "      <td>61.83</td>\n",
       "      <td>...</td>\n",
       "      <td>94.69278</td>\n",
       "      <td>45.186440</td>\n",
       "      <td>1.18761</td>\n",
       "      <td>55.833092</td>\n",
       "      <td>39.070808</td>\n",
       "      <td>6.785</td>\n",
       "      <td>5.965</td>\n",
       "      <td>10.03</td>\n",
       "      <td>-3.071246e+07</td>\n",
       "      <td>161.437908</td>\n",
       "    </tr>\n",
       "    <tr>\n",
       "      <th>Andorra</th>\n",
       "      <td>100.0</td>\n",
       "      <td>100.0</td>\n",
       "      <td>100.0</td>\n",
       "      <td>100.0</td>\n",
       "      <td>100.0</td>\n",
       "      <td>100.0</td>\n",
       "      <td>58.60</td>\n",
       "      <td>53.85</td>\n",
       "      <td>62.40</td>\n",
       "      <td>61.83</td>\n",
       "      <td>...</td>\n",
       "      <td>94.69278</td>\n",
       "      <td>15.436940</td>\n",
       "      <td>1.20709</td>\n",
       "      <td>17.391300</td>\n",
       "      <td>13.789780</td>\n",
       "      <td>6.785</td>\n",
       "      <td>5.965</td>\n",
       "      <td>10.03</td>\n",
       "      <td>2.223271e+08</td>\n",
       "      <td>77.036522</td>\n",
       "    </tr>\n",
       "  </tbody>\n",
       "</table>\n",
       "<p>5 rows × 822 columns</p>\n",
       "</div>"
      ],
      "text/plain": [
       "                EG.CFT.ACCS.ZS  EG.CFT.ACCS.RU.ZS  EG.CFT.ACCS.UR.ZS  \\\n",
       "Country Name                                                           \n",
       "Afghanistan               30.3               13.5               81.6   \n",
       "Albania                   79.6               61.8               92.5   \n",
       "Algeria                   99.7               98.7               99.9   \n",
       "American Samoa            88.0               73.5               96.4   \n",
       "Andorra                  100.0              100.0              100.0   \n",
       "\n",
       "                EG.ELC.ACCS.ZS  EG.ELC.ACCS.RU.ZS  EG.ELC.ACCS.UR.ZS  \\\n",
       "Country Name                                                           \n",
       "Afghanistan               97.7               97.1               99.5   \n",
       "Albania                   99.9               99.7              100.0   \n",
       "Algeria                   99.5               98.6               99.9   \n",
       "American Samoa            99.9              100.0              100.0   \n",
       "Andorra                  100.0              100.0              100.0   \n",
       "\n",
       "                FX.OWN.TOTL.ZS  FX.OWN.TOTL.FE.ZS  FX.OWN.TOTL.MA.ZS  \\\n",
       "Country Name                                                           \n",
       "Afghanistan              14.89               7.16              22.54   \n",
       "Albania                  40.02              38.10              42.04   \n",
       "Algeria                  42.78              29.27              56.25   \n",
       "American Samoa           58.60              53.85              62.40   \n",
       "Andorra                  58.60              53.85              62.40   \n",
       "\n",
       "                FX.OWN.TOTL.OL.ZS  ...  SE.PRM.NENR  SE.TER.ENRR  \\\n",
       "Country Name                       ...                             \n",
       "Afghanistan                 18.02  ...     94.69278    45.186440   \n",
       "Albania                     42.51  ...     95.53947    58.653511   \n",
       "Algeria                     48.75  ...     97.58830    49.377911   \n",
       "American Samoa              61.83  ...     94.69278    45.186440   \n",
       "Andorra                     61.83  ...     94.69278    15.436940   \n",
       "\n",
       "                SE.ENR.TERT.FM.ZS  SE.TER.ENRR.FE  SE.TER.ENRR.MA  \\\n",
       "Country Name                                                        \n",
       "Afghanistan               1.18761       55.833092       39.070808   \n",
       "Albania                   1.30887       69.444946       47.995461   \n",
       "Algeria                   1.33998       59.828751       39.487999   \n",
       "American Samoa            1.18761       55.833092       39.070808   \n",
       "Andorra                   1.20709       17.391300       13.789780   \n",
       "\n",
       "                TM.TAX.MRCH.SM.FN.ZS  TM.TAX.MANF.SM.FN.ZS  \\\n",
       "Country Name                                                 \n",
       "Afghanistan                    6.785                 5.965   \n",
       "Albania                        3.740                 3.370   \n",
       "Algeria                       18.880                18.290   \n",
       "American Samoa                 6.785                 5.965   \n",
       "Andorra                        6.785                 5.965   \n",
       "\n",
       "                TM.TAX.TCOM.SM.FN.ZS  NY.TTF.GNFS.KN  NE.TRD.GNFS.ZS  \n",
       "Country Name                                                          \n",
       "Afghanistan                    10.03    2.223271e+08       77.036522  \n",
       "Albania                         4.73   -1.469819e+10       78.194250  \n",
       "Algeria                        20.62   -5.133701e+11       49.820816  \n",
       "American Samoa                 10.03   -3.071246e+07      161.437908  \n",
       "Andorra                        10.03    2.223271e+08       77.036522  \n",
       "\n",
       "[5 rows x 822 columns]"
      ]
     },
     "execution_count": 42,
     "metadata": {},
     "output_type": "execute_result"
    }
   ],
   "source": [
    "df = pd.read_csv(\"data_2017.csv\").set_index(\"Country Name\")\n",
    "df.head()"
   ]
  },
  {
   "cell_type": "code",
   "execution_count": 43,
   "id": "7a45ac70",
   "metadata": {},
   "outputs": [],
   "source": [
    "energy_group=['EG.CFT.ACCS.ZS', 'EG.EGY.PRIM.PP.KD', 'EG.FEC.RNEW.ZS']\n",
    "\n",
    "pop_group=['SP.ADO.TFRT','SP.DYN.CDRT.IN','SL.EMP.1524.SP.FE.ZS','SP.POP.GROW','SP.RUR.TOTL.ZS','SP.RUR.TOTL.ZG']\n",
    "\n",
    "econ_group=['NY.GDP.FRST.RT.ZS','NY.GDP.MKTP.KD.ZG','NY.GDP.PCAP.KD','NY.GDP.PCAP.PP.KD','NY.GDP.FCST.KD','NY.GDP.MINR.RT.ZS']\n",
    "\n",
    "agr_group=['NV.AGR.TOTL.ZS', 'NV.AGR.TOTL.KD.ZG', 'NV.AGR.EMPL.KD']\n",
    "\n",
    "trade_transport_group=['TX.VAL.FUEL.ZS.UN', 'TX.VAL.MRCH.AL.ZS','TX.VAL.MRCH.R6.ZS','TM.VAL.MRCH.AL.ZS','TM.VAL.MRCH.R3.ZS',\n",
    "                       'TX.VAL.MMTL.ZS.UN','TM.VAL.MMTL.ZS.UN']"
   ]
  },
  {
   "cell_type": "code",
   "execution_count": 44,
   "id": "e54294a3",
   "metadata": {},
   "outputs": [],
   "source": [
    "# save our target (CO2 emissions metric tons per capita) in a separate dataframe \"Co2_mpc\" and drop it from the dataframe as well\n",
    "target = 'EN.ATM.CO2E.PC' \n",
    "Co2_mpc = df[target]"
   ]
  },
  {
   "cell_type": "code",
   "execution_count": 45,
   "id": "84e3a5d3",
   "metadata": {},
   "outputs": [],
   "source": [
    "#We now group all features into one list\n",
    "large_group=[]\n",
    "large_group.extend(pop_group)\n",
    "large_group.extend(energy_group)\n",
    "large_group.extend(econ_group)\n",
    "large_group.extend(agr_group)\n",
    "large_group.extend(trade_transport_group)"
   ]
  },
  {
   "cell_type": "code",
   "execution_count": 46,
   "id": "596c9d2b",
   "metadata": {},
   "outputs": [],
   "source": [
    "df=df[large_group]"
   ]
  },
  {
   "cell_type": "code",
   "execution_count": 47,
   "id": "e6256509",
   "metadata": {},
   "outputs": [],
   "source": [
    "df[energy_group]=ss.fit_transform(df[energy_group])\n",
    "\n",
    "df[pop_group]=ss.fit_transform(df[pop_group])\n",
    "\n",
    "for col in econ_group:\n",
    "    df[col]= qt.fit_transform(df[[col]])\n",
    "df[econ_group]=ss.fit_transform(df[econ_group])\n",
    "\n",
    "df[agr_group]=ss.fit_transform(df[agr_group])\n",
    "\n",
    "df[trade_transport_group]=ss.fit_transform(df[trade_transport_group])\n"
   ]
  },
  {
   "cell_type": "code",
   "execution_count": 48,
   "id": "112a5881",
   "metadata": {},
   "outputs": [
    {
     "data": {
      "text/html": [
       "<div>\n",
       "<style scoped>\n",
       "    .dataframe tbody tr th:only-of-type {\n",
       "        vertical-align: middle;\n",
       "    }\n",
       "\n",
       "    .dataframe tbody tr th {\n",
       "        vertical-align: top;\n",
       "    }\n",
       "\n",
       "    .dataframe thead th {\n",
       "        text-align: right;\n",
       "    }\n",
       "</style>\n",
       "<table border=\"1\" class=\"dataframe\">\n",
       "  <thead>\n",
       "    <tr style=\"text-align: right;\">\n",
       "      <th></th>\n",
       "      <th>SP.ADO.TFRT</th>\n",
       "      <th>SP.DYN.CDRT.IN</th>\n",
       "      <th>SL.EMP.1524.SP.FE.ZS</th>\n",
       "      <th>SP.POP.GROW</th>\n",
       "      <th>SP.RUR.TOTL.ZS</th>\n",
       "      <th>SP.RUR.TOTL.ZG</th>\n",
       "      <th>EG.CFT.ACCS.ZS</th>\n",
       "      <th>EG.EGY.PRIM.PP.KD</th>\n",
       "      <th>EG.FEC.RNEW.ZS</th>\n",
       "      <th>NY.GDP.FRST.RT.ZS</th>\n",
       "      <th>...</th>\n",
       "      <th>NV.AGR.TOTL.ZS</th>\n",
       "      <th>NV.AGR.TOTL.KD.ZG</th>\n",
       "      <th>NV.AGR.EMPL.KD</th>\n",
       "      <th>TX.VAL.FUEL.ZS.UN</th>\n",
       "      <th>TX.VAL.MRCH.AL.ZS</th>\n",
       "      <th>TX.VAL.MRCH.R6.ZS</th>\n",
       "      <th>TM.VAL.MRCH.AL.ZS</th>\n",
       "      <th>TM.VAL.MRCH.R3.ZS</th>\n",
       "      <th>TX.VAL.MMTL.ZS.UN</th>\n",
       "      <th>TM.VAL.MMTL.ZS.UN</th>\n",
       "    </tr>\n",
       "    <tr>\n",
       "      <th>Country Name</th>\n",
       "      <th></th>\n",
       "      <th></th>\n",
       "      <th></th>\n",
       "      <th></th>\n",
       "      <th></th>\n",
       "      <th></th>\n",
       "      <th></th>\n",
       "      <th></th>\n",
       "      <th></th>\n",
       "      <th></th>\n",
       "      <th></th>\n",
       "      <th></th>\n",
       "      <th></th>\n",
       "      <th></th>\n",
       "      <th></th>\n",
       "      <th></th>\n",
       "      <th></th>\n",
       "      <th></th>\n",
       "      <th></th>\n",
       "      <th></th>\n",
       "      <th></th>\n",
       "    </tr>\n",
       "  </thead>\n",
       "  <tbody>\n",
       "    <tr>\n",
       "      <th>Afghanistan</th>\n",
       "      <td>1.135787</td>\n",
       "      <td>-0.226132</td>\n",
       "      <td>-0.984423</td>\n",
       "      <td>1.303832</td>\n",
       "      <td>1.478913</td>\n",
       "      <td>1.585906</td>\n",
       "      <td>-1.074394</td>\n",
       "      <td>-0.906149</td>\n",
       "      <td>-0.322888</td>\n",
       "      <td>0.305170</td>\n",
       "      <td>...</td>\n",
       "      <td>1.658964</td>\n",
       "      <td>0.435309</td>\n",
       "      <td>-0.575279</td>\n",
       "      <td>-0.324100</td>\n",
       "      <td>-0.154795</td>\n",
       "      <td>-0.399514</td>\n",
       "      <td>-0.433400</td>\n",
       "      <td>-0.584067</td>\n",
       "      <td>-0.501173</td>\n",
       "      <td>0.020757</td>\n",
       "    </tr>\n",
       "    <tr>\n",
       "      <th>Albania</th>\n",
       "      <td>-0.734148</td>\n",
       "      <td>0.198952</td>\n",
       "      <td>-0.805492</td>\n",
       "      <td>-0.927652</td>\n",
       "      <td>0.047635</td>\n",
       "      <td>-1.709110</td>\n",
       "      <td>0.283085</td>\n",
       "      <td>-0.771578</td>\n",
       "      <td>0.305368</td>\n",
       "      <td>0.167959</td>\n",
       "      <td>...</td>\n",
       "      <td>0.915980</td>\n",
       "      <td>-0.254814</td>\n",
       "      <td>-0.381453</td>\n",
       "      <td>-0.527921</td>\n",
       "      <td>-0.457382</td>\n",
       "      <td>-0.462957</td>\n",
       "      <td>-0.363325</td>\n",
       "      <td>-0.381457</td>\n",
       "      <td>-0.152441</td>\n",
       "      <td>-0.751475</td>\n",
       "    </tr>\n",
       "    <tr>\n",
       "      <th>Algeria</th>\n",
       "      <td>-0.828282</td>\n",
       "      <td>-1.166766</td>\n",
       "      <td>-1.747756</td>\n",
       "      <td>0.617830</td>\n",
       "      <td>-0.483607</td>\n",
       "      <td>-0.197454</td>\n",
       "      <td>0.836540</td>\n",
       "      <td>0.090407</td>\n",
       "      <td>-1.023358</td>\n",
       "      <td>0.245250</td>\n",
       "      <td>...</td>\n",
       "      <td>0.113524</td>\n",
       "      <td>-0.863807</td>\n",
       "      <td>0.253081</td>\n",
       "      <td>3.875669</td>\n",
       "      <td>-0.066901</td>\n",
       "      <td>-0.437329</td>\n",
       "      <td>0.637639</td>\n",
       "      <td>0.197130</td>\n",
       "      <td>-0.556752</td>\n",
       "      <td>-0.355348</td>\n",
       "    </tr>\n",
       "    <tr>\n",
       "      <th>American Samoa</th>\n",
       "      <td>-0.265758</td>\n",
       "      <td>-0.955549</td>\n",
       "      <td>-0.109145</td>\n",
       "      <td>-2.345566</td>\n",
       "      <td>-1.117541</td>\n",
       "      <td>-1.258082</td>\n",
       "      <td>0.514379</td>\n",
       "      <td>-0.255114</td>\n",
       "      <td>-1.016136</td>\n",
       "      <td>-2.451600</td>\n",
       "      <td>...</td>\n",
       "      <td>-0.340533</td>\n",
       "      <td>0.037246</td>\n",
       "      <td>-0.359373</td>\n",
       "      <td>-0.404797</td>\n",
       "      <td>-0.290829</td>\n",
       "      <td>0.177656</td>\n",
       "      <td>-0.420803</td>\n",
       "      <td>-0.571674</td>\n",
       "      <td>-0.351283</td>\n",
       "      <td>-0.305252</td>\n",
       "    </tr>\n",
       "    <tr>\n",
       "      <th>Andorra</th>\n",
       "      <td>-0.992263</td>\n",
       "      <td>-0.179762</td>\n",
       "      <td>-0.109145</td>\n",
       "      <td>0.478426</td>\n",
       "      <td>-1.158635</td>\n",
       "      <td>1.616133</td>\n",
       "      <td>0.844800</td>\n",
       "      <td>-0.960705</td>\n",
       "      <td>-0.377048</td>\n",
       "      <td>-2.451600</td>\n",
       "      <td>...</td>\n",
       "      <td>-0.938208</td>\n",
       "      <td>0.582589</td>\n",
       "      <td>-0.359373</td>\n",
       "      <td>-0.565606</td>\n",
       "      <td>-0.335198</td>\n",
       "      <td>-0.399514</td>\n",
       "      <td>-0.420803</td>\n",
       "      <td>-0.359945</td>\n",
       "      <td>-0.351283</td>\n",
       "      <td>-0.774679</td>\n",
       "    </tr>\n",
       "  </tbody>\n",
       "</table>\n",
       "<p>5 rows × 25 columns</p>\n",
       "</div>"
      ],
      "text/plain": [
       "                SP.ADO.TFRT  SP.DYN.CDRT.IN  SL.EMP.1524.SP.FE.ZS  \\\n",
       "Country Name                                                        \n",
       "Afghanistan        1.135787       -0.226132             -0.984423   \n",
       "Albania           -0.734148        0.198952             -0.805492   \n",
       "Algeria           -0.828282       -1.166766             -1.747756   \n",
       "American Samoa    -0.265758       -0.955549             -0.109145   \n",
       "Andorra           -0.992263       -0.179762             -0.109145   \n",
       "\n",
       "                SP.POP.GROW  SP.RUR.TOTL.ZS  SP.RUR.TOTL.ZG  EG.CFT.ACCS.ZS  \\\n",
       "Country Name                                                                  \n",
       "Afghanistan        1.303832        1.478913        1.585906       -1.074394   \n",
       "Albania           -0.927652        0.047635       -1.709110        0.283085   \n",
       "Algeria            0.617830       -0.483607       -0.197454        0.836540   \n",
       "American Samoa    -2.345566       -1.117541       -1.258082        0.514379   \n",
       "Andorra            0.478426       -1.158635        1.616133        0.844800   \n",
       "\n",
       "                EG.EGY.PRIM.PP.KD  EG.FEC.RNEW.ZS  NY.GDP.FRST.RT.ZS  ...  \\\n",
       "Country Name                                                          ...   \n",
       "Afghanistan             -0.906149       -0.322888           0.305170  ...   \n",
       "Albania                 -0.771578        0.305368           0.167959  ...   \n",
       "Algeria                  0.090407       -1.023358           0.245250  ...   \n",
       "American Samoa          -0.255114       -1.016136          -2.451600  ...   \n",
       "Andorra                 -0.960705       -0.377048          -2.451600  ...   \n",
       "\n",
       "                NV.AGR.TOTL.ZS  NV.AGR.TOTL.KD.ZG  NV.AGR.EMPL.KD  \\\n",
       "Country Name                                                        \n",
       "Afghanistan           1.658964           0.435309       -0.575279   \n",
       "Albania               0.915980          -0.254814       -0.381453   \n",
       "Algeria               0.113524          -0.863807        0.253081   \n",
       "American Samoa       -0.340533           0.037246       -0.359373   \n",
       "Andorra              -0.938208           0.582589       -0.359373   \n",
       "\n",
       "                TX.VAL.FUEL.ZS.UN  TX.VAL.MRCH.AL.ZS  TX.VAL.MRCH.R6.ZS  \\\n",
       "Country Name                                                              \n",
       "Afghanistan             -0.324100          -0.154795          -0.399514   \n",
       "Albania                 -0.527921          -0.457382          -0.462957   \n",
       "Algeria                  3.875669          -0.066901          -0.437329   \n",
       "American Samoa          -0.404797          -0.290829           0.177656   \n",
       "Andorra                 -0.565606          -0.335198          -0.399514   \n",
       "\n",
       "                TM.VAL.MRCH.AL.ZS  TM.VAL.MRCH.R3.ZS  TX.VAL.MMTL.ZS.UN  \\\n",
       "Country Name                                                              \n",
       "Afghanistan             -0.433400          -0.584067          -0.501173   \n",
       "Albania                 -0.363325          -0.381457          -0.152441   \n",
       "Algeria                  0.637639           0.197130          -0.556752   \n",
       "American Samoa          -0.420803          -0.571674          -0.351283   \n",
       "Andorra                 -0.420803          -0.359945          -0.351283   \n",
       "\n",
       "                TM.VAL.MMTL.ZS.UN  \n",
       "Country Name                       \n",
       "Afghanistan              0.020757  \n",
       "Albania                 -0.751475  \n",
       "Algeria                 -0.355348  \n",
       "American Samoa          -0.305252  \n",
       "Andorra                 -0.774679  \n",
       "\n",
       "[5 rows x 25 columns]"
      ]
     },
     "execution_count": 48,
     "metadata": {},
     "output_type": "execute_result"
    }
   ],
   "source": [
    "df.head()"
   ]
  },
  {
   "cell_type": "code",
   "execution_count": 49,
   "id": "ce1dd807",
   "metadata": {},
   "outputs": [],
   "source": [
    "filepath='linear_regression_model.pkl'\n",
    "if not os.path.exists(filepath):\n",
    "    raise FileNotFoundError(f\"Model file {filepath} not found!\")\n",
    "\n",
    "with open(filepath, 'rb') as file:\n",
    "    model = pickle.load(file)"
   ]
  },
  {
   "cell_type": "code",
   "execution_count": 50,
   "id": "939b947e",
   "metadata": {},
   "outputs": [],
   "source": [
    "X_test=df\n",
    "y_pred = model.predict(X_test)\n",
    "y_pred=[max(y_pred[i],0) for i in range(len(y_pred))]"
   ]
  },
  {
   "cell_type": "code",
   "execution_count": 51,
   "id": "5e95b99f",
   "metadata": {},
   "outputs": [
    {
     "data": {
      "text/html": [
       "<div>\n",
       "<style scoped>\n",
       "    .dataframe tbody tr th:only-of-type {\n",
       "        vertical-align: middle;\n",
       "    }\n",
       "\n",
       "    .dataframe tbody tr th {\n",
       "        vertical-align: top;\n",
       "    }\n",
       "\n",
       "    .dataframe thead th {\n",
       "        text-align: right;\n",
       "    }\n",
       "</style>\n",
       "<table border=\"1\" class=\"dataframe\">\n",
       "  <thead>\n",
       "    <tr style=\"text-align: right;\">\n",
       "      <th></th>\n",
       "      <th>True value</th>\n",
       "      <th>Prediction</th>\n",
       "    </tr>\n",
       "    <tr>\n",
       "      <th>Country Name</th>\n",
       "      <th></th>\n",
       "      <th></th>\n",
       "    </tr>\n",
       "  </thead>\n",
       "  <tbody>\n",
       "    <tr>\n",
       "      <th>Afghanistan</th>\n",
       "      <td>0.281196</td>\n",
       "      <td>0.000000</td>\n",
       "    </tr>\n",
       "    <tr>\n",
       "      <th>Albania</th>\n",
       "      <td>1.880557</td>\n",
       "      <td>0.923588</td>\n",
       "    </tr>\n",
       "    <tr>\n",
       "      <th>Algeria</th>\n",
       "      <td>3.833681</td>\n",
       "      <td>10.829459</td>\n",
       "    </tr>\n",
       "    <tr>\n",
       "      <th>American Samoa</th>\n",
       "      <td>2.547316</td>\n",
       "      <td>2.667459</td>\n",
       "    </tr>\n",
       "    <tr>\n",
       "      <th>Andorra</th>\n",
       "      <td>6.302098</td>\n",
       "      <td>2.100769</td>\n",
       "    </tr>\n",
       "  </tbody>\n",
       "</table>\n",
       "</div>"
      ],
      "text/plain": [
       "                True value  Prediction\n",
       "Country Name                          \n",
       "Afghanistan       0.281196    0.000000\n",
       "Albania           1.880557    0.923588\n",
       "Algeria           3.833681   10.829459\n",
       "American Samoa    2.547316    2.667459\n",
       "Andorra           6.302098    2.100769"
      ]
     },
     "execution_count": 51,
     "metadata": {},
     "output_type": "execute_result"
    }
   ],
   "source": [
    "df_result = pd.DataFrame(Co2_mpc)\n",
    "df_result.rename({'EN.ATM.CO2E.PC': 'True value'}, axis=1, inplace=True)\n",
    "df_result['Prediction'] = y_pred\n",
    "df_result.head()"
   ]
  },
  {
   "cell_type": "code",
   "execution_count": 52,
   "id": "baca686f",
   "metadata": {},
   "outputs": [
    {
     "data": {
      "text/plain": [
       "[<matplotlib.lines.Line2D at 0x13d361f90>]"
      ]
     },
     "execution_count": 52,
     "metadata": {},
     "output_type": "execute_result"
    },
    {
     "data": {
      "image/png": "[encoded data removed]",
      "text/plain": [
       "<Figure size 640x480 with 1 Axes>"
      ]
     },
     "metadata": {},
     "output_type": "display_data"
    }
   ],
   "source": [
    "plt.plot(y_pred,Co2_mpc,'.')"
   ]
  },
  {
   "cell_type": "code",
   "execution_count": 53,
   "id": "bee1268d",
   "metadata": {},
   "outputs": [
    {
     "data": {
      "application/vnd.plotly.v1+json": {
       "config": {
        "plotlyServerURL": "https://plot.ly"
       },
       "data": [
        {
         "hovertemplate": "variable=True value<br>Country Name=%{x}<br>value=%{y}<extra></extra>",
         "legendgroup": "True value",
         "line": {
          "color": "#636efa",
          "dash": "solid"
         },
         "marker": {
          "symbol": "circle"
         },
         "mode": "lines+markers",
         "name": "True value",
         "orientation": "v",
         "showlegend": true,
         "type": "scatter",
         "x": [
          "Afghanistan",
          "Albania",
          "Algeria",
          "American Samoa",
          "Andorra",
          "Angola",
          "Antigua and Barbuda",
          "Argentina",
          "Armenia",
          "Aruba",
          "Australia",
          "Austria",
          "Azerbaijan",
          "Bahamas, The",
          "Bahrain",
          "Bangladesh",
          "Barbados",
          "Belarus",
          "Belgium",
          "Belize",
          "Benin",
          "Bermuda",
          "Bhutan",
          "Bolivia",
          "Bosnia and Herzegovina",
          "Botswana",
          "Brazil",
          "British Virgin Islands",
          "Brunei Darussalam",
          "Bulgaria",
          "Burkina Faso",
          "Burundi",
          "Cabo Verde",
          "Cambodia",
          "Cameroon",
          "Canada",
          "Cayman Islands",
          "Central African Republic",
          "Chad",
          "Channel Islands",
          "Chile",
          "China",
          "Colombia",
          "Comoros",
          "Congo, Dem. Rep.",
          "Congo, Rep.",
          "Costa Rica",
          "Cote d'Ivoire",
          "Croatia",
          "Cuba",
          "Curacao",
          "Cyprus",
          "Czechia",
          "Denmark",
          "Djibouti",
          "Dominica",
          "Dominican Republic",
          "Ecuador",
          "Egypt, Arab Rep.",
          "El Salvador",
          "Equatorial Guinea",
          "Eritrea",
          "Estonia",
          "Eswatini",
          "Ethiopia",
          "Faroe Islands",
          "Fiji",
          "Finland",
          "France",
          "French Polynesia",
          "Gabon",
          "Gambia, The",
          "Georgia",
          "Germany",
          "Ghana",
          "Gibraltar",
          "Greece",
          "Greenland",
          "Grenada",
          "Guam",
          "Guatemala",
          "Guinea",
          "Guinea-Bissau",
          "Guyana",
          "Haiti",
          "Honduras",
          "Hong Kong SAR, China",
          "Hungary",
          "Iceland",
          "India",
          "Indonesia",
          "Iran, Islamic Rep.",
          "Iraq",
          "Ireland",
          "Isle of Man",
          "Israel",
          "Italy",
          "Jamaica",
          "Japan",
          "Jordan",
          "Kazakhstan",
          "Kenya",
          "Kiribati",
          "Korea, Dem. People's Rep.",
          "Korea, Rep.",
          "Kosovo",
          "Kuwait",
          "Kyrgyz Republic",
          "Lao PDR",
          "Latvia",
          "Lebanon",
          "Lesotho",
          "Liberia",
          "Libya",
          "Liechtenstein",
          "Lithuania",
          "Luxembourg",
          "Macao SAR, China",
          "Madagascar",
          "Malawi",
          "Malaysia",
          "Maldives",
          "Mali",
          "Malta",
          "Marshall Islands",
          "Mauritania",
          "Mauritius",
          "Mexico",
          "Micronesia, Fed. Sts.",
          "Moldova",
          "Monaco",
          "Mongolia",
          "Montenegro",
          "Morocco",
          "Mozambique",
          "Myanmar",
          "Namibia",
          "Nauru",
          "Nepal",
          "Netherlands",
          "New Caledonia",
          "New Zealand",
          "Nicaragua",
          "Niger",
          "Nigeria",
          "North Macedonia",
          "Northern Mariana Islands",
          "Norway",
          "Oman",
          "Pakistan",
          "Palau",
          "Panama",
          "Papua New Guinea",
          "Paraguay",
          "Peru",
          "Philippines",
          "Poland",
          "Portugal",
          "Puerto Rico",
          "Qatar",
          "Romania",
          "Russian Federation",
          "Rwanda",
          "Samoa",
          "San Marino",
          "Sao Tome and Principe",
          "Saudi Arabia",
          "Senegal",
          "Serbia",
          "Seychelles",
          "Sierra Leone",
          "Singapore",
          "Sint Maarten (Dutch part)",
          "Slovak Republic",
          "Slovenia",
          "Solomon Islands",
          "Somalia",
          "South Africa",
          "South Sudan",
          "Spain",
          "Sri Lanka",
          "St. Kitts and Nevis",
          "St. Lucia",
          "St. Martin (French part)",
          "St. Vincent and the Grenadines",
          "Sudan",
          "Suriname",
          "Sweden",
          "Switzerland",
          "Syrian Arab Republic",
          "Tajikistan",
          "Tanzania",
          "Thailand",
          "Timor-Leste",
          "Togo",
          "Tonga",
          "Trinidad and Tobago",
          "Tunisia",
          "Turkiye",
          "Turkmenistan",
          "Turks and Caicos Islands",
          "Tuvalu",
          "Uganda",
          "Ukraine",
          "United Arab Emirates",
          "United Kingdom",
          "United States",
          "Uruguay",
          "Uzbekistan",
          "Vanuatu",
          "Venezuela, RB",
          "Viet Nam",
          "Virgin Islands (U.S.)",
          "West Bank and Gaza",
          "Yemen, Rep.",
          "Zambia",
          "Zimbabwe"
         ],
         "xaxis": "x",
         "y": [
          0.281195815732375,
          1.88055711291312,
          3.83368112626665,
          2.54731566057105,
          6.30209786421442,
          0.829723216824015,
          5.48842722154545,
          4.07011168693629,
          1.88339587008485,
          2.54731566057105,
          16.1491503049618,
          7.48703675539348,
          3.24303764763118,
          5.43882512154779,
          20.9460377778113,
          0.541787825904309,
          4.22645037197291,
          5.94640716888454,
          8.13943859065518,
          1.71633844240485,
          0.592940505290305,
          2.54731566057105,
          1.73186566700303,
          1.89131542884796,
          6.59666334014239,
          3.05495453485661,
          2.18548661863967,
          2.54731566057105,
          16.9430783961922,
          6.20201084038645,
          0.233173679706721,
          0.0474291236691765,
          1.0349515181767,
          0.799744091997512,
          0.372071194814649,
          15.5472632085172,
          2.54731566057105,
          0.0445090109733524,
          0.0986485114163678,
          2.54731566057105,
          4.74380241866313,
          7.22616015441748,
          1.56507517599547,
          0.366303251827578,
          0.0337552149879134,
          1.01776241731516,
          1.63671577915361,
          0.425136558186376,
          4.22057683649365,
          2.31478144967474,
          2.54731566057105,
          6.09107149801866,
          9.77398706755375,
          5.75613445319845,
          0.387797733776952,
          2.35217249264946,
          2.21196208145507,
          2.30876380731708,
          2.40241649556664,
          1.01248608906763,
          3.70119404919301,
          0.171174998152745,
          12.7324303316269,
          0.960404380791912,
          0.146790211829337,
          2.54731566057105,
          1.44839225304373,
          7.80931895529113,
          4.74791692880333,
          2.54731566057105,
          2.4972724702892,
          0.252941606311487,
          2.65748105420488,
          8.8583445114547,
          0.500789782048743,
          2.54731566057105,
          6.21083158316487,
          2.54731566057105,
          2.37758536565195,
          2.54731566057105,
          1.02751728089616,
          0.271355057259789,
          0.16310020182719,
          3.24113136945596,
          0.30618371925255,
          0.974047356339701,
          2.54731566057105,
          5.05210173390467,
          4.86604542807222,
          1.70492672078233,
          1.94857443086369,
          7.41290262847642,
          3.94880897233655,
          7.84814955647433,
          2.54731566057105,
          7.56387361849127,
          5.43791206092819,
          2.57266121060713,
          9.06369120751032,
          2.54731566057105,
          11.9137581041033,
          0.41058150997657,
          0.60401123278111,
          2.12750106098759,
          12.1914934200949,
          2.54731566057105,
          21.9104008238737,
          1.52286147591236,
          2.72288168036289,
          3.66415617367092,
          4.77487260306172,
          1.10673601100517,
          0.264435600737267,
          8.16760242329375,
          4.1112037002824,
          3.96768070179532,
          15.1030627029057,
          2.54731566057105,
          0.133017230488787,
          0.0779926724021984,
          7.03982567319804,
          3.27257102459138,
          0.187961952954622,
          3.25043429579978,
          3.16400703583614,
          0.819299930408905,
          3.30021575049787,
          3.86275941197886,
          1.32844335778321,
          2.92684095356072,
          2.54731566057105,
          6.32277465011644,
          3.64251019886788,
          1.7736629145678,
          0.250697939802182,
          0.621496099866699,
          1.78639850389125,
          4.79369970895395,
          0.470677340646946,
          9.08926563407696,
          2.54731566057105,
          6.84049360146252,
          0.837724433734761,
          0.0874508612184734,
          0.560638215463648,
          3.91655786168855,
          2.54731566057105,
          7.42375166951931,
          15.7717971559632,
          0.918472672488548,
          11.9414699781353,
          2.47466896871459,
          0.713597978495624,
          1.24632517460731,
          1.71724301281113,
          1.25031454207887,
          8.23624313643991,
          5.1719561566168,
          2.54731566057105,
          32.2566382287485,
          3.78830872775473,
          10.9747024741547,
          0.102654554383161,
          1.22910947358282,
          2.54731566057105,
          0.64604203118691,
          16.0777919021258,
          0.646584895307648,
          6.7431359528992,
          5.95452980395021,
          0.145879585519628,
          8.43229982682534,
          2.54731566057105,
          6.17302222078411,
          6.83497000563302,
          0.458335016484524,
          0.0440588174785614,
          7.68370781068603,
          0.141871639801971,
          5.68159077854133,
          1.0759613709386,
          5.08527780684315,
          2.99667537804169,
          2.54731566057105,
          2.13265876512331,
          0.530471761090042,
          4.16014391746191,
          3.79492404723228,
          4.57876628047857,
          1.35878908347847,
          0.757120729592937,
          0.207213701977385,
          3.76789668093416,
          0.451885604893685,
          0.257067706466296,
          1.26073139496277,
          12.3255875293435,
          2.60278104885237,
          5.20587915001934,
          10.7016590590785,
          2.54731566057105,
          0.711119320280754,
          0.128890498774082,
          3.89784637772829,
          21.1654979061116,
          5.55329149720857,
          14.8232454359428,
          1.78358950382795,
          3.38725662733184,
          0.485806524967354,
          4.57368123535075,
          2.44464478063074,
          2.54731566057105,
          2.54731566057105,
          0.322370466733983,
          0.393726369451731,
          0.663069149889218
         ],
         "yaxis": "y"
        },
        {
         "hovertemplate": "variable=Prediction<br>Country Name=%{x}<br>value=%{y}<extra></extra>",
         "legendgroup": "Prediction",
         "line": {
          "color": "#EF553B",
          "dash": "solid"
         },
         "marker": {
          "symbol": "circle"
         },
         "mode": "lines+markers",
         "name": "Prediction",
         "orientation": "v",
         "showlegend": true,
         "type": "scatter",
         "x": [
          "Afghanistan",
          "Albania",
          "Algeria",
          "American Samoa",
          "Andorra",
          "Angola",
          "Antigua and Barbuda",
          "Argentina",
          "Armenia",
          "Aruba",
          "Australia",
          "Austria",
          "Azerbaijan",
          "Bahamas, The",
          "Bahrain",
          "Bangladesh",
          "Barbados",
          "Belarus",
          "Belgium",
          "Belize",
          "Benin",
          "Bermuda",
          "Bhutan",
          "Bolivia",
          "Bosnia and Herzegovina",
          "Botswana",
          "Brazil",
          "British Virgin Islands",
          "Brunei Darussalam",
          "Bulgaria",
          "Burkina Faso",
          "Burundi",
          "Cabo Verde",
          "Cambodia",
          "Cameroon",
          "Canada",
          "Cayman Islands",
          "Central African Republic",
          "Chad",
          "Channel Islands",
          "Chile",
          "China",
          "Colombia",
          "Comoros",
          "Congo, Dem. Rep.",
          "Congo, Rep.",
          "Costa Rica",
          "Cote d'Ivoire",
          "Croatia",
          "Cuba",
          "Curacao",
          "Cyprus",
          "Czechia",
          "Denmark",
          "Djibouti",
          "Dominica",
          "Dominican Republic",
          "Ecuador",
          "Egypt, Arab Rep.",
          "El Salvador",
          "Equatorial Guinea",
          "Eritrea",
          "Estonia",
          "Eswatini",
          "Ethiopia",
          "Faroe Islands",
          "Fiji",
          "Finland",
          "France",
          "French Polynesia",
          "Gabon",
          "Gambia, The",
          "Georgia",
          "Germany",
          "Ghana",
          "Gibraltar",
          "Greece",
          "Greenland",
          "Grenada",
          "Guam",
          "Guatemala",
          "Guinea",
          "Guinea-Bissau",
          "Guyana",
          "Haiti",
          "Honduras",
          "Hong Kong SAR, China",
          "Hungary",
          "Iceland",
          "India",
          "Indonesia",
          "Iran, Islamic Rep.",
          "Iraq",
          "Ireland",
          "Isle of Man",
          "Israel",
          "Italy",
          "Jamaica",
          "Japan",
          "Jordan",
          "Kazakhstan",
          "Kenya",
          "Kiribati",
          "Korea, Dem. People's Rep.",
          "Korea, Rep.",
          "Kosovo",
          "Kuwait",
          "Kyrgyz Republic",
          "Lao PDR",
          "Latvia",
          "Lebanon",
          "Lesotho",
          "Liberia",
          "Libya",
          "Liechtenstein",
          "Lithuania",
          "Luxembourg",
          "Macao SAR, China",
          "Madagascar",
          "Malawi",
          "Malaysia",
          "Maldives",
          "Mali",
          "Malta",
          "Marshall Islands",
          "Mauritania",
          "Mauritius",
          "Mexico",
          "Micronesia, Fed. Sts.",
          "Moldova",
          "Monaco",
          "Mongolia",
          "Montenegro",
          "Morocco",
          "Mozambique",
          "Myanmar",
          "Namibia",
          "Nauru",
          "Nepal",
          "Netherlands",
          "New Caledonia",
          "New Zealand",
          "Nicaragua",
          "Niger",
          "Nigeria",
          "North Macedonia",
          "Northern Mariana Islands",
          "Norway",
          "Oman",
          "Pakistan",
          "Palau",
          "Panama",
          "Papua New Guinea",
          "Paraguay",
          "Peru",
          "Philippines",
          "Poland",
          "Portugal",
          "Puerto Rico",
          "Qatar",
          "Romania",
          "Russian Federation",
          "Rwanda",
          "Samoa",
          "San Marino",
          "Sao Tome and Principe",
          "Saudi Arabia",
          "Senegal",
          "Serbia",
          "Seychelles",
          "Sierra Leone",
          "Singapore",
          "Sint Maarten (Dutch part)",
          "Slovak Republic",
          "Slovenia",
          "Solomon Islands",
          "Somalia",
          "South Africa",
          "South Sudan",
          "Spain",
          "Sri Lanka",
          "St. Kitts and Nevis",
          "St. Lucia",
          "St. Martin (French part)",
          "St. Vincent and the Grenadines",
          "Sudan",
          "Suriname",
          "Sweden",
          "Switzerland",
          "Syrian Arab Republic",
          "Tajikistan",
          "Tanzania",
          "Thailand",
          "Timor-Leste",
          "Togo",
          "Tonga",
          "Trinidad and Tobago",
          "Tunisia",
          "Turkiye",
          "Turkmenistan",
          "Turks and Caicos Islands",
          "Tuvalu",
          "Uganda",
          "Ukraine",
          "United Arab Emirates",
          "United Kingdom",
          "United States",
          "Uruguay",
          "Uzbekistan",
          "Vanuatu",
          "Venezuela, RB",
          "Viet Nam",
          "Virgin Islands (U.S.)",
          "West Bank and Gaza",
          "Yemen, Rep.",
          "Zambia",
          "Zimbabwe"
         ],
         "xaxis": "x",
         "y": [
          0,
          0.9235875986273041,
          10.829459343948972,
          2.667459418284201,
          2.1007685034329993,
          4.3996963583501065,
          3.522954912583297,
          4.2861741005455185,
          2.1959409032758943,
          3.702373617876761,
          10.212885869385326,
          6.049565580203822,
          9.770424790018751,
          4.856190795965135,
          13.836373870921488,
          0,
          3.9854321904122183,
          7.14052901188712,
          7.324713148687287,
          1.3124034858773213,
          0,
          3.889979282696455,
          2.723006698947453,
          3.5259335382815946,
          4.649024469980294,
          3.648247633536436,
          3.887459236065533,
          4.646712559821295,
          13.81181321140481,
          6.391540404674833,
          0,
          0,
          0.8655738634106056,
          0,
          1.258983730422977,
          10.343170812673621,
          5.31261240993714,
          0,
          0,
          3.903717530291677,
          2.732429334735005,
          8.815005911716497,
          5.3213625955767325,
          0,
          0,
          2.5300080370297535,
          3.4215453017955744,
          0,
          4.323698544647005,
          1.4147440254087842,
          8.62913762933523,
          6.803655577767149,
          5.069218015528351,
          5.492325261130263,
          3.1426269376428007,
          2.686191090890312,
          3.6385480268365944,
          4.1183388119410544,
          5.494877635833495,
          1.7911539273818367,
          2.5626772251229557,
          3.1633596458796767,
          5.315450782563152,
          0.1388600453041744,
          1.375126933349689,
          4.2725544790737136,
          1.4143594927693401,
          7.213750367983785,
          6.593361609248696,
          2.3339644282423415,
          5.219137976665619,
          2.843704757143119,
          3.0725177713470986,
          5.88523500505509,
          1.9472218458595245,
          4.766721359941741,
          7.17785205963376,
          3.7701925934453477,
          0.8913954372274921,
          3.1339360082216228,
          0.14840267568126686,
          0,
          0,
          2.506764395639655,
          0,
          0.40535154720204236,
          4.897394725279597,
          4.5419046499200775,
          10.498628642369175,
          3.9548292544827506,
          4.035327931702575,
          10.517211429300271,
          2.6437724721926945,
          6.400628427932217,
          3.2814480432331554,
          7.5896391434628026,
          5.422337567022913,
          2.90450325404108,
          6.801778660441816,
          5.857829265638137,
          9.831132142115077,
          0.866218680229458,
          1.4910608040308304,
          6.11295579561898,
          8.131036846584719,
          1.8241590773647007,
          13.413379255433052,
          1.8785548352203416,
          2.2163909215365845,
          2.533013867674965,
          5.880057681657301,
          0.47836969245512284,
          0,
          10.55590463063155,
          1.7996837166640707,
          3.7560555579103934,
          8.35540782564162,
          8.532644338579265,
          0,
          0,
          7.843870629226517,
          5.2494752929400015,
          0,
          5.830194380595305,
          4.289555970439334,
          0.514655682591457,
          3.0519252516862614,
          3.926916579654226,
          2.511496560537763,
          2.0660480537989696,
          3.656992178157312,
          5.407748127695164,
          3.1144842126984846,
          3.1921432441066906,
          4.3747320341993134,
          1.271827418304936,
          5.0222796943773105,
          4.036254438561724,
          0,
          9.899865677981834,
          8.148504625581563,
          6.171542288587004,
          0,
          0,
          4.977675527690913,
          6.0140822544067785,
          2.776855759991613,
          11.352566025992164,
          16.88274880516331,
          1.5475842654344896,
          6.25870645125806,
          1.8507126410610253,
          0.958302532224546,
          1.178301721230297,
          1.7479272141170026,
          1.6030301252890937,
          4.771727733339924,
          5.009659833045103,
          1.6034314076867195,
          18.437121083223342,
          3.0268666925663332,
          9.466481227809131,
          0,
          2.7275125839464605,
          6.556316786936151,
          0.37804371596570974,
          13.14804848998481,
          1.6376247133841484,
          3.5647821869694316,
          5.586534627521287,
          0,
          7.341293020571252,
          4.793493277152416,
          5.2217838683412285,
          5.64485849848471,
          1.390649960805129,
          0,
          5.711056732902739,
          2.882382280379817,
          6.161998096138429,
          0.8331221887140599,
          2.380903056343798,
          3.2413806102386826,
          3.2955272531690407,
          3.6308640915837778,
          2.1998596705844067,
          4.357904703308687,
          7.187062243299183,
          5.739852145692673,
          3.9776408208952825,
          0.6170822574662882,
          0.6071518910173102,
          5.211957861463952,
          0.23218894039487958,
          0.5151432704174113,
          2.2538851279039287,
          14.682229720488227,
          4.319039271798922,
          6.33232093315929,
          5.114872735828316,
          5.9465948787442,
          1.4950681157338908,
          1.6093630030324486,
          4.917025823907965,
          10.98016219398811,
          7.222670078986438,
          7.718828258048791,
          1.952539048032071,
          4.67151655246872,
          0,
          3.1806837859911896,
          3.3160398693575424,
          4.102375809152846,
          0.5250995133621741,
          2.723601598638158,
          1.9791605636467415,
          2.72156386552916
         ],
         "yaxis": "y"
        }
       ],
       "layout": {
        "autosize": true,
        "legend": {
         "title": {
          "text": "variable"
         },
         "tracegroupgap": 0
        },
        "template": {
         "data": {
          "bar": [
           {
            "error_x": {
             "color": "#2a3f5f"
            },
            "error_y": {
             "color": "#2a3f5f"
            },
            "marker": {
             "line": {
              "color": "#E5ECF6",
              "width": 0.5
             },
             "pattern": {
              "fillmode": "overlay",
              "size": 10,
              "solidity": 0.2
             }
            },
            "type": "bar"
           }
          ],
          "barpolar": [
           {
            "marker": {
             "line": {
              "color": "#E5ECF6",
              "width": 0.5
             },
             "pattern": {
              "fillmode": "overlay",
              "size": 10,
              "solidity": 0.2
             }
            },
            "type": "barpolar"
           }
          ],
          "carpet": [
           {
            "aaxis": {
             "endlinecolor": "#2a3f5f",
             "gridcolor": "white",
             "linecolor": "white",
             "minorgridcolor": "white",
             "startlinecolor": "#2a3f5f"
            },
            "baxis": {
             "endlinecolor": "#2a3f5f",
             "gridcolor": "white",
             "linecolor": "white",
             "minorgridcolor": "white",
             "startlinecolor": "#2a3f5f"
            },
            "type": "carpet"
           }
          ],
          "choropleth": [
           {
            "colorbar": {
             "outlinewidth": 0,
             "ticks": ""
            },
            "type": "choropleth"
           }
          ],
          "contour": [
           {
            "colorbar": {
             "outlinewidth": 0,
             "ticks": ""
            },
            "colorscale": [
             [
              0,
              "#0d0887"
             ],
             [
              0.1111111111111111,
              "#46039f"
             ],
             [
              0.2222222222222222,
              "#7201a8"
             ],
             [
              0.3333333333333333,
              "#9c179e"
             ],
             [
              0.4444444444444444,
              "#bd3786"
             ],
             [
              0.5555555555555556,
              "#d8576b"
             ],
             [
              0.6666666666666666,
              "#ed7953"
             ],
             [
              0.7777777777777778,
              "#fb9f3a"
             ],
             [
              0.8888888888888888,
              "#fdca26"
             ],
             [
              1,
              "#f0f921"
             ]
            ],
            "type": "contour"
           }
          ],
          "contourcarpet": [
           {
            "colorbar": {
             "outlinewidth": 0,
             "ticks": ""
            },
            "type": "contourcarpet"
           }
          ],
          "heatmap": [
           {
            "colorbar": {
             "outlinewidth": 0,
             "ticks": ""
            },
            "colorscale": [
             [
              0,
              "#0d0887"
             ],
             [
              0.1111111111111111,
              "#46039f"
             ],
             [
              0.2222222222222222,
              "#7201a8"
             ],
             [
              0.3333333333333333,
              "#9c179e"
             ],
             [
              0.4444444444444444,
              "#bd3786"
             ],
             [
              0.5555555555555556,
              "#d8576b"
             ],
             [
              0.6666666666666666,
              "#ed7953"
             ],
             [
              0.7777777777777778,
              "#fb9f3a"
             ],
             [
              0.8888888888888888,
              "#fdca26"
             ],
             [
              1,
              "#f0f921"
             ]
            ],
            "type": "heatmap"
           }
          ],
          "heatmapgl": [
           {
            "colorbar": {
             "outlinewidth": 0,
             "ticks": ""
            },
            "colorscale": [
             [
              0,
              "#0d0887"
             ],
             [
              0.1111111111111111,
              "#46039f"
             ],
             [
              0.2222222222222222,
              "#7201a8"
             ],
             [
              0.3333333333333333,
              "#9c179e"
             ],
             [
              0.4444444444444444,
              "#bd3786"
             ],
             [
              0.5555555555555556,
              "#d8576b"
             ],
             [
              0.6666666666666666,
              "#ed7953"
             ],
             [
              0.7777777777777778,
              "#fb9f3a"
             ],
             [
              0.8888888888888888,
              "#fdca26"
             ],
             [
              1,
              "#f0f921"
             ]
            ],
            "type": "heatmapgl"
           }
          ],
          "histogram": [
           {
            "marker": {
             "pattern": {
              "fillmode": "overlay",
              "size": 10,
              "solidity": 0.2
             }
            },
            "type": "histogram"
           }
          ],
          "histogram2d": [
           {
            "colorbar": {
             "outlinewidth": 0,
             "ticks": ""
            },
            "colorscale": [
             [
              0,
              "#0d0887"
             ],
             [
              0.1111111111111111,
              "#46039f"
             ],
             [
              0.2222222222222222,
              "#7201a8"
             ],
             [
              0.3333333333333333,
              "#9c179e"
             ],
             [
              0.4444444444444444,
              "#bd3786"
             ],
             [
              0.5555555555555556,
              "#d8576b"
             ],
             [
              0.6666666666666666,
              "#ed7953"
             ],
             [
              0.7777777777777778,
              "#fb9f3a"
             ],
             [
              0.8888888888888888,
              "#fdca26"
             ],
             [
              1,
              "#f0f921"
             ]
            ],
            "type": "histogram2d"
           }
          ],
          "histogram2dcontour": [
           {
            "colorbar": {
             "outlinewidth": 0,
             "ticks": ""
            },
            "colorscale": [
             [
              0,
              "#0d0887"
             ],
             [
              0.1111111111111111,
              "#46039f"
             ],
             [
              0.2222222222222222,
              "#7201a8"
             ],
             [
              0.3333333333333333,
              "#9c179e"
             ],
             [
              0.4444444444444444,
              "#bd3786"
             ],
             [
              0.5555555555555556,
              "#d8576b"
             ],
             [
              0.6666666666666666,
              "#ed7953"
             ],
             [
              0.7777777777777778,
              "#fb9f3a"
             ],
             [
              0.8888888888888888,
              "#fdca26"
             ],
             [
              1,
              "#f0f921"
             ]
            ],
            "type": "histogram2dcontour"
           }
          ],
          "mesh3d": [
           {
            "colorbar": {
             "outlinewidth": 0,
             "ticks": ""
            },
            "type": "mesh3d"
           }
          ],
          "parcoords": [
           {
            "line": {
             "colorbar": {
              "outlinewidth": 0,
              "ticks": ""
             }
            },
            "type": "parcoords"
           }
          ],
          "pie": [
           {
            "automargin": true,
            "type": "pie"
           }
          ],
          "scatter": [
           {
            "fillpattern": {
             "fillmode": "overlay",
             "size": 10,
             "solidity": 0.2
            },
            "type": "scatter"
           }
          ],
          "scatter3d": [
           {
            "line": {
             "colorbar": {
              "outlinewidth": 0,
              "ticks": ""
             }
            },
            "marker": {
             "colorbar": {
              "outlinewidth": 0,
              "ticks": ""
             }
            },
            "type": "scatter3d"
           }
          ],
          "scattercarpet": [
           {
            "marker": {
             "colorbar": {
              "outlinewidth": 0,
              "ticks": ""
             }
            },
            "type": "scattercarpet"
           }
          ],
          "scattergeo": [
           {
            "marker": {
             "colorbar": {
              "outlinewidth": 0,
              "ticks": ""
             }
            },
            "type": "scattergeo"
           }
          ],
          "scattergl": [
           {
            "marker": {
             "colorbar": {
              "outlinewidth": 0,
              "ticks": ""
             }
            },
            "type": "scattergl"
           }
          ],
          "scattermapbox": [
           {
            "marker": {
             "colorbar": {
              "outlinewidth": 0,
              "ticks": ""
             }
            },
            "type": "scattermapbox"
           }
          ],
          "scatterpolar": [
           {
            "marker": {
             "colorbar": {
              "outlinewidth": 0,
              "ticks": ""
             }
            },
            "type": "scatterpolar"
           }
          ],
          "scatterpolargl": [
           {
            "marker": {
             "colorbar": {
              "outlinewidth": 0,
              "ticks": ""
             }
            },
            "type": "scatterpolargl"
           }
          ],
          "scatterternary": [
           {
            "marker": {
             "colorbar": {
              "outlinewidth": 0,
              "ticks": ""
             }
            },
            "type": "scatterternary"
           }
          ],
          "surface": [
           {
            "colorbar": {
             "outlinewidth": 0,
             "ticks": ""
            },
            "colorscale": [
             [
              0,
              "#0d0887"
             ],
             [
              0.1111111111111111,
              "#46039f"
             ],
             [
              0.2222222222222222,
              "#7201a8"
             ],
             [
              0.3333333333333333,
              "#9c179e"
             ],
             [
              0.4444444444444444,
              "#bd3786"
             ],
             [
              0.5555555555555556,
              "#d8576b"
             ],
             [
              0.6666666666666666,
              "#ed7953"
             ],
             [
              0.7777777777777778,
              "#fb9f3a"
             ],
             [
              0.8888888888888888,
              "#fdca26"
             ],
             [
              1,
              "#f0f921"
             ]
            ],
            "type": "surface"
           }
          ],
          "table": [
           {
            "cells": {
             "fill": {
              "color": "#EBF0F8"
             },
             "line": {
              "color": "white"
             }
            },
            "header": {
             "fill": {
              "color": "#C8D4E3"
             },
             "line": {
              "color": "white"
             }
            },
            "type": "table"
           }
          ]
         },
         "layout": {
          "annotationdefaults": {
           "arrowcolor": "#2a3f5f",
           "arrowhead": 0,
           "arrowwidth": 1
          },
          "autotypenumbers": "strict",
          "coloraxis": {
           "colorbar": {
            "outlinewidth": 0,
            "ticks": ""
           }
          },
          "colorscale": {
           "diverging": [
            [
             0,
             "#8e0152"
            ],
            [
             0.1,
             "#c51b7d"
            ],
            [
             0.2,
             "#de77ae"
            ],
            [
             0.3,
             "#f1b6da"
            ],
            [
             0.4,
             "#fde0ef"
            ],
            [
             0.5,
             "#f7f7f7"
            ],
            [
             0.6,
             "#e6f5d0"
            ],
            [
             0.7,
             "#b8e186"
            ],
            [
             0.8,
             "#7fbc41"
            ],
            [
             0.9,
             "#4d9221"
            ],
            [
             1,
             "#276419"
            ]
           ],
           "sequential": [
            [
             0,
             "#0d0887"
            ],
            [
             0.1111111111111111,
             "#46039f"
            ],
            [
             0.2222222222222222,
             "#7201a8"
            ],
            [
             0.3333333333333333,
             "#9c179e"
            ],
            [
             0.4444444444444444,
             "#bd3786"
            ],
            [
             0.5555555555555556,
             "#d8576b"
            ],
            [
             0.6666666666666666,
             "#ed7953"
            ],
            [
             0.7777777777777778,
             "#fb9f3a"
            ],
            [
             0.8888888888888888,
             "#fdca26"
            ],
            [
             1,
             "#f0f921"
            ]
           ],
           "sequentialminus": [
            [
             0,
             "#0d0887"
            ],
            [
             0.1111111111111111,
             "#46039f"
            ],
            [
             0.2222222222222222,
             "#7201a8"
            ],
            [
             0.3333333333333333,
             "#9c179e"
            ],
            [
             0.4444444444444444,
             "#bd3786"
            ],
            [
             0.5555555555555556,
             "#d8576b"
            ],
            [
             0.6666666666666666,
             "#ed7953"
            ],
            [
             0.7777777777777778,
             "#fb9f3a"
            ],
            [
             0.8888888888888888,
             "#fdca26"
            ],
            [
             1,
             "#f0f921"
            ]
           ]
          },
          "colorway": [
           "#636efa",
           "#EF553B",
           "#00cc96",
           "#ab63fa",
           "#FFA15A",
           "#19d3f3",
           "#FF6692",
           "#B6E880",
           "#FF97FF",
           "#FECB52"
          ],
          "font": {
           "color": "#2a3f5f"
          },
          "geo": {
           "bgcolor": "white",
           "lakecolor": "white",
           "landcolor": "#E5ECF6",
           "showlakes": true,
           "showland": true,
           "subunitcolor": "white"
          },
          "hoverlabel": {
           "align": "left"
          },
          "hovermode": "closest",
          "mapbox": {
           "style": "light"
          },
          "paper_bgcolor": "white",
          "plot_bgcolor": "#E5ECF6",
          "polar": {
           "angularaxis": {
            "gridcolor": "white",
            "linecolor": "white",
            "ticks": ""
           },
           "bgcolor": "#E5ECF6",
           "radialaxis": {
            "gridcolor": "white",
            "linecolor": "white",
            "ticks": ""
           }
          },
          "scene": {
           "xaxis": {
            "backgroundcolor": "#E5ECF6",
            "gridcolor": "white",
            "gridwidth": 2,
            "linecolor": "white",
            "showbackground": true,
            "ticks": "",
            "zerolinecolor": "white"
           },
           "yaxis": {
            "backgroundcolor": "#E5ECF6",
            "gridcolor": "white",
            "gridwidth": 2,
            "linecolor": "white",
            "showbackground": true,
            "ticks": "",
            "zerolinecolor": "white"
           },
           "zaxis": {
            "backgroundcolor": "#E5ECF6",
            "gridcolor": "white",
            "gridwidth": 2,
            "linecolor": "white",
            "showbackground": true,
            "ticks": "",
            "zerolinecolor": "white"
           }
          },
          "shapedefaults": {
           "line": {
            "color": "#2a3f5f"
           }
          },
          "ternary": {
           "aaxis": {
            "gridcolor": "white",
            "linecolor": "white",
            "ticks": ""
           },
           "baxis": {
            "gridcolor": "white",
            "linecolor": "white",
            "ticks": ""
           },
           "bgcolor": "#E5ECF6",
           "caxis": {
            "gridcolor": "white",
            "linecolor": "white",
            "ticks": ""
           }
          },
          "title": {
           "x": 0.05
          },
          "xaxis": {
           "automargin": true,
           "gridcolor": "white",
           "linecolor": "white",
           "ticks": "",
           "title": {
            "standoff": 15
           },
           "zerolinecolor": "white",
           "zerolinewidth": 2
          },
          "yaxis": {
           "automargin": true,
           "gridcolor": "white",
           "linecolor": "white",
           "ticks": "",
           "title": {
            "standoff": 15
           },
           "zerolinecolor": "white",
           "zerolinewidth": 2
          }
         }
        },
        "title": {
         "text": "CO2 emissions (metric tons per capita)"
        },
        "xaxis": {
         "anchor": "y",
         "autorange": true,
         "domain": [
          0,
          1
         ],
         "range": [
          -13.141987057480017,
          229.14198705748
         ],
         "title": {
          "text": "Country Name"
         },
         "type": "category"
        },
        "yaxis": {
         "anchor": "x",
         "autorange": true,
         "domain": [
          0,
          1
         ],
         "range": [
          -4.474723267261519,
          36.73136149601002
         ],
         "title": {
          "text": "value"
         },
         "type": "linear"
        }
       }
      },
      "image/png": "[encoded data removed]",
      "text/html": [
       "<div>                            <div id=\"b0fdc80b-f073-4c04-ad36-4a78ab199921\" class=\"plotly-graph-div\" style=\"height:525px; width:100%;\"></div>            <script type=\"text/javascript\">                require([\"plotly\"], function(Plotly) {                    window.PLOTLYENV=window.PLOTLYENV || {};                                    if (document.getElementById(\"b0fdc80b-f073-4c04-ad36-4a78ab199921\")) {                    Plotly.newPlot(                        \"b0fdc80b-f073-4c04-ad36-4a78ab199921\",                        [{\"hovertemplate\":\"variable=True value\\u003cbr\\u003eCountry Name=%{x}\\u003cbr\\u003evalue=%{y}\\u003cextra\\u003e\\u003c\\u002fextra\\u003e\",\"legendgroup\":\"True value\",\"line\":{\"color\":\"#636efa\",\"dash\":\"solid\"},\"marker\":{\"symbol\":\"circle\"},\"mode\":\"lines+markers\",\"name\":\"True value\",\"orientation\":\"v\",\"showlegend\":true,\"x\":[\"Afghanistan\",\"Albania\",\"Algeria\",\"American Samoa\",\"Andorra\",\"Angola\",\"Antigua and Barbuda\",\"Argentina\",\"Armenia\",\"Aruba\",\"Australia\",\"Austria\",\"Azerbaijan\",\"Bahamas, The\",\"Bahrain\",\"Bangladesh\",\"Barbados\",\"Belarus\",\"Belgium\",\"Belize\",\"Benin\",\"Bermuda\",\"Bhutan\",\"Bolivia\",\"Bosnia and Herzegovina\",\"Botswana\",\"Brazil\",\"British Virgin Islands\",\"Brunei Darussalam\",\"Bulgaria\",\"Burkina Faso\",\"Burundi\",\"Cabo Verde\",\"Cambodia\",\"Cameroon\",\"Canada\",\"Cayman Islands\",\"Central African Republic\",\"Chad\",\"Channel Islands\",\"Chile\",\"China\",\"Colombia\",\"Comoros\",\"Congo, Dem. Rep.\",\"Congo, Rep.\",\"Costa Rica\",\"Cote d'Ivoire\",\"Croatia\",\"Cuba\",\"Curacao\",\"Cyprus\",\"Czechia\",\"Denmark\",\"Djibouti\",\"Dominica\",\"Dominican Republic\",\"Ecuador\",\"Egypt, Arab Rep.\",\"El Salvador\",\"Equatorial Guinea\",\"Eritrea\",\"Estonia\",\"Eswatini\",\"Ethiopia\",\"Faroe Islands\",\"Fiji\",\"Finland\",\"France\",\"French Polynesia\",\"Gabon\",\"Gambia, The\",\"Georgia\",\"Germany\",\"Ghana\",\"Gibraltar\",\"Greece\",\"Greenland\",\"Grenada\",\"Guam\",\"Guatemala\",\"Guinea\",\"Guinea-Bissau\",\"Guyana\",\"Haiti\",\"Honduras\",\"Hong Kong SAR, China\",\"Hungary\",\"Iceland\",\"India\",\"Indonesia\",\"Iran, Islamic Rep.\",\"Iraq\",\"Ireland\",\"Isle of Man\",\"Israel\",\"Italy\",\"Jamaica\",\"Japan\",\"Jordan\",\"Kazakhstan\",\"Kenya\",\"Kiribati\",\"Korea, Dem. People's Rep.\",\"Korea, Rep.\",\"Kosovo\",\"Kuwait\",\"Kyrgyz Republic\",\"Lao PDR\",\"Latvia\",\"Lebanon\",\"Lesotho\",\"Liberia\",\"Libya\",\"Liechtenstein\",\"Lithuania\",\"Luxembourg\",\"Macao SAR, China\",\"Madagascar\",\"Malawi\",\"Malaysia\",\"Maldives\",\"Mali\",\"Malta\",\"Marshall Islands\",\"Mauritania\",\"Mauritius\",\"Mexico\",\"Micronesia, Fed. Sts.\",\"Moldova\",\"Monaco\",\"Mongolia\",\"Montenegro\",\"Morocco\",\"Mozambique\",\"Myanmar\",\"Namibia\",\"Nauru\",\"Nepal\",\"Netherlands\",\"New Caledonia\",\"New Zealand\",\"Nicaragua\",\"Niger\",\"Nigeria\",\"North Macedonia\",\"Northern Mariana Islands\",\"Norway\",\"Oman\",\"Pakistan\",\"Palau\",\"Panama\",\"Papua New Guinea\",\"Paraguay\",\"Peru\",\"Philippines\",\"Poland\",\"Portugal\",\"Puerto Rico\",\"Qatar\",\"Romania\",\"Russian Federation\",\"Rwanda\",\"Samoa\",\"San Marino\",\"Sao Tome and Principe\",\"Saudi Arabia\",\"Senegal\",\"Serbia\",\"Seychelles\",\"Sierra Leone\",\"Singapore\",\"Sint Maarten (Dutch part)\",\"Slovak Republic\",\"Slovenia\",\"Solomon Islands\",\"Somalia\",\"South Africa\",\"South Sudan\",\"Spain\",\"Sri Lanka\",\"St. Kitts and Nevis\",\"St. Lucia\",\"St. Martin (French part)\",\"St. Vincent and the Grenadines\",\"Sudan\",\"Suriname\",\"Sweden\",\"Switzerland\",\"Syrian Arab Republic\",\"Tajikistan\",\"Tanzania\",\"Thailand\",\"Timor-Leste\",\"Togo\",\"Tonga\",\"Trinidad and Tobago\",\"Tunisia\",\"Turkiye\",\"Turkmenistan\",\"Turks and Caicos Islands\",\"Tuvalu\",\"Uganda\",\"Ukraine\",\"United Arab Emirates\",\"United Kingdom\",\"United States\",\"Uruguay\",\"Uzbekistan\",\"Vanuatu\",\"Venezuela, RB\",\"Viet Nam\",\"Virgin Islands (U.S.)\",\"West Bank and Gaza\",\"Yemen, Rep.\",\"Zambia\",\"Zimbabwe\"],\"xaxis\":\"x\",\"y\":[0.281195815732375,1.88055711291312,3.83368112626665,2.54731566057105,6.30209786421442,0.829723216824015,5.48842722154545,4.07011168693629,1.88339587008485,2.54731566057105,16.1491503049618,7.48703675539348,3.24303764763118,5.43882512154779,20.9460377778113,0.541787825904309,4.22645037197291,5.94640716888454,8.13943859065518,1.71633844240485,0.592940505290305,2.54731566057105,1.73186566700303,1.89131542884796,6.59666334014239,3.05495453485661,2.18548661863967,2.54731566057105,16.9430783961922,6.20201084038645,0.233173679706721,0.0474291236691765,1.0349515181767,0.799744091997512,0.372071194814649,15.5472632085172,2.54731566057105,0.0445090109733524,0.0986485114163678,2.54731566057105,4.74380241866313,7.22616015441748,1.56507517599547,0.366303251827578,0.0337552149879134,1.01776241731516,1.63671577915361,0.425136558186376,4.22057683649365,2.31478144967474,2.54731566057105,6.09107149801866,9.77398706755375,5.75613445319845,0.387797733776952,2.35217249264946,2.21196208145507,2.30876380731708,2.40241649556664,1.01248608906763,3.70119404919301,0.171174998152745,12.7324303316269,0.960404380791912,0.146790211829337,2.54731566057105,1.44839225304373,7.80931895529113,4.74791692880333,2.54731566057105,2.4972724702892,0.252941606311487,2.65748105420488,8.8583445114547,0.500789782048743,2.54731566057105,6.21083158316487,2.54731566057105,2.37758536565195,2.54731566057105,1.02751728089616,0.271355057259789,0.16310020182719,3.24113136945596,0.30618371925255,0.974047356339701,2.54731566057105,5.05210173390467,4.86604542807222,1.70492672078233,1.94857443086369,7.41290262847642,3.94880897233655,7.84814955647433,2.54731566057105,7.56387361849127,5.43791206092819,2.57266121060713,9.06369120751032,2.54731566057105,11.9137581041033,0.41058150997657,0.60401123278111,2.12750106098759,12.1914934200949,2.54731566057105,21.9104008238737,1.52286147591236,2.72288168036289,3.66415617367092,4.77487260306172,1.10673601100517,0.264435600737267,8.16760242329375,4.1112037002824,3.96768070179532,15.1030627029057,2.54731566057105,0.133017230488787,0.0779926724021984,7.03982567319804,3.27257102459138,0.187961952954622,3.25043429579978,3.16400703583614,0.819299930408905,3.30021575049787,3.86275941197886,1.32844335778321,2.92684095356072,2.54731566057105,6.32277465011644,3.64251019886788,1.7736629145678,0.250697939802182,0.621496099866699,1.78639850389125,4.79369970895395,0.470677340646946,9.08926563407696,2.54731566057105,6.84049360146252,0.837724433734761,0.0874508612184734,0.560638215463648,3.91655786168855,2.54731566057105,7.42375166951931,15.7717971559632,0.918472672488548,11.9414699781353,2.47466896871459,0.713597978495624,1.24632517460731,1.71724301281113,1.25031454207887,8.23624313643991,5.1719561566168,2.54731566057105,32.2566382287485,3.78830872775473,10.9747024741547,0.102654554383161,1.22910947358282,2.54731566057105,0.64604203118691,16.0777919021258,0.646584895307648,6.7431359528992,5.95452980395021,0.145879585519628,8.43229982682534,2.54731566057105,6.17302222078411,6.83497000563302,0.458335016484524,0.0440588174785614,7.68370781068603,0.141871639801971,5.68159077854133,1.0759613709386,5.08527780684315,2.99667537804169,2.54731566057105,2.13265876512331,0.530471761090042,4.16014391746191,3.79492404723228,4.57876628047857,1.35878908347847,0.757120729592937,0.207213701977385,3.76789668093416,0.451885604893685,0.257067706466296,1.26073139496277,12.3255875293435,2.60278104885237,5.20587915001934,10.7016590590785,2.54731566057105,0.711119320280754,0.128890498774082,3.89784637772829,21.1654979061116,5.55329149720857,14.8232454359428,1.78358950382795,3.38725662733184,0.485806524967354,4.57368123535075,2.44464478063074,2.54731566057105,2.54731566057105,0.322370466733983,0.393726369451731,0.663069149889218],\"yaxis\":\"y\",\"type\":\"scatter\"},{\"hovertemplate\":\"variable=Prediction\\u003cbr\\u003eCountry Name=%{x}\\u003cbr\\u003evalue=%{y}\\u003cextra\\u003e\\u003c\\u002fextra\\u003e\",\"legendgroup\":\"Prediction\",\"line\":{\"color\":\"#EF553B\",\"dash\":\"solid\"},\"marker\":{\"symbol\":\"circle\"},\"mode\":\"lines+markers\",\"name\":\"Prediction\",\"orientation\":\"v\",\"showlegend\":true,\"x\":[\"Afghanistan\",\"Albania\",\"Algeria\",\"American Samoa\",\"Andorra\",\"Angola\",\"Antigua and Barbuda\",\"Argentina\",\"Armenia\",\"Aruba\",\"Australia\",\"Austria\",\"Azerbaijan\",\"Bahamas, The\",\"Bahrain\",\"Bangladesh\",\"Barbados\",\"Belarus\",\"Belgium\",\"Belize\",\"Benin\",\"Bermuda\",\"Bhutan\",\"Bolivia\",\"Bosnia and Herzegovina\",\"Botswana\",\"Brazil\",\"British Virgin Islands\",\"Brunei Darussalam\",\"Bulgaria\",\"Burkina Faso\",\"Burundi\",\"Cabo Verde\",\"Cambodia\",\"Cameroon\",\"Canada\",\"Cayman Islands\",\"Central African Republic\",\"Chad\",\"Channel Islands\",\"Chile\",\"China\",\"Colombia\",\"Comoros\",\"Congo, Dem. Rep.\",\"Congo, Rep.\",\"Costa Rica\",\"Cote d'Ivoire\",\"Croatia\",\"Cuba\",\"Curacao\",\"Cyprus\",\"Czechia\",\"Denmark\",\"Djibouti\",\"Dominica\",\"Dominican Republic\",\"Ecuador\",\"Egypt, Arab Rep.\",\"El Salvador\",\"Equatorial Guinea\",\"Eritrea\",\"Estonia\",\"Eswatini\",\"Ethiopia\",\"Faroe Islands\",\"Fiji\",\"Finland\",\"France\",\"French Polynesia\",\"Gabon\",\"Gambia, The\",\"Georgia\",\"Germany\",\"Ghana\",\"Gibraltar\",\"Greece\",\"Greenland\",\"Grenada\",\"Guam\",\"Guatemala\",\"Guinea\",\"Guinea-Bissau\",\"Guyana\",\"Haiti\",\"Honduras\",\"Hong Kong SAR, China\",\"Hungary\",\"Iceland\",\"India\",\"Indonesia\",\"Iran, Islamic Rep.\",\"Iraq\",\"Ireland\",\"Isle of Man\",\"Israel\",\"Italy\",\"Jamaica\",\"Japan\",\"Jordan\",\"Kazakhstan\",\"Kenya\",\"Kiribati\",\"Korea, Dem. People's Rep.\",\"Korea, Rep.\",\"Kosovo\",\"Kuwait\",\"Kyrgyz Republic\",\"Lao PDR\",\"Latvia\",\"Lebanon\",\"Lesotho\",\"Liberia\",\"Libya\",\"Liechtenstein\",\"Lithuania\",\"Luxembourg\",\"Macao SAR, China\",\"Madagascar\",\"Malawi\",\"Malaysia\",\"Maldives\",\"Mali\",\"Malta\",\"Marshall Islands\",\"Mauritania\",\"Mauritius\",\"Mexico\",\"Micronesia, Fed. Sts.\",\"Moldova\",\"Monaco\",\"Mongolia\",\"Montenegro\",\"Morocco\",\"Mozambique\",\"Myanmar\",\"Namibia\",\"Nauru\",\"Nepal\",\"Netherlands\",\"New Caledonia\",\"New Zealand\",\"Nicaragua\",\"Niger\",\"Nigeria\",\"North Macedonia\",\"Northern Mariana Islands\",\"Norway\",\"Oman\",\"Pakistan\",\"Palau\",\"Panama\",\"Papua New Guinea\",\"Paraguay\",\"Peru\",\"Philippines\",\"Poland\",\"Portugal\",\"Puerto Rico\",\"Qatar\",\"Romania\",\"Russian Federation\",\"Rwanda\",\"Samoa\",\"San Marino\",\"Sao Tome and Principe\",\"Saudi Arabia\",\"Senegal\",\"Serbia\",\"Seychelles\",\"Sierra Leone\",\"Singapore\",\"Sint Maarten (Dutch part)\",\"Slovak Republic\",\"Slovenia\",\"Solomon Islands\",\"Somalia\",\"South Africa\",\"South Sudan\",\"Spain\",\"Sri Lanka\",\"St. Kitts and Nevis\",\"St. Lucia\",\"St. Martin (French part)\",\"St. Vincent and the Grenadines\",\"Sudan\",\"Suriname\",\"Sweden\",\"Switzerland\",\"Syrian Arab Republic\",\"Tajikistan\",\"Tanzania\",\"Thailand\",\"Timor-Leste\",\"Togo\",\"Tonga\",\"Trinidad and Tobago\",\"Tunisia\",\"Turkiye\",\"Turkmenistan\",\"Turks and Caicos Islands\",\"Tuvalu\",\"Uganda\",\"Ukraine\",\"United Arab Emirates\",\"United Kingdom\",\"United States\",\"Uruguay\",\"Uzbekistan\",\"Vanuatu\",\"Venezuela, RB\",\"Viet Nam\",\"Virgin Islands (U.S.)\",\"West Bank and Gaza\",\"Yemen, Rep.\",\"Zambia\",\"Zimbabwe\"],\"xaxis\":\"x\",\"y\":[0.0,0.9235875986273041,10.829459343948972,2.667459418284201,2.1007685034329993,4.3996963583501065,3.522954912583297,4.2861741005455185,2.1959409032758943,3.702373617876761,10.212885869385326,6.049565580203822,9.770424790018751,4.856190795965135,13.836373870921488,0.0,3.9854321904122183,7.14052901188712,7.324713148687287,1.3124034858773213,0.0,3.889979282696455,2.723006698947453,3.5259335382815946,4.649024469980294,3.648247633536436,3.887459236065533,4.646712559821295,13.81181321140481,6.391540404674833,0.0,0.0,0.8655738634106056,0.0,1.258983730422977,10.343170812673621,5.31261240993714,0.0,0.0,3.903717530291677,2.732429334735005,8.815005911716497,5.3213625955767325,0.0,0.0,2.5300080370297535,3.4215453017955744,0.0,4.323698544647005,1.4147440254087842,8.62913762933523,6.803655577767149,5.069218015528351,5.492325261130263,3.1426269376428007,2.686191090890312,3.6385480268365944,4.1183388119410544,5.494877635833495,1.7911539273818367,2.5626772251229557,3.1633596458796767,5.315450782563152,0.1388600453041744,1.375126933349689,4.2725544790737136,1.4143594927693401,7.213750367983785,6.593361609248696,2.3339644282423415,5.219137976665619,2.843704757143119,3.0725177713470986,5.88523500505509,1.9472218458595245,4.766721359941741,7.17785205963376,3.7701925934453477,0.8913954372274921,3.1339360082216228,0.14840267568126686,0.0,0.0,2.506764395639655,0.0,0.40535154720204236,4.897394725279597,4.5419046499200775,10.498628642369175,3.9548292544827506,4.035327931702575,10.517211429300271,2.6437724721926945,6.400628427932217,3.2814480432331554,7.5896391434628026,5.422337567022913,2.90450325404108,6.801778660441816,5.857829265638137,9.831132142115077,0.866218680229458,1.4910608040308304,6.11295579561898,8.131036846584719,1.8241590773647007,13.413379255433052,1.8785548352203416,2.2163909215365845,2.533013867674965,5.880057681657301,0.47836969245512284,0.0,10.55590463063155,1.7996837166640707,3.7560555579103934,8.35540782564162,8.532644338579265,0.0,0.0,7.843870629226517,5.2494752929400015,0.0,5.830194380595305,4.289555970439334,0.514655682591457,3.0519252516862614,3.926916579654226,2.511496560537763,2.0660480537989696,3.656992178157312,5.407748127695164,3.1144842126984846,3.1921432441066906,4.3747320341993134,1.271827418304936,5.0222796943773105,4.036254438561724,0.0,9.899865677981834,8.148504625581563,6.171542288587004,0.0,0.0,4.977675527690913,6.0140822544067785,2.776855759991613,11.352566025992164,16.88274880516331,1.5475842654344896,6.25870645125806,1.8507126410610253,0.958302532224546,1.178301721230297,1.7479272141170026,1.6030301252890937,4.771727733339924,5.009659833045103,1.6034314076867195,18.437121083223342,3.0268666925663332,9.466481227809131,0.0,2.7275125839464605,6.556316786936151,0.37804371596570974,13.14804848998481,1.6376247133841484,3.5647821869694316,5.586534627521287,0.0,7.341293020571252,4.793493277152416,5.2217838683412285,5.64485849848471,1.390649960805129,0.0,5.711056732902739,2.882382280379817,6.161998096138429,0.8331221887140599,2.380903056343798,3.2413806102386826,3.2955272531690407,3.6308640915837778,2.1998596705844067,4.357904703308687,7.187062243299183,5.739852145692673,3.9776408208952825,0.6170822574662882,0.6071518910173102,5.211957861463952,0.23218894039487958,0.5151432704174113,2.2538851279039287,14.682229720488227,4.319039271798922,6.33232093315929,5.114872735828316,5.9465948787442,1.4950681157338908,1.6093630030324486,4.917025823907965,10.98016219398811,7.222670078986438,7.718828258048791,1.952539048032071,4.67151655246872,0.0,3.1806837859911896,3.3160398693575424,4.102375809152846,0.5250995133621741,2.723601598638158,1.9791605636467415,2.72156386552916],\"yaxis\":\"y\",\"type\":\"scatter\"}],                        {\"template\":{\"data\":{\"histogram2dcontour\":[{\"type\":\"histogram2dcontour\",\"colorbar\":{\"outlinewidth\":0,\"ticks\":\"\"},\"colorscale\":[[0.0,\"#0d0887\"],[0.1111111111111111,\"#46039f\"],[0.2222222222222222,\"#7201a8\"],[0.3333333333333333,\"#9c179e\"],[0.4444444444444444,\"#bd3786\"],[0.5555555555555556,\"#d8576b\"],[0.6666666666666666,\"#ed7953\"],[0.7777777777777778,\"#fb9f3a\"],[0.8888888888888888,\"#fdca26\"],[1.0,\"#f0f921\"]]}],\"choropleth\":[{\"type\":\"choropleth\",\"colorbar\":{\"outlinewidth\":0,\"ticks\":\"\"}}],\"histogram2d\":[{\"type\":\"histogram2d\",\"colorbar\":{\"outlinewidth\":0,\"ticks\":\"\"},\"colorscale\":[[0.0,\"#0d0887\"],[0.1111111111111111,\"#46039f\"],[0.2222222222222222,\"#7201a8\"],[0.3333333333333333,\"#9c179e\"],[0.4444444444444444,\"#bd3786\"],[0.5555555555555556,\"#d8576b\"],[0.6666666666666666,\"#ed7953\"],[0.7777777777777778,\"#fb9f3a\"],[0.8888888888888888,\"#fdca26\"],[1.0,\"#f0f921\"]]}],\"heatmap\":[{\"type\":\"heatmap\",\"colorbar\":{\"outlinewidth\":0,\"ticks\":\"\"},\"colorscale\":[[0.0,\"#0d0887\"],[0.1111111111111111,\"#46039f\"],[0.2222222222222222,\"#7201a8\"],[0.3333333333333333,\"#9c179e\"],[0.4444444444444444,\"#bd3786\"],[0.5555555555555556,\"#d8576b\"],[0.6666666666666666,\"#ed7953\"],[0.7777777777777778,\"#fb9f3a\"],[0.8888888888888888,\"#fdca26\"],[1.0,\"#f0f921\"]]}],\"heatmapgl\":[{\"type\":\"heatmapgl\",\"colorbar\":{\"outlinewidth\":0,\"ticks\":\"\"},\"colorscale\":[[0.0,\"#0d0887\"],[0.1111111111111111,\"#46039f\"],[0.2222222222222222,\"#7201a8\"],[0.3333333333333333,\"#9c179e\"],[0.4444444444444444,\"#bd3786\"],[0.5555555555555556,\"#d8576b\"],[0.6666666666666666,\"#ed7953\"],[0.7777777777777778,\"#fb9f3a\"],[0.8888888888888888,\"#fdca26\"],[1.0,\"#f0f921\"]]}],\"contourcarpet\":[{\"type\":\"contourcarpet\",\"colorbar\":{\"outlinewidth\":0,\"ticks\":\"\"}}],\"contour\":[{\"type\":\"contour\",\"colorbar\":{\"outlinewidth\":0,\"ticks\":\"\"},\"colorscale\":[[0.0,\"#0d0887\"],[0.1111111111111111,\"#46039f\"],[0.2222222222222222,\"#7201a8\"],[0.3333333333333333,\"#9c179e\"],[0.4444444444444444,\"#bd3786\"],[0.5555555555555556,\"#d8576b\"],[0.6666666666666666,\"#ed7953\"],[0.7777777777777778,\"#fb9f3a\"],[0.8888888888888888,\"#fdca26\"],[1.0,\"#f0f921\"]]}],\"surface\":[{\"type\":\"surface\",\"colorbar\":{\"outlinewidth\":0,\"ticks\":\"\"},\"colorscale\":[[0.0,\"#0d0887\"],[0.1111111111111111,\"#46039f\"],[0.2222222222222222,\"#7201a8\"],[0.3333333333333333,\"#9c179e\"],[0.4444444444444444,\"#bd3786\"],[0.5555555555555556,\"#d8576b\"],[0.6666666666666666,\"#ed7953\"],[0.7777777777777778,\"#fb9f3a\"],[0.8888888888888888,\"#fdca26\"],[1.0,\"#f0f921\"]]}],\"mesh3d\":[{\"type\":\"mesh3d\",\"colorbar\":{\"outlinewidth\":0,\"ticks\":\"\"}}],\"scatter\":[{\"fillpattern\":{\"fillmode\":\"overlay\",\"size\":10,\"solidity\":0.2},\"type\":\"scatter\"}],\"parcoords\":[{\"type\":\"parcoords\",\"line\":{\"colorbar\":{\"outlinewidth\":0,\"ticks\":\"\"}}}],\"scatterpolargl\":[{\"type\":\"scatterpolargl\",\"marker\":{\"colorbar\":{\"outlinewidth\":0,\"ticks\":\"\"}}}],\"bar\":[{\"error_x\":{\"color\":\"#2a3f5f\"},\"error_y\":{\"color\":\"#2a3f5f\"},\"marker\":{\"line\":{\"color\":\"#E5ECF6\",\"width\":0.5},\"pattern\":{\"fillmode\":\"overlay\",\"size\":10,\"solidity\":0.2}},\"type\":\"bar\"}],\"scattergeo\":[{\"type\":\"scattergeo\",\"marker\":{\"colorbar\":{\"outlinewidth\":0,\"ticks\":\"\"}}}],\"scatterpolar\":[{\"type\":\"scatterpolar\",\"marker\":{\"colorbar\":{\"outlinewidth\":0,\"ticks\":\"\"}}}],\"histogram\":[{\"marker\":{\"pattern\":{\"fillmode\":\"overlay\",\"size\":10,\"solidity\":0.2}},\"type\":\"histogram\"}],\"scattergl\":[{\"type\":\"scattergl\",\"marker\":{\"colorbar\":{\"outlinewidth\":0,\"ticks\":\"\"}}}],\"scatter3d\":[{\"type\":\"scatter3d\",\"line\":{\"colorbar\":{\"outlinewidth\":0,\"ticks\":\"\"}},\"marker\":{\"colorbar\":{\"outlinewidth\":0,\"ticks\":\"\"}}}],\"scattermapbox\":[{\"type\":\"scattermapbox\",\"marker\":{\"colorbar\":{\"outlinewidth\":0,\"ticks\":\"\"}}}],\"scatterternary\":[{\"type\":\"scatterternary\",\"marker\":{\"colorbar\":{\"outlinewidth\":0,\"ticks\":\"\"}}}],\"scattercarpet\":[{\"type\":\"scattercarpet\",\"marker\":{\"colorbar\":{\"outlinewidth\":0,\"ticks\":\"\"}}}],\"carpet\":[{\"aaxis\":{\"endlinecolor\":\"#2a3f5f\",\"gridcolor\":\"white\",\"linecolor\":\"white\",\"minorgridcolor\":\"white\",\"startlinecolor\":\"#2a3f5f\"},\"baxis\":{\"endlinecolor\":\"#2a3f5f\",\"gridcolor\":\"white\",\"linecolor\":\"white\",\"minorgridcolor\":\"white\",\"startlinecolor\":\"#2a3f5f\"},\"type\":\"carpet\"}],\"table\":[{\"cells\":{\"fill\":{\"color\":\"#EBF0F8\"},\"line\":{\"color\":\"white\"}},\"header\":{\"fill\":{\"color\":\"#C8D4E3\"},\"line\":{\"color\":\"white\"}},\"type\":\"table\"}],\"barpolar\":[{\"marker\":{\"line\":{\"color\":\"#E5ECF6\",\"width\":0.5},\"pattern\":{\"fillmode\":\"overlay\",\"size\":10,\"solidity\":0.2}},\"type\":\"barpolar\"}],\"pie\":[{\"automargin\":true,\"type\":\"pie\"}]},\"layout\":{\"autotypenumbers\":\"strict\",\"colorway\":[\"#636efa\",\"#EF553B\",\"#00cc96\",\"#ab63fa\",\"#FFA15A\",\"#19d3f3\",\"#FF6692\",\"#B6E880\",\"#FF97FF\",\"#FECB52\"],\"font\":{\"color\":\"#2a3f5f\"},\"hovermode\":\"closest\",\"hoverlabel\":{\"align\":\"left\"},\"paper_bgcolor\":\"white\",\"plot_bgcolor\":\"#E5ECF6\",\"polar\":{\"bgcolor\":\"#E5ECF6\",\"angularaxis\":{\"gridcolor\":\"white\",\"linecolor\":\"white\",\"ticks\":\"\"},\"radialaxis\":{\"gridcolor\":\"white\",\"linecolor\":\"white\",\"ticks\":\"\"}},\"ternary\":{\"bgcolor\":\"#E5ECF6\",\"aaxis\":{\"gridcolor\":\"white\",\"linecolor\":\"white\",\"ticks\":\"\"},\"baxis\":{\"gridcolor\":\"white\",\"linecolor\":\"white\",\"ticks\":\"\"},\"caxis\":{\"gridcolor\":\"white\",\"linecolor\":\"white\",\"ticks\":\"\"}},\"coloraxis\":{\"colorbar\":{\"outlinewidth\":0,\"ticks\":\"\"}},\"colorscale\":{\"sequential\":[[0.0,\"#0d0887\"],[0.1111111111111111,\"#46039f\"],[0.2222222222222222,\"#7201a8\"],[0.3333333333333333,\"#9c179e\"],[0.4444444444444444,\"#bd3786\"],[0.5555555555555556,\"#d8576b\"],[0.6666666666666666,\"#ed7953\"],[0.7777777777777778,\"#fb9f3a\"],[0.8888888888888888,\"#fdca26\"],[1.0,\"#f0f921\"]],\"sequentialminus\":[[0.0,\"#0d0887\"],[0.1111111111111111,\"#46039f\"],[0.2222222222222222,\"#7201a8\"],[0.3333333333333333,\"#9c179e\"],[0.4444444444444444,\"#bd3786\"],[0.5555555555555556,\"#d8576b\"],[0.6666666666666666,\"#ed7953\"],[0.7777777777777778,\"#fb9f3a\"],[0.8888888888888888,\"#fdca26\"],[1.0,\"#f0f921\"]],\"diverging\":[[0,\"#8e0152\"],[0.1,\"#c51b7d\"],[0.2,\"#de77ae\"],[0.3,\"#f1b6da\"],[0.4,\"#fde0ef\"],[0.5,\"#f7f7f7\"],[0.6,\"#e6f5d0\"],[0.7,\"#b8e186\"],[0.8,\"#7fbc41\"],[0.9,\"#4d9221\"],[1,\"#276419\"]]},\"xaxis\":{\"gridcolor\":\"white\",\"linecolor\":\"white\",\"ticks\":\"\",\"title\":{\"standoff\":15},\"zerolinecolor\":\"white\",\"automargin\":true,\"zerolinewidth\":2},\"yaxis\":{\"gridcolor\":\"white\",\"linecolor\":\"white\",\"ticks\":\"\",\"title\":{\"standoff\":15},\"zerolinecolor\":\"white\",\"automargin\":true,\"zerolinewidth\":2},\"scene\":{\"xaxis\":{\"backgroundcolor\":\"#E5ECF6\",\"gridcolor\":\"white\",\"linecolor\":\"white\",\"showbackground\":true,\"ticks\":\"\",\"zerolinecolor\":\"white\",\"gridwidth\":2},\"yaxis\":{\"backgroundcolor\":\"#E5ECF6\",\"gridcolor\":\"white\",\"linecolor\":\"white\",\"showbackground\":true,\"ticks\":\"\",\"zerolinecolor\":\"white\",\"gridwidth\":2},\"zaxis\":{\"backgroundcolor\":\"#E5ECF6\",\"gridcolor\":\"white\",\"linecolor\":\"white\",\"showbackground\":true,\"ticks\":\"\",\"zerolinecolor\":\"white\",\"gridwidth\":2}},\"shapedefaults\":{\"line\":{\"color\":\"#2a3f5f\"}},\"annotationdefaults\":{\"arrowcolor\":\"#2a3f5f\",\"arrowhead\":0,\"arrowwidth\":1},\"geo\":{\"bgcolor\":\"white\",\"landcolor\":\"#E5ECF6\",\"subunitcolor\":\"white\",\"showland\":true,\"showlakes\":true,\"lakecolor\":\"white\"},\"title\":{\"x\":0.05},\"mapbox\":{\"style\":\"light\"}}},\"xaxis\":{\"anchor\":\"y\",\"domain\":[0.0,1.0],\"title\":{\"text\":\"Country Name\"}},\"yaxis\":{\"anchor\":\"x\",\"domain\":[0.0,1.0],\"title\":{\"text\":\"value\"}},\"legend\":{\"title\":{\"text\":\"variable\"},\"tracegroupgap\":0},\"title\":{\"text\":\"CO2 emissions (metric tons per capita)\"}},                        {\"responsive\": true}                    ).then(function(){\n",
       "                            \n",
       "var gd = document.getElementById('b0fdc80b-f073-4c04-ad36-4a78ab199921');\n",
       "var x = new MutationObserver(function (mutations, observer) {{\n",
       "        var display = window.getComputedStyle(gd).display;\n",
       "        if (!display || display === 'none') {{\n",
       "            console.log([gd, 'removed!']);\n",
       "            Plotly.purge(gd);\n",
       "            observer.disconnect();\n",
       "        }}\n",
       "}});\n",
       "\n",
       "// Listen for the removal of the full notebook cells\n",
       "var notebookContainer = gd.closest('#notebook-container');\n",
       "if (notebookContainer) {{\n",
       "    x.observe(notebookContainer, {childList: true});\n",
       "}}\n",
       "\n",
       "// Listen for the clearing of the current output cell\n",
       "var outputEl = gd.closest('.output');\n",
       "if (outputEl) {{\n",
       "    x.observe(outputEl, {childList: true});\n",
       "}}\n",
       "\n",
       "                        })                };                });            </script>        </div>"
      ]
     },
     "metadata": {},
     "output_type": "display_data"
    }
   ],
   "source": [
    "fig = px.line(df_result, markers=any, title='CO2 emissions (metric tons per capita)')\n",
    "fig.show()"
   ]
  },
  {
   "cell_type": "code",
   "execution_count": 54,
   "id": "9257287f",
   "metadata": {},
   "outputs": [
    {
     "data": {
      "text/plain": [
       "0.6700433401875239"
      ]
     },
     "execution_count": 54,
     "metadata": {},
     "output_type": "execute_result"
    }
   ],
   "source": [
    "r2_score(Co2_mpc.values, y_pred)"
   ]
  },
  {
   "cell_type": "code",
   "execution_count": null,
   "id": "ea318256-893f-4531-a9d5-fd1fefe636e6",
   "metadata": {},
   "outputs": [],
   "source": []
  }
 ],
 "metadata": {
  "kernelspec": {
   "display_name": "Python 3 (ipykernel)",
   "language": "python",
   "name": "python3"
  },
  "language_info": {
   "codemirror_mode": {
    "name": "ipython",
    "version": 3
   },
   "file_extension": ".py",
   "mimetype": "text/x-python",
   "name": "python",
   "nbconvert_exporter": "python",
   "pygments_lexer": "ipython3",
   "version": "3.13.0"
  }
 },
 "nbformat": 4,
 "nbformat_minor": 5
}

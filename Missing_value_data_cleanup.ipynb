{
 "cells": [
  {
   "cell_type": "code",
   "execution_count": 1,
   "id": "e889c8f7",
   "metadata": {},
   "outputs": [],
   "source": [
    "import warnings\n",
    "warnings.filterwarnings('ignore')"
   ]
  },
  {
   "cell_type": "code",
   "execution_count": 2,
   "id": "019c4939",
   "metadata": {},
   "outputs": [],
   "source": [
    "import pandas as pd\n",
    "from matplotlib import pyplot as plt\n",
    "import plotly.express as px\n",
    "import plotly.graph_objects as go\n",
    "import seaborn as sns\n",
    "from scipy.stats.mstats import trimmed_var\n",
    "from sklearn.preprocessing import StandardScaler\n",
    "from sklearn.linear_model import LinearRegression\n",
    "from sklearn.metrics import mean_absolute_error, r2_score\n",
    "import numpy as np"
   ]
  },
  {
   "cell_type": "code",
   "execution_count": 3,
   "id": "3c742a4b",
   "metadata": {},
   "outputs": [],
   "source": [
    "df = pd.read_csv(\"Data.csv\")"
   ]
  },
  {
   "cell_type": "code",
   "execution_count": 4,
   "id": "f30da31d",
   "metadata": {},
   "outputs": [
    {
     "data": {
      "text/html": [
       "<div>\n",
       "<style scoped>\n",
       "    .dataframe tbody tr th:only-of-type {\n",
       "        vertical-align: middle;\n",
       "    }\n",
       "\n",
       "    .dataframe tbody tr th {\n",
       "        vertical-align: top;\n",
       "    }\n",
       "\n",
       "    .dataframe thead th {\n",
       "        text-align: right;\n",
       "    }\n",
       "</style>\n",
       "<table border=\"1\" class=\"dataframe\">\n",
       "  <thead>\n",
       "    <tr style=\"text-align: right;\">\n",
       "      <th></th>\n",
       "      <th>Country Name</th>\n",
       "      <th>Country Code</th>\n",
       "      <th>Series Name</th>\n",
       "      <th>Series Code</th>\n",
       "      <th>2019 [YR2019]</th>\n",
       "      <th>2020 [YR2020]</th>\n",
       "      <th>2021 [YR2021]</th>\n",
       "      <th>2022 [YR2022]</th>\n",
       "      <th>2023 [YR2023]</th>\n",
       "    </tr>\n",
       "  </thead>\n",
       "  <tbody>\n",
       "    <tr>\n",
       "      <th>0</th>\n",
       "      <td>Afghanistan</td>\n",
       "      <td>AFG</td>\n",
       "      <td>Access to clean fuels and technologies for coo...</td>\n",
       "      <td>EG.CFT.ACCS.ZS</td>\n",
       "      <td>32.6</td>\n",
       "      <td>33.8</td>\n",
       "      <td>34.9</td>\n",
       "      <td>36.1</td>\n",
       "      <td>..</td>\n",
       "    </tr>\n",
       "    <tr>\n",
       "      <th>1</th>\n",
       "      <td>Afghanistan</td>\n",
       "      <td>AFG</td>\n",
       "      <td>Access to clean fuels and technologies for coo...</td>\n",
       "      <td>EG.CFT.ACCS.RU.ZS</td>\n",
       "      <td>15.6</td>\n",
       "      <td>16.4</td>\n",
       "      <td>17.4</td>\n",
       "      <td>18.5</td>\n",
       "      <td>..</td>\n",
       "    </tr>\n",
       "    <tr>\n",
       "      <th>2</th>\n",
       "      <td>Afghanistan</td>\n",
       "      <td>AFG</td>\n",
       "      <td>Access to clean fuels and technologies for coo...</td>\n",
       "      <td>EG.CFT.ACCS.UR.ZS</td>\n",
       "      <td>83.2</td>\n",
       "      <td>83.8</td>\n",
       "      <td>84.5</td>\n",
       "      <td>85</td>\n",
       "      <td>..</td>\n",
       "    </tr>\n",
       "    <tr>\n",
       "      <th>3</th>\n",
       "      <td>Afghanistan</td>\n",
       "      <td>AFG</td>\n",
       "      <td>Access to electricity (% of population)</td>\n",
       "      <td>EG.ELC.ACCS.ZS</td>\n",
       "      <td>97.7</td>\n",
       "      <td>97.7</td>\n",
       "      <td>97.7</td>\n",
       "      <td>85.3</td>\n",
       "      <td>..</td>\n",
       "    </tr>\n",
       "    <tr>\n",
       "      <th>4</th>\n",
       "      <td>Afghanistan</td>\n",
       "      <td>AFG</td>\n",
       "      <td>Access to electricity, rural (% of rural popul...</td>\n",
       "      <td>EG.ELC.ACCS.RU.ZS</td>\n",
       "      <td>97.1</td>\n",
       "      <td>97.1</td>\n",
       "      <td>97.1</td>\n",
       "      <td>81.7</td>\n",
       "      <td>..</td>\n",
       "    </tr>\n",
       "  </tbody>\n",
       "</table>\n",
       "</div>"
      ],
      "text/plain": [
       "  Country Name Country Code  \\\n",
       "0  Afghanistan          AFG   \n",
       "1  Afghanistan          AFG   \n",
       "2  Afghanistan          AFG   \n",
       "3  Afghanistan          AFG   \n",
       "4  Afghanistan          AFG   \n",
       "\n",
       "                                         Series Name        Series Code  \\\n",
       "0  Access to clean fuels and technologies for coo...     EG.CFT.ACCS.ZS   \n",
       "1  Access to clean fuels and technologies for coo...  EG.CFT.ACCS.RU.ZS   \n",
       "2  Access to clean fuels and technologies for coo...  EG.CFT.ACCS.UR.ZS   \n",
       "3            Access to electricity (% of population)     EG.ELC.ACCS.ZS   \n",
       "4  Access to electricity, rural (% of rural popul...  EG.ELC.ACCS.RU.ZS   \n",
       "\n",
       "  2019 [YR2019] 2020 [YR2020] 2021 [YR2021] 2022 [YR2022] 2023 [YR2023]  \n",
       "0          32.6          33.8          34.9          36.1            ..  \n",
       "1          15.6          16.4          17.4          18.5            ..  \n",
       "2          83.2          83.8          84.5            85            ..  \n",
       "3          97.7          97.7          97.7          85.3            ..  \n",
       "4          97.1          97.1          97.1          81.7            ..  "
      ]
     },
     "execution_count": 4,
     "metadata": {},
     "output_type": "execute_result"
    }
   ],
   "source": [
    "df.head()"
   ]
  },
  {
   "cell_type": "code",
   "execution_count": 5,
   "id": "7437ddd8",
   "metadata": {},
   "outputs": [
    {
     "data": {
      "text/plain": [
       "1492"
      ]
     },
     "execution_count": 5,
     "metadata": {},
     "output_type": "execute_result"
    }
   ],
   "source": [
    "unique_cols = df['Series Name'].nunique()\n",
    "unique_cols"
   ]
  },
  {
   "cell_type": "code",
   "execution_count": 6,
   "id": "b9f4e467",
   "metadata": {},
   "outputs": [],
   "source": [
    "data_dict = df[['Series Code', 'Series Name']][:1492]\n",
    "data_dict.to_csv('data_dict.csv', index=True) "
   ]
  },
  {
   "cell_type": "code",
   "execution_count": 7,
   "id": "3ca06750",
   "metadata": {},
   "outputs": [],
   "source": [
    "df[\"2019 [YR2019]\"]=df[\"2019 [YR2019]\"].replace(\"..\", None)\n",
    "df[\"2019 [YR2019]\"] = df[\"2019 [YR2019]\"].astype(float)"
   ]
  },
  {
   "cell_type": "code",
   "execution_count": 8,
   "id": "f7e8970c",
   "metadata": {},
   "outputs": [],
   "source": [
    "df_trans=pd.pivot_table(df, values=\"2019 [YR2019]\", index=\"Country Name\", columns=\"Series Code\", sort=False)"
   ]
  },
  {
   "cell_type": "code",
   "execution_count": 9,
   "id": "3a5cc94f",
   "metadata": {},
   "outputs": [],
   "source": [
    "# Remove last 48 rows as they correspond to enties like 'world' and not individual countries\n",
    "df_trans=df_trans.iloc[:-48]"
   ]
  },
  {
   "cell_type": "code",
   "execution_count": 10,
   "id": "30847efc",
   "metadata": {},
   "outputs": [
    {
     "data": {
      "text/html": [
       "<div>\n",
       "<style scoped>\n",
       "    .dataframe tbody tr th:only-of-type {\n",
       "        vertical-align: middle;\n",
       "    }\n",
       "\n",
       "    .dataframe tbody tr th {\n",
       "        vertical-align: top;\n",
       "    }\n",
       "\n",
       "    .dataframe thead th {\n",
       "        text-align: right;\n",
       "    }\n",
       "</style>\n",
       "<table border=\"1\" class=\"dataframe\">\n",
       "  <thead>\n",
       "    <tr style=\"text-align: right;\">\n",
       "      <th>Series Code</th>\n",
       "      <th>EG.CFT.ACCS.ZS</th>\n",
       "      <th>EG.CFT.ACCS.RU.ZS</th>\n",
       "      <th>EG.CFT.ACCS.UR.ZS</th>\n",
       "      <th>EG.ELC.ACCS.ZS</th>\n",
       "      <th>EG.ELC.ACCS.RU.ZS</th>\n",
       "      <th>EG.ELC.ACCS.UR.ZS</th>\n",
       "      <th>NY.ADJ.NNTY.CD</th>\n",
       "      <th>NY.ADJ.NNTY.PC.CD</th>\n",
       "      <th>NY.ADJ.DCO2.GN.ZS</th>\n",
       "      <th>NY.ADJ.DCO2.CD</th>\n",
       "      <th>...</th>\n",
       "      <th>SG.VAW.ARGU.ZS</th>\n",
       "      <th>SG.VAW.BURN.ZS</th>\n",
       "      <th>SG.VAW.GOES.ZS</th>\n",
       "      <th>SG.VAW.NEGL.ZS</th>\n",
       "      <th>SG.VAW.REFU.ZS</th>\n",
       "      <th>SH.SGR.PROC.P5</th>\n",
       "      <th>DT.NFL.UNEC.CD</th>\n",
       "      <th>DT.NFL.UNEP.CD</th>\n",
       "      <th>DT.NFL.UNTA.CD</th>\n",
       "      <th>DT.NFL.UNWT.CD</th>\n",
       "    </tr>\n",
       "    <tr>\n",
       "      <th>Country Name</th>\n",
       "      <th></th>\n",
       "      <th></th>\n",
       "      <th></th>\n",
       "      <th></th>\n",
       "      <th></th>\n",
       "      <th></th>\n",
       "      <th></th>\n",
       "      <th></th>\n",
       "      <th></th>\n",
       "      <th></th>\n",
       "      <th></th>\n",
       "      <th></th>\n",
       "      <th></th>\n",
       "      <th></th>\n",
       "      <th></th>\n",
       "      <th></th>\n",
       "      <th></th>\n",
       "      <th></th>\n",
       "      <th></th>\n",
       "      <th></th>\n",
       "      <th></th>\n",
       "    </tr>\n",
       "  </thead>\n",
       "  <tbody>\n",
       "    <tr>\n",
       "      <th>Afghanistan</th>\n",
       "      <td>32.6</td>\n",
       "      <td>15.6</td>\n",
       "      <td>83.2</td>\n",
       "      <td>97.7</td>\n",
       "      <td>97.1</td>\n",
       "      <td>99.5</td>\n",
       "      <td>1.773194e+10</td>\n",
       "      <td>469.477760</td>\n",
       "      <td>1.290995</td>\n",
       "      <td>2.479358e+08</td>\n",
       "      <td>...</td>\n",
       "      <td>NaN</td>\n",
       "      <td>NaN</td>\n",
       "      <td>NaN</td>\n",
       "      <td>NaN</td>\n",
       "      <td>NaN</td>\n",
       "      <td>NaN</td>\n",
       "      <td>NaN</td>\n",
       "      <td>NaN</td>\n",
       "      <td>NaN</td>\n",
       "      <td>NaN</td>\n",
       "    </tr>\n",
       "    <tr>\n",
       "      <th>Albania</th>\n",
       "      <td>82.0</td>\n",
       "      <td>64.7</td>\n",
       "      <td>93.4</td>\n",
       "      <td>100.0</td>\n",
       "      <td>100.0</td>\n",
       "      <td>100.0</td>\n",
       "      <td>1.244998e+10</td>\n",
       "      <td>4361.999293</td>\n",
       "      <td>1.295783</td>\n",
       "      <td>1.969622e+08</td>\n",
       "      <td>...</td>\n",
       "      <td>NaN</td>\n",
       "      <td>NaN</td>\n",
       "      <td>NaN</td>\n",
       "      <td>NaN</td>\n",
       "      <td>NaN</td>\n",
       "      <td>NaN</td>\n",
       "      <td>NaN</td>\n",
       "      <td>NaN</td>\n",
       "      <td>NaN</td>\n",
       "      <td>NaN</td>\n",
       "    </tr>\n",
       "    <tr>\n",
       "      <th>Algeria</th>\n",
       "      <td>99.7</td>\n",
       "      <td>98.8</td>\n",
       "      <td>99.9</td>\n",
       "      <td>99.5</td>\n",
       "      <td>98.7</td>\n",
       "      <td>99.8</td>\n",
       "      <td>1.341336e+11</td>\n",
       "      <td>3140.907179</td>\n",
       "      <td>4.167493</td>\n",
       "      <td>6.983390e+09</td>\n",
       "      <td>...</td>\n",
       "      <td>NaN</td>\n",
       "      <td>NaN</td>\n",
       "      <td>NaN</td>\n",
       "      <td>NaN</td>\n",
       "      <td>NaN</td>\n",
       "      <td>NaN</td>\n",
       "      <td>NaN</td>\n",
       "      <td>NaN</td>\n",
       "      <td>NaN</td>\n",
       "      <td>NaN</td>\n",
       "    </tr>\n",
       "    <tr>\n",
       "      <th>American Samoa</th>\n",
       "      <td>NaN</td>\n",
       "      <td>NaN</td>\n",
       "      <td>NaN</td>\n",
       "      <td>NaN</td>\n",
       "      <td>NaN</td>\n",
       "      <td>NaN</td>\n",
       "      <td>NaN</td>\n",
       "      <td>NaN</td>\n",
       "      <td>NaN</td>\n",
       "      <td>1.449396e+07</td>\n",
       "      <td>...</td>\n",
       "      <td>NaN</td>\n",
       "      <td>NaN</td>\n",
       "      <td>NaN</td>\n",
       "      <td>NaN</td>\n",
       "      <td>NaN</td>\n",
       "      <td>NaN</td>\n",
       "      <td>NaN</td>\n",
       "      <td>NaN</td>\n",
       "      <td>NaN</td>\n",
       "      <td>NaN</td>\n",
       "    </tr>\n",
       "    <tr>\n",
       "      <th>Andorra</th>\n",
       "      <td>100.0</td>\n",
       "      <td>100.0</td>\n",
       "      <td>100.0</td>\n",
       "      <td>100.0</td>\n",
       "      <td>100.0</td>\n",
       "      <td>100.0</td>\n",
       "      <td>NaN</td>\n",
       "      <td>NaN</td>\n",
       "      <td>0.588906</td>\n",
       "      <td>2.038946e+07</td>\n",
       "      <td>...</td>\n",
       "      <td>NaN</td>\n",
       "      <td>NaN</td>\n",
       "      <td>NaN</td>\n",
       "      <td>NaN</td>\n",
       "      <td>NaN</td>\n",
       "      <td>NaN</td>\n",
       "      <td>NaN</td>\n",
       "      <td>NaN</td>\n",
       "      <td>NaN</td>\n",
       "      <td>NaN</td>\n",
       "    </tr>\n",
       "  </tbody>\n",
       "</table>\n",
       "<p>5 rows × 1329 columns</p>\n",
       "</div>"
      ],
      "text/plain": [
       "Series Code     EG.CFT.ACCS.ZS  EG.CFT.ACCS.RU.ZS  EG.CFT.ACCS.UR.ZS  \\\n",
       "Country Name                                                           \n",
       "Afghanistan               32.6               15.6               83.2   \n",
       "Albania                   82.0               64.7               93.4   \n",
       "Algeria                   99.7               98.8               99.9   \n",
       "American Samoa             NaN                NaN                NaN   \n",
       "Andorra                  100.0              100.0              100.0   \n",
       "\n",
       "Series Code     EG.ELC.ACCS.ZS  EG.ELC.ACCS.RU.ZS  EG.ELC.ACCS.UR.ZS  \\\n",
       "Country Name                                                           \n",
       "Afghanistan               97.7               97.1               99.5   \n",
       "Albania                  100.0              100.0              100.0   \n",
       "Algeria                   99.5               98.7               99.8   \n",
       "American Samoa             NaN                NaN                NaN   \n",
       "Andorra                  100.0              100.0              100.0   \n",
       "\n",
       "Series Code     NY.ADJ.NNTY.CD  NY.ADJ.NNTY.PC.CD  NY.ADJ.DCO2.GN.ZS  \\\n",
       "Country Name                                                           \n",
       "Afghanistan       1.773194e+10         469.477760           1.290995   \n",
       "Albania           1.244998e+10        4361.999293           1.295783   \n",
       "Algeria           1.341336e+11        3140.907179           4.167493   \n",
       "American Samoa             NaN                NaN                NaN   \n",
       "Andorra                    NaN                NaN           0.588906   \n",
       "\n",
       "Series Code     NY.ADJ.DCO2.CD  ...  SG.VAW.ARGU.ZS  SG.VAW.BURN.ZS  \\\n",
       "Country Name                    ...                                   \n",
       "Afghanistan       2.479358e+08  ...             NaN             NaN   \n",
       "Albania           1.969622e+08  ...             NaN             NaN   \n",
       "Algeria           6.983390e+09  ...             NaN             NaN   \n",
       "American Samoa    1.449396e+07  ...             NaN             NaN   \n",
       "Andorra           2.038946e+07  ...             NaN             NaN   \n",
       "\n",
       "Series Code     SG.VAW.GOES.ZS  SG.VAW.NEGL.ZS  SG.VAW.REFU.ZS  \\\n",
       "Country Name                                                     \n",
       "Afghanistan                NaN             NaN             NaN   \n",
       "Albania                    NaN             NaN             NaN   \n",
       "Algeria                    NaN             NaN             NaN   \n",
       "American Samoa             NaN             NaN             NaN   \n",
       "Andorra                    NaN             NaN             NaN   \n",
       "\n",
       "Series Code     SH.SGR.PROC.P5  DT.NFL.UNEC.CD  DT.NFL.UNEP.CD  \\\n",
       "Country Name                                                     \n",
       "Afghanistan                NaN             NaN             NaN   \n",
       "Albania                    NaN             NaN             NaN   \n",
       "Algeria                    NaN             NaN             NaN   \n",
       "American Samoa             NaN             NaN             NaN   \n",
       "Andorra                    NaN             NaN             NaN   \n",
       "\n",
       "Series Code     DT.NFL.UNTA.CD  DT.NFL.UNWT.CD  \n",
       "Country Name                                    \n",
       "Afghanistan                NaN             NaN  \n",
       "Albania                    NaN             NaN  \n",
       "Algeria                    NaN             NaN  \n",
       "American Samoa             NaN             NaN  \n",
       "Andorra                    NaN             NaN  \n",
       "\n",
       "[5 rows x 1329 columns]"
      ]
     },
     "execution_count": 10,
     "metadata": {},
     "output_type": "execute_result"
    }
   ],
   "source": [
    "df_trans.head()"
   ]
  },
  {
   "cell_type": "code",
   "execution_count": 11,
   "id": "4ab876fe",
   "metadata": {},
   "outputs": [
    {
     "data": {
      "text/plain": [
       "(217, 1329)"
      ]
     },
     "execution_count": 11,
     "metadata": {},
     "output_type": "execute_result"
    }
   ],
   "source": [
    "df_trans.shape"
   ]
  },
  {
   "cell_type": "code",
   "execution_count": 12,
   "id": "1a273bf1",
   "metadata": {},
   "outputs": [
    {
     "data": {
      "text/plain": [
       "87"
      ]
     },
     "execution_count": 12,
     "metadata": {},
     "output_type": "execute_result"
    }
   ],
   "source": [
    "drop_threshold = round(0.4*len(df_trans)) # we will drop colums that have more than 40% missing values\n",
    "drop_threshold"
   ]
  },
  {
   "cell_type": "code",
   "execution_count": 13,
   "id": "5d508980",
   "metadata": {},
   "outputs": [
    {
     "data": {
      "text/plain": [
       "498"
      ]
     },
     "execution_count": 13,
     "metadata": {},
     "output_type": "execute_result"
    }
   ],
   "source": [
    "drop_cols = []\n",
    "for col in df_trans.columns:\n",
    "    if df_trans[col].isnull().sum()>drop_threshold:\n",
    "        drop_cols.append(col)\n",
    "len(drop_cols)"
   ]
  },
  {
   "cell_type": "code",
   "execution_count": 14,
   "id": "51b58446",
   "metadata": {},
   "outputs": [
    {
     "data": {
      "text/html": [
       "<div>\n",
       "<style scoped>\n",
       "    .dataframe tbody tr th:only-of-type {\n",
       "        vertical-align: middle;\n",
       "    }\n",
       "\n",
       "    .dataframe tbody tr th {\n",
       "        vertical-align: top;\n",
       "    }\n",
       "\n",
       "    .dataframe thead th {\n",
       "        text-align: right;\n",
       "    }\n",
       "</style>\n",
       "<table border=\"1\" class=\"dataframe\">\n",
       "  <thead>\n",
       "    <tr style=\"text-align: right;\">\n",
       "      <th>Series Code</th>\n",
       "      <th>EG.CFT.ACCS.ZS</th>\n",
       "      <th>EG.CFT.ACCS.RU.ZS</th>\n",
       "      <th>EG.CFT.ACCS.UR.ZS</th>\n",
       "      <th>EG.ELC.ACCS.ZS</th>\n",
       "      <th>EG.ELC.ACCS.RU.ZS</th>\n",
       "      <th>EG.ELC.ACCS.UR.ZS</th>\n",
       "      <th>NY.ADJ.NNTY.CD</th>\n",
       "      <th>NY.ADJ.NNTY.PC.CD</th>\n",
       "      <th>NY.ADJ.DCO2.GN.ZS</th>\n",
       "      <th>NY.ADJ.DCO2.CD</th>\n",
       "      <th>...</th>\n",
       "      <th>GC.TAX.GSRV.VA.ZS</th>\n",
       "      <th>GC.TAX.GSRV.CN</th>\n",
       "      <th>GC.TAX.YPKG.RV.ZS</th>\n",
       "      <th>GC.TAX.YPKG.ZS</th>\n",
       "      <th>GC.TAX.YPKG.CN</th>\n",
       "      <th>NY.TTF.GNFS.KN</th>\n",
       "      <th>NE.TRD.GNFS.ZS</th>\n",
       "      <th>SL.UEM.TOTL.FE.NE.ZS</th>\n",
       "      <th>SL.UEM.TOTL.MA.NE.ZS</th>\n",
       "      <th>SL.UEM.TOTL.NE.ZS</th>\n",
       "    </tr>\n",
       "    <tr>\n",
       "      <th>Country Name</th>\n",
       "      <th></th>\n",
       "      <th></th>\n",
       "      <th></th>\n",
       "      <th></th>\n",
       "      <th></th>\n",
       "      <th></th>\n",
       "      <th></th>\n",
       "      <th></th>\n",
       "      <th></th>\n",
       "      <th></th>\n",
       "      <th></th>\n",
       "      <th></th>\n",
       "      <th></th>\n",
       "      <th></th>\n",
       "      <th></th>\n",
       "      <th></th>\n",
       "      <th></th>\n",
       "      <th></th>\n",
       "      <th></th>\n",
       "      <th></th>\n",
       "      <th></th>\n",
       "    </tr>\n",
       "  </thead>\n",
       "  <tbody>\n",
       "    <tr>\n",
       "      <th>Afghanistan</th>\n",
       "      <td>32.6</td>\n",
       "      <td>15.6</td>\n",
       "      <td>83.2</td>\n",
       "      <td>97.7</td>\n",
       "      <td>97.1</td>\n",
       "      <td>99.5</td>\n",
       "      <td>1.773194e+10</td>\n",
       "      <td>469.477760</td>\n",
       "      <td>1.290995</td>\n",
       "      <td>2.479358e+08</td>\n",
       "      <td>...</td>\n",
       "      <td>NaN</td>\n",
       "      <td>NaN</td>\n",
       "      <td>NaN</td>\n",
       "      <td>NaN</td>\n",
       "      <td>NaN</td>\n",
       "      <td>NaN</td>\n",
       "      <td>NaN</td>\n",
       "      <td>NaN</td>\n",
       "      <td>NaN</td>\n",
       "      <td>NaN</td>\n",
       "    </tr>\n",
       "    <tr>\n",
       "      <th>Albania</th>\n",
       "      <td>82.0</td>\n",
       "      <td>64.7</td>\n",
       "      <td>93.4</td>\n",
       "      <td>100.0</td>\n",
       "      <td>100.0</td>\n",
       "      <td>100.0</td>\n",
       "      <td>1.244998e+10</td>\n",
       "      <td>4361.999293</td>\n",
       "      <td>1.295783</td>\n",
       "      <td>1.969622e+08</td>\n",
       "      <td>...</td>\n",
       "      <td>18.859746</td>\n",
       "      <td>2.202572e+11</td>\n",
       "      <td>18.374484</td>\n",
       "      <td>26.006401</td>\n",
       "      <td>7.983584e+10</td>\n",
       "      <td>-1.144614e+10</td>\n",
       "      <td>76.279195</td>\n",
       "      <td>11.316</td>\n",
       "      <td>11.585</td>\n",
       "      <td>11.466</td>\n",
       "    </tr>\n",
       "    <tr>\n",
       "      <th>Algeria</th>\n",
       "      <td>99.7</td>\n",
       "      <td>98.8</td>\n",
       "      <td>99.9</td>\n",
       "      <td>99.5</td>\n",
       "      <td>98.7</td>\n",
       "      <td>99.8</td>\n",
       "      <td>1.341336e+11</td>\n",
       "      <td>3140.907179</td>\n",
       "      <td>4.167493</td>\n",
       "      <td>6.983390e+09</td>\n",
       "      <td>...</td>\n",
       "      <td>NaN</td>\n",
       "      <td>NaN</td>\n",
       "      <td>NaN</td>\n",
       "      <td>NaN</td>\n",
       "      <td>NaN</td>\n",
       "      <td>0.000000e+00</td>\n",
       "      <td>46.506843</td>\n",
       "      <td>NaN</td>\n",
       "      <td>NaN</td>\n",
       "      <td>NaN</td>\n",
       "    </tr>\n",
       "    <tr>\n",
       "      <th>American Samoa</th>\n",
       "      <td>NaN</td>\n",
       "      <td>NaN</td>\n",
       "      <td>NaN</td>\n",
       "      <td>NaN</td>\n",
       "      <td>NaN</td>\n",
       "      <td>NaN</td>\n",
       "      <td>NaN</td>\n",
       "      <td>NaN</td>\n",
       "      <td>NaN</td>\n",
       "      <td>1.449396e+07</td>\n",
       "      <td>...</td>\n",
       "      <td>NaN</td>\n",
       "      <td>NaN</td>\n",
       "      <td>NaN</td>\n",
       "      <td>NaN</td>\n",
       "      <td>NaN</td>\n",
       "      <td>-3.990228e+07</td>\n",
       "      <td>156.568779</td>\n",
       "      <td>NaN</td>\n",
       "      <td>NaN</td>\n",
       "      <td>NaN</td>\n",
       "    </tr>\n",
       "    <tr>\n",
       "      <th>Andorra</th>\n",
       "      <td>100.0</td>\n",
       "      <td>100.0</td>\n",
       "      <td>100.0</td>\n",
       "      <td>100.0</td>\n",
       "      <td>100.0</td>\n",
       "      <td>100.0</td>\n",
       "      <td>NaN</td>\n",
       "      <td>NaN</td>\n",
       "      <td>0.588906</td>\n",
       "      <td>2.038946e+07</td>\n",
       "      <td>...</td>\n",
       "      <td>NaN</td>\n",
       "      <td>NaN</td>\n",
       "      <td>NaN</td>\n",
       "      <td>NaN</td>\n",
       "      <td>NaN</td>\n",
       "      <td>NaN</td>\n",
       "      <td>NaN</td>\n",
       "      <td>NaN</td>\n",
       "      <td>NaN</td>\n",
       "      <td>NaN</td>\n",
       "    </tr>\n",
       "  </tbody>\n",
       "</table>\n",
       "<p>5 rows × 831 columns</p>\n",
       "</div>"
      ],
      "text/plain": [
       "Series Code     EG.CFT.ACCS.ZS  EG.CFT.ACCS.RU.ZS  EG.CFT.ACCS.UR.ZS  \\\n",
       "Country Name                                                           \n",
       "Afghanistan               32.6               15.6               83.2   \n",
       "Albania                   82.0               64.7               93.4   \n",
       "Algeria                   99.7               98.8               99.9   \n",
       "American Samoa             NaN                NaN                NaN   \n",
       "Andorra                  100.0              100.0              100.0   \n",
       "\n",
       "Series Code     EG.ELC.ACCS.ZS  EG.ELC.ACCS.RU.ZS  EG.ELC.ACCS.UR.ZS  \\\n",
       "Country Name                                                           \n",
       "Afghanistan               97.7               97.1               99.5   \n",
       "Albania                  100.0              100.0              100.0   \n",
       "Algeria                   99.5               98.7               99.8   \n",
       "American Samoa             NaN                NaN                NaN   \n",
       "Andorra                  100.0              100.0              100.0   \n",
       "\n",
       "Series Code     NY.ADJ.NNTY.CD  NY.ADJ.NNTY.PC.CD  NY.ADJ.DCO2.GN.ZS  \\\n",
       "Country Name                                                           \n",
       "Afghanistan       1.773194e+10         469.477760           1.290995   \n",
       "Albania           1.244998e+10        4361.999293           1.295783   \n",
       "Algeria           1.341336e+11        3140.907179           4.167493   \n",
       "American Samoa             NaN                NaN                NaN   \n",
       "Andorra                    NaN                NaN           0.588906   \n",
       "\n",
       "Series Code     NY.ADJ.DCO2.CD  ...  GC.TAX.GSRV.VA.ZS  GC.TAX.GSRV.CN  \\\n",
       "Country Name                    ...                                      \n",
       "Afghanistan       2.479358e+08  ...                NaN             NaN   \n",
       "Albania           1.969622e+08  ...          18.859746    2.202572e+11   \n",
       "Algeria           6.983390e+09  ...                NaN             NaN   \n",
       "American Samoa    1.449396e+07  ...                NaN             NaN   \n",
       "Andorra           2.038946e+07  ...                NaN             NaN   \n",
       "\n",
       "Series Code     GC.TAX.YPKG.RV.ZS  GC.TAX.YPKG.ZS  GC.TAX.YPKG.CN  \\\n",
       "Country Name                                                        \n",
       "Afghanistan                   NaN             NaN             NaN   \n",
       "Albania                 18.374484       26.006401    7.983584e+10   \n",
       "Algeria                       NaN             NaN             NaN   \n",
       "American Samoa                NaN             NaN             NaN   \n",
       "Andorra                       NaN             NaN             NaN   \n",
       "\n",
       "Series Code     NY.TTF.GNFS.KN  NE.TRD.GNFS.ZS  SL.UEM.TOTL.FE.NE.ZS  \\\n",
       "Country Name                                                           \n",
       "Afghanistan                NaN             NaN                   NaN   \n",
       "Albania          -1.144614e+10       76.279195                11.316   \n",
       "Algeria           0.000000e+00       46.506843                   NaN   \n",
       "American Samoa   -3.990228e+07      156.568779                   NaN   \n",
       "Andorra                    NaN             NaN                   NaN   \n",
       "\n",
       "Series Code     SL.UEM.TOTL.MA.NE.ZS  SL.UEM.TOTL.NE.ZS  \n",
       "Country Name                                             \n",
       "Afghanistan                      NaN                NaN  \n",
       "Albania                       11.585             11.466  \n",
       "Algeria                          NaN                NaN  \n",
       "American Samoa                   NaN                NaN  \n",
       "Andorra                          NaN                NaN  \n",
       "\n",
       "[5 rows x 831 columns]"
      ]
     },
     "execution_count": 14,
     "metadata": {},
     "output_type": "execute_result"
    }
   ],
   "source": [
    "df_trans.drop(columns=drop_cols, axis=1, inplace=True)\n",
    "df_trans.head()"
   ]
  },
  {
   "cell_type": "code",
   "execution_count": 15,
   "id": "e39fc40c",
   "metadata": {},
   "outputs": [
    {
     "data": {
      "text/plain": [
       "Country Name\n",
       "American Samoa              580\n",
       "Monaco                      588\n",
       "Turks and Caicos Islands    591\n",
       "Faroe Islands               592\n",
       "Channel Islands             645\n",
       "Northern Mariana Islands    652\n",
       "British Virgin Islands      653\n",
       "Isle of Man                 655\n",
       "Gibraltar                   660\n",
       "St. Martin (French part)    719\n",
       "dtype: int64"
      ]
     },
     "execution_count": 15,
     "metadata": {},
     "output_type": "execute_result"
    }
   ],
   "source": [
    "df_trans.isnull().sum(axis=1).sort_values().tail(10)"
   ]
  },
  {
   "cell_type": "code",
   "execution_count": 16,
   "id": "b51b3083",
   "metadata": {},
   "outputs": [
    {
     "data": {
      "text/plain": [
       "266"
      ]
     },
     "execution_count": 16,
     "metadata": {},
     "output_type": "execute_result"
    }
   ],
   "source": [
    "drop_threshold = round(0.32*df_trans.shape[1]) # we will drop rows that have more than 60% missing values\n",
    "drop_threshold"
   ]
  },
  {
   "cell_type": "code",
   "execution_count": 17,
   "id": "950f8eca",
   "metadata": {},
   "outputs": [
    {
     "data": {
      "text/plain": [
       "39"
      ]
     },
     "execution_count": 17,
     "metadata": {},
     "output_type": "execute_result"
    }
   ],
   "source": [
    "drop_rows = []\n",
    "for row in df_trans.index:\n",
    "    if df_trans.loc[row].isnull().sum()>drop_threshold:\n",
    "        drop_rows.append(row)\n",
    "len(drop_rows)"
   ]
  },
  {
   "cell_type": "code",
   "execution_count": 18,
   "id": "a897972c",
   "metadata": {},
   "outputs": [],
   "source": [
    "df_trans.drop(drop_rows, axis=0, inplace=True)\n"
   ]
  },
  {
   "cell_type": "code",
   "execution_count": 19,
   "id": "2c239eae",
   "metadata": {},
   "outputs": [
    {
     "data": {
      "text/plain": [
       "Country Name\n",
       "Sao Tome and Principe    187\n",
       "Hong Kong SAR, China     210\n",
       "Barbados                 219\n",
       "Cuba                     220\n",
       "Marshall Islands         221\n",
       "Liberia                  227\n",
       "Antigua and Barbuda      227\n",
       "Grenada                  253\n",
       "Macao SAR, China         253\n",
       "Palau                    256\n",
       "dtype: int64"
      ]
     },
     "execution_count": 19,
     "metadata": {},
     "output_type": "execute_result"
    }
   ],
   "source": [
    "df_trans.isnull().sum(axis=1).sort_values().tail(10)"
   ]
  },
  {
   "cell_type": "code",
   "execution_count": 20,
   "id": "2484a34e",
   "metadata": {},
   "outputs": [
    {
     "data": {
      "text/plain": [
       "(178, 831)"
      ]
     },
     "execution_count": 20,
     "metadata": {},
     "output_type": "execute_result"
    }
   ],
   "source": [
    "df_trans.shape"
   ]
  },
  {
   "cell_type": "markdown",
   "id": "c13d99b9",
   "metadata": {},
   "source": [
    "#Multicolinearity Analysis\n",
    "\n"
   ]
  },
  {
   "cell_type": "code",
   "execution_count": 21,
   "id": "b7c9061f",
   "metadata": {},
   "outputs": [],
   "source": [
    "# # Create correlation matrix\n",
    "# correlation = df_trans.select_dtypes(\"number\").corr().abs()\n",
    "# correlation\n",
    "# # Plot heatmap of `correlation`\n",
    "# sns.heatmap(correlation);"
   ]
  },
  {
   "cell_type": "code",
   "execution_count": 22,
   "id": "ac9a4d2e",
   "metadata": {},
   "outputs": [],
   "source": [
    "# # Drop features with high correlation\n",
    "# threshold = 0.9\n",
    "# # Select upper triangle of correlation matrix\n",
    "# upper = correlation.where(np.triu(np.ones(correlation.shape), k=1).astype(bool))\n",
    "\n",
    "# # Find features with correlation greater than threshold\n",
    "# to_drop = [column for column in upper.columns if any(upper[column] >= threshold)]"
   ]
  },
  {
   "cell_type": "code",
   "execution_count": 23,
   "id": "5a6f8700",
   "metadata": {},
   "outputs": [],
   "source": [
    "# len(to_drop)"
   ]
  },
  {
   "cell_type": "code",
   "execution_count": 24,
   "id": "4f9ef4bb",
   "metadata": {},
   "outputs": [],
   "source": [
    "# df_trans = df_trans.drop(to_drop, axis=1)"
   ]
  },
  {
   "cell_type": "code",
   "execution_count": 25,
   "id": "0209625e",
   "metadata": {},
   "outputs": [],
   "source": [
    "full_keys=df[df[\"Country Name\"]==\"Afghanistan\"][[\"Series Code\",\"Series Name\"]]"
   ]
  },
  {
   "cell_type": "code",
   "execution_count": 26,
   "id": "c063dc07",
   "metadata": {},
   "outputs": [],
   "source": [
    "clean_dict=pd.DataFrame()\n",
    "# for col in df_trans.columns:\n",
    "clean_dict[\"Series Code\"]=[col for col in df_trans.columns]\n",
    "clean_dict[\"Series Name\"]=[full_keys[full_keys['Series Code']==col]['Series Name'].values[0] for col in df_trans.columns]"
   ]
  },
  {
   "cell_type": "code",
   "execution_count": 27,
   "id": "c0280414",
   "metadata": {},
   "outputs": [
    {
     "data": {
      "text/html": [
       "<div>\n",
       "<style scoped>\n",
       "    .dataframe tbody tr th:only-of-type {\n",
       "        vertical-align: middle;\n",
       "    }\n",
       "\n",
       "    .dataframe tbody tr th {\n",
       "        vertical-align: top;\n",
       "    }\n",
       "\n",
       "    .dataframe thead th {\n",
       "        text-align: right;\n",
       "    }\n",
       "</style>\n",
       "<table border=\"1\" class=\"dataframe\">\n",
       "  <thead>\n",
       "    <tr style=\"text-align: right;\">\n",
       "      <th></th>\n",
       "      <th>Series Code</th>\n",
       "      <th>Series Name</th>\n",
       "    </tr>\n",
       "  </thead>\n",
       "  <tbody>\n",
       "    <tr>\n",
       "      <th>0</th>\n",
       "      <td>EG.CFT.ACCS.ZS</td>\n",
       "      <td>Access to clean fuels and technologies for coo...</td>\n",
       "    </tr>\n",
       "    <tr>\n",
       "      <th>1</th>\n",
       "      <td>EG.CFT.ACCS.RU.ZS</td>\n",
       "      <td>Access to clean fuels and technologies for coo...</td>\n",
       "    </tr>\n",
       "    <tr>\n",
       "      <th>2</th>\n",
       "      <td>EG.CFT.ACCS.UR.ZS</td>\n",
       "      <td>Access to clean fuels and technologies for coo...</td>\n",
       "    </tr>\n",
       "    <tr>\n",
       "      <th>3</th>\n",
       "      <td>EG.ELC.ACCS.ZS</td>\n",
       "      <td>Access to electricity (% of population)</td>\n",
       "    </tr>\n",
       "    <tr>\n",
       "      <th>4</th>\n",
       "      <td>EG.ELC.ACCS.RU.ZS</td>\n",
       "      <td>Access to electricity, rural (% of rural popul...</td>\n",
       "    </tr>\n",
       "    <tr>\n",
       "      <th>...</th>\n",
       "      <td>...</td>\n",
       "      <td>...</td>\n",
       "    </tr>\n",
       "    <tr>\n",
       "      <th>826</th>\n",
       "      <td>NY.TTF.GNFS.KN</td>\n",
       "      <td>Terms of trade adjustment (constant LCU)</td>\n",
       "    </tr>\n",
       "    <tr>\n",
       "      <th>827</th>\n",
       "      <td>NE.TRD.GNFS.ZS</td>\n",
       "      <td>Trade (% of GDP)</td>\n",
       "    </tr>\n",
       "    <tr>\n",
       "      <th>828</th>\n",
       "      <td>SL.UEM.TOTL.FE.NE.ZS</td>\n",
       "      <td>Unemployment, female (% of female labor force)...</td>\n",
       "    </tr>\n",
       "    <tr>\n",
       "      <th>829</th>\n",
       "      <td>SL.UEM.TOTL.MA.NE.ZS</td>\n",
       "      <td>Unemployment, male (% of male labor force) (na...</td>\n",
       "    </tr>\n",
       "    <tr>\n",
       "      <th>830</th>\n",
       "      <td>SL.UEM.TOTL.NE.ZS</td>\n",
       "      <td>Unemployment, total (% of total labor force) (...</td>\n",
       "    </tr>\n",
       "  </tbody>\n",
       "</table>\n",
       "<p>831 rows × 2 columns</p>\n",
       "</div>"
      ],
      "text/plain": [
       "              Series Code                                        Series Name\n",
       "0          EG.CFT.ACCS.ZS  Access to clean fuels and technologies for coo...\n",
       "1       EG.CFT.ACCS.RU.ZS  Access to clean fuels and technologies for coo...\n",
       "2       EG.CFT.ACCS.UR.ZS  Access to clean fuels and technologies for coo...\n",
       "3          EG.ELC.ACCS.ZS            Access to electricity (% of population)\n",
       "4       EG.ELC.ACCS.RU.ZS  Access to electricity, rural (% of rural popul...\n",
       "..                    ...                                                ...\n",
       "826        NY.TTF.GNFS.KN           Terms of trade adjustment (constant LCU)\n",
       "827        NE.TRD.GNFS.ZS                                   Trade (% of GDP)\n",
       "828  SL.UEM.TOTL.FE.NE.ZS  Unemployment, female (% of female labor force)...\n",
       "829  SL.UEM.TOTL.MA.NE.ZS  Unemployment, male (% of male labor force) (na...\n",
       "830     SL.UEM.TOTL.NE.ZS  Unemployment, total (% of total labor force) (...\n",
       "\n",
       "[831 rows x 2 columns]"
      ]
     },
     "execution_count": 27,
     "metadata": {},
     "output_type": "execute_result"
    }
   ],
   "source": [
    "clean_dict"
   ]
  },
  {
   "cell_type": "code",
   "execution_count": 28,
   "id": "e02963ad",
   "metadata": {},
   "outputs": [],
   "source": [
    "clean_dict.to_csv('data_dict.csv', index=True) "
   ]
  },
  {
   "cell_type": "code",
   "execution_count": 29,
   "id": "e5a4bc65",
   "metadata": {},
   "outputs": [
    {
     "data": {
      "text/plain": [
       "(178, 831)"
      ]
     },
     "execution_count": 29,
     "metadata": {},
     "output_type": "execute_result"
    }
   ],
   "source": [
    "df_trans.shape"
   ]
  },
  {
   "cell_type": "code",
   "execution_count": 30,
   "id": "17d0359a",
   "metadata": {},
   "outputs": [
    {
     "data": {
      "text/plain": [
       "60"
      ]
     },
     "execution_count": 30,
     "metadata": {},
     "output_type": "execute_result"
    }
   ],
   "source": [
    "max(df_trans.isnull().sum())"
   ]
  },
  {
   "cell_type": "code",
   "execution_count": 31,
   "id": "06102960",
   "metadata": {},
   "outputs": [],
   "source": [
    "df_trans_fill = df_trans.fillna(df_trans.median())"
   ]
  },
  {
   "cell_type": "code",
   "execution_count": 32,
   "id": "46b841cb",
   "metadata": {},
   "outputs": [
    {
     "data": {
      "text/plain": [
       "Series Code\n",
       "EG.CFT.ACCS.ZS          6.864803e+01\n",
       "EG.CFT.ACCS.RU.ZS       6.023596e+01\n",
       "EG.CFT.ACCS.UR.ZS       7.721264e+01\n",
       "EG.ELC.ACCS.ZS          8.504888e+01\n",
       "EG.ELC.ACCS.RU.ZS       8.163427e+01\n",
       "                            ...     \n",
       "NY.TTF.GNFS.KN         -5.893521e+12\n",
       "NE.TRD.GNFS.ZS          8.898768e+01\n",
       "SL.UEM.TOTL.FE.NE.ZS    7.219309e+00\n",
       "SL.UEM.TOTL.MA.NE.ZS    5.895253e+00\n",
       "SL.UEM.TOTL.NE.ZS       6.355376e+00\n",
       "Length: 831, dtype: float64"
      ]
     },
     "execution_count": 32,
     "metadata": {},
     "output_type": "execute_result"
    }
   ],
   "source": [
    "df_trans_fill.mean()"
   ]
  },
  {
   "cell_type": "code",
   "execution_count": 33,
   "id": "1d76e04f",
   "metadata": {},
   "outputs": [],
   "source": [
    "df_trans_fill.to_csv('clean_database.csv',index=True)"
   ]
  }
 ],
 "metadata": {
  "kernelspec": {
   "display_name": "Python 3 (ipykernel)",
   "language": "python",
   "name": "python3"
  },
  "language_info": {
   "codemirror_mode": {
    "name": "ipython",
    "version": 3
   },
   "file_extension": ".py",
   "mimetype": "text/x-python",
   "name": "python",
   "nbconvert_exporter": "python",
   "pygments_lexer": "ipython3",
   "version": "3.11.5"
  }
 },
 "nbformat": 4,
 "nbformat_minor": 5
}

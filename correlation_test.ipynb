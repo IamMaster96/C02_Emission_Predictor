{
 "cells": [
  {
   "cell_type": "code",
   "execution_count": 27,
   "id": "ed50bd66",
   "metadata": {},
   "outputs": [],
   "source": [
    "import warnings\n",
    "warnings.filterwarnings('ignore')"
   ]
  },
  {
   "cell_type": "code",
   "execution_count": 28,
   "id": "fc91dc7a",
   "metadata": {},
   "outputs": [],
   "source": [
    "import pandas as pd\n",
    "from matplotlib import pyplot as plt\n",
    "import plotly.express as px\n",
    "import seaborn as sns\n",
    "from scipy.stats.mstats import trimmed_var\n",
    "from sklearn.preprocessing import StandardScaler\n",
    "from sklearn.linear_model import LinearRegression\n",
    "from sklearn.metrics import mean_absolute_error, r2_score\n",
    "from statsmodels.stats.outliers_influence import variance_inflation_factor\n",
    "import numpy as np"
   ]
  },
  {
   "cell_type": "code",
   "execution_count": 29,
   "id": "9650580f",
   "metadata": {},
   "outputs": [
    {
     "data": {
      "text/html": [
       "<div>\n",
       "<style scoped>\n",
       "    .dataframe tbody tr th:only-of-type {\n",
       "        vertical-align: middle;\n",
       "    }\n",
       "\n",
       "    .dataframe tbody tr th {\n",
       "        vertical-align: top;\n",
       "    }\n",
       "\n",
       "    .dataframe thead th {\n",
       "        text-align: right;\n",
       "    }\n",
       "</style>\n",
       "<table border=\"1\" class=\"dataframe\">\n",
       "  <thead>\n",
       "    <tr style=\"text-align: right;\">\n",
       "      <th></th>\n",
       "      <th>Country Name</th>\n",
       "      <th>Country Code</th>\n",
       "      <th>Series Name</th>\n",
       "      <th>Series Code</th>\n",
       "      <th>2019 [YR2019]</th>\n",
       "      <th>2020 [YR2020]</th>\n",
       "      <th>2021 [YR2021]</th>\n",
       "      <th>2022 [YR2022]</th>\n",
       "      <th>2023 [YR2023]</th>\n",
       "    </tr>\n",
       "  </thead>\n",
       "  <tbody>\n",
       "    <tr>\n",
       "      <th>0</th>\n",
       "      <td>Afghanistan</td>\n",
       "      <td>AFG</td>\n",
       "      <td>Access to clean fuels and technologies for coo...</td>\n",
       "      <td>EG.CFT.ACCS.ZS</td>\n",
       "      <td>32.6</td>\n",
       "      <td>33.8</td>\n",
       "      <td>34.9</td>\n",
       "      <td>36.1</td>\n",
       "      <td>..</td>\n",
       "    </tr>\n",
       "    <tr>\n",
       "      <th>1</th>\n",
       "      <td>Afghanistan</td>\n",
       "      <td>AFG</td>\n",
       "      <td>Access to clean fuels and technologies for coo...</td>\n",
       "      <td>EG.CFT.ACCS.RU.ZS</td>\n",
       "      <td>15.6</td>\n",
       "      <td>16.4</td>\n",
       "      <td>17.4</td>\n",
       "      <td>18.5</td>\n",
       "      <td>..</td>\n",
       "    </tr>\n",
       "    <tr>\n",
       "      <th>2</th>\n",
       "      <td>Afghanistan</td>\n",
       "      <td>AFG</td>\n",
       "      <td>Access to clean fuels and technologies for coo...</td>\n",
       "      <td>EG.CFT.ACCS.UR.ZS</td>\n",
       "      <td>83.2</td>\n",
       "      <td>83.8</td>\n",
       "      <td>84.5</td>\n",
       "      <td>85</td>\n",
       "      <td>..</td>\n",
       "    </tr>\n",
       "    <tr>\n",
       "      <th>3</th>\n",
       "      <td>Afghanistan</td>\n",
       "      <td>AFG</td>\n",
       "      <td>Access to electricity (% of population)</td>\n",
       "      <td>EG.ELC.ACCS.ZS</td>\n",
       "      <td>97.7</td>\n",
       "      <td>97.7</td>\n",
       "      <td>97.7</td>\n",
       "      <td>85.3</td>\n",
       "      <td>..</td>\n",
       "    </tr>\n",
       "    <tr>\n",
       "      <th>4</th>\n",
       "      <td>Afghanistan</td>\n",
       "      <td>AFG</td>\n",
       "      <td>Access to electricity, rural (% of rural popul...</td>\n",
       "      <td>EG.ELC.ACCS.RU.ZS</td>\n",
       "      <td>97.1</td>\n",
       "      <td>97.1</td>\n",
       "      <td>97.1</td>\n",
       "      <td>81.7</td>\n",
       "      <td>..</td>\n",
       "    </tr>\n",
       "  </tbody>\n",
       "</table>\n",
       "</div>"
      ],
      "text/plain": [
       "  Country Name Country Code  \\\n",
       "0  Afghanistan          AFG   \n",
       "1  Afghanistan          AFG   \n",
       "2  Afghanistan          AFG   \n",
       "3  Afghanistan          AFG   \n",
       "4  Afghanistan          AFG   \n",
       "\n",
       "                                         Series Name        Series Code  \\\n",
       "0  Access to clean fuels and technologies for coo...     EG.CFT.ACCS.ZS   \n",
       "1  Access to clean fuels and technologies for coo...  EG.CFT.ACCS.RU.ZS   \n",
       "2  Access to clean fuels and technologies for coo...  EG.CFT.ACCS.UR.ZS   \n",
       "3            Access to electricity (% of population)     EG.ELC.ACCS.ZS   \n",
       "4  Access to electricity, rural (% of rural popul...  EG.ELC.ACCS.RU.ZS   \n",
       "\n",
       "  2019 [YR2019] 2020 [YR2020] 2021 [YR2021] 2022 [YR2022] 2023 [YR2023]  \n",
       "0          32.6          33.8          34.9          36.1            ..  \n",
       "1          15.6          16.4          17.4          18.5            ..  \n",
       "2          83.2          83.8          84.5            85            ..  \n",
       "3          97.7          97.7          97.7          85.3            ..  \n",
       "4          97.1          97.1          97.1          81.7            ..  "
      ]
     },
     "execution_count": 29,
     "metadata": {},
     "output_type": "execute_result"
    }
   ],
   "source": [
    "df = pd.read_csv(\"Data.csv\")\n",
    "df.head()"
   ]
  },
  {
   "cell_type": "code",
   "execution_count": 30,
   "id": "4d695a4f",
   "metadata": {},
   "outputs": [],
   "source": [
    "data_dict = df[['Series Code', 'Series Name']][:1492]\n",
    "data_dict.to_csv('data_dict.csv', index=True) "
   ]
  },
  {
   "cell_type": "code",
   "execution_count": 31,
   "id": "f9252baa",
   "metadata": {},
   "outputs": [],
   "source": [
    "df[\"2019 [YR2019]\"]=df[\"2019 [YR2019]\"].replace(\"..\", None)\n",
    "df[\"2019 [YR2019]\"] = df[\"2019 [YR2019]\"].astype(float)"
   ]
  },
  {
   "cell_type": "code",
   "execution_count": 32,
   "id": "afeae00f",
   "metadata": {},
   "outputs": [],
   "source": [
    "df_trans=pd.pivot_table(df, values=\"2019 [YR2019]\", index=\"Country Name\", columns=\"Series Code\", sort=False)"
   ]
  },
  {
   "cell_type": "code",
   "execution_count": 33,
   "id": "08a08574",
   "metadata": {},
   "outputs": [],
   "source": [
    "# Remove last 48 rows as they correspond to enties like 'world' and not individual countries\n",
    "df_trans=df_trans.iloc[:-48]"
   ]
  },
  {
   "cell_type": "code",
   "execution_count": 34,
   "id": "0de3de93",
   "metadata": {},
   "outputs": [
    {
     "data": {
      "text/html": [
       "<div>\n",
       "<style scoped>\n",
       "    .dataframe tbody tr th:only-of-type {\n",
       "        vertical-align: middle;\n",
       "    }\n",
       "\n",
       "    .dataframe tbody tr th {\n",
       "        vertical-align: top;\n",
       "    }\n",
       "\n",
       "    .dataframe thead th {\n",
       "        text-align: right;\n",
       "    }\n",
       "</style>\n",
       "<table border=\"1\" class=\"dataframe\">\n",
       "  <thead>\n",
       "    <tr style=\"text-align: right;\">\n",
       "      <th>Series Code</th>\n",
       "      <th>EG.CFT.ACCS.ZS</th>\n",
       "      <th>EG.CFT.ACCS.RU.ZS</th>\n",
       "      <th>EG.CFT.ACCS.UR.ZS</th>\n",
       "      <th>EG.ELC.ACCS.ZS</th>\n",
       "      <th>EG.ELC.ACCS.RU.ZS</th>\n",
       "      <th>EG.ELC.ACCS.UR.ZS</th>\n",
       "      <th>NY.ADJ.NNTY.CD</th>\n",
       "      <th>NY.ADJ.NNTY.PC.CD</th>\n",
       "      <th>NY.ADJ.DCO2.GN.ZS</th>\n",
       "      <th>NY.ADJ.DCO2.CD</th>\n",
       "      <th>...</th>\n",
       "      <th>SG.VAW.ARGU.ZS</th>\n",
       "      <th>SG.VAW.BURN.ZS</th>\n",
       "      <th>SG.VAW.GOES.ZS</th>\n",
       "      <th>SG.VAW.NEGL.ZS</th>\n",
       "      <th>SG.VAW.REFU.ZS</th>\n",
       "      <th>SH.SGR.PROC.P5</th>\n",
       "      <th>DT.NFL.UNEC.CD</th>\n",
       "      <th>DT.NFL.UNEP.CD</th>\n",
       "      <th>DT.NFL.UNTA.CD</th>\n",
       "      <th>DT.NFL.UNWT.CD</th>\n",
       "    </tr>\n",
       "    <tr>\n",
       "      <th>Country Name</th>\n",
       "      <th></th>\n",
       "      <th></th>\n",
       "      <th></th>\n",
       "      <th></th>\n",
       "      <th></th>\n",
       "      <th></th>\n",
       "      <th></th>\n",
       "      <th></th>\n",
       "      <th></th>\n",
       "      <th></th>\n",
       "      <th></th>\n",
       "      <th></th>\n",
       "      <th></th>\n",
       "      <th></th>\n",
       "      <th></th>\n",
       "      <th></th>\n",
       "      <th></th>\n",
       "      <th></th>\n",
       "      <th></th>\n",
       "      <th></th>\n",
       "      <th></th>\n",
       "    </tr>\n",
       "  </thead>\n",
       "  <tbody>\n",
       "    <tr>\n",
       "      <th>Afghanistan</th>\n",
       "      <td>32.6</td>\n",
       "      <td>15.6</td>\n",
       "      <td>83.2</td>\n",
       "      <td>97.7</td>\n",
       "      <td>97.1</td>\n",
       "      <td>99.5</td>\n",
       "      <td>1.773194e+10</td>\n",
       "      <td>469.477760</td>\n",
       "      <td>1.290995</td>\n",
       "      <td>2.479358e+08</td>\n",
       "      <td>...</td>\n",
       "      <td>NaN</td>\n",
       "      <td>NaN</td>\n",
       "      <td>NaN</td>\n",
       "      <td>NaN</td>\n",
       "      <td>NaN</td>\n",
       "      <td>NaN</td>\n",
       "      <td>NaN</td>\n",
       "      <td>NaN</td>\n",
       "      <td>NaN</td>\n",
       "      <td>NaN</td>\n",
       "    </tr>\n",
       "    <tr>\n",
       "      <th>Albania</th>\n",
       "      <td>82.0</td>\n",
       "      <td>64.7</td>\n",
       "      <td>93.4</td>\n",
       "      <td>100.0</td>\n",
       "      <td>100.0</td>\n",
       "      <td>100.0</td>\n",
       "      <td>1.244998e+10</td>\n",
       "      <td>4361.999293</td>\n",
       "      <td>1.295783</td>\n",
       "      <td>1.969622e+08</td>\n",
       "      <td>...</td>\n",
       "      <td>NaN</td>\n",
       "      <td>NaN</td>\n",
       "      <td>NaN</td>\n",
       "      <td>NaN</td>\n",
       "      <td>NaN</td>\n",
       "      <td>NaN</td>\n",
       "      <td>NaN</td>\n",
       "      <td>NaN</td>\n",
       "      <td>NaN</td>\n",
       "      <td>NaN</td>\n",
       "    </tr>\n",
       "    <tr>\n",
       "      <th>Algeria</th>\n",
       "      <td>99.7</td>\n",
       "      <td>98.8</td>\n",
       "      <td>99.9</td>\n",
       "      <td>99.5</td>\n",
       "      <td>98.7</td>\n",
       "      <td>99.8</td>\n",
       "      <td>1.341336e+11</td>\n",
       "      <td>3140.907179</td>\n",
       "      <td>4.167493</td>\n",
       "      <td>6.983390e+09</td>\n",
       "      <td>...</td>\n",
       "      <td>NaN</td>\n",
       "      <td>NaN</td>\n",
       "      <td>NaN</td>\n",
       "      <td>NaN</td>\n",
       "      <td>NaN</td>\n",
       "      <td>NaN</td>\n",
       "      <td>NaN</td>\n",
       "      <td>NaN</td>\n",
       "      <td>NaN</td>\n",
       "      <td>NaN</td>\n",
       "    </tr>\n",
       "    <tr>\n",
       "      <th>American Samoa</th>\n",
       "      <td>NaN</td>\n",
       "      <td>NaN</td>\n",
       "      <td>NaN</td>\n",
       "      <td>NaN</td>\n",
       "      <td>NaN</td>\n",
       "      <td>NaN</td>\n",
       "      <td>NaN</td>\n",
       "      <td>NaN</td>\n",
       "      <td>NaN</td>\n",
       "      <td>1.449396e+07</td>\n",
       "      <td>...</td>\n",
       "      <td>NaN</td>\n",
       "      <td>NaN</td>\n",
       "      <td>NaN</td>\n",
       "      <td>NaN</td>\n",
       "      <td>NaN</td>\n",
       "      <td>NaN</td>\n",
       "      <td>NaN</td>\n",
       "      <td>NaN</td>\n",
       "      <td>NaN</td>\n",
       "      <td>NaN</td>\n",
       "    </tr>\n",
       "    <tr>\n",
       "      <th>Andorra</th>\n",
       "      <td>100.0</td>\n",
       "      <td>100.0</td>\n",
       "      <td>100.0</td>\n",
       "      <td>100.0</td>\n",
       "      <td>100.0</td>\n",
       "      <td>100.0</td>\n",
       "      <td>NaN</td>\n",
       "      <td>NaN</td>\n",
       "      <td>0.588906</td>\n",
       "      <td>2.038946e+07</td>\n",
       "      <td>...</td>\n",
       "      <td>NaN</td>\n",
       "      <td>NaN</td>\n",
       "      <td>NaN</td>\n",
       "      <td>NaN</td>\n",
       "      <td>NaN</td>\n",
       "      <td>NaN</td>\n",
       "      <td>NaN</td>\n",
       "      <td>NaN</td>\n",
       "      <td>NaN</td>\n",
       "      <td>NaN</td>\n",
       "    </tr>\n",
       "  </tbody>\n",
       "</table>\n",
       "<p>5 rows × 1329 columns</p>\n",
       "</div>"
      ],
      "text/plain": [
       "Series Code     EG.CFT.ACCS.ZS  EG.CFT.ACCS.RU.ZS  EG.CFT.ACCS.UR.ZS  \\\n",
       "Country Name                                                           \n",
       "Afghanistan               32.6               15.6               83.2   \n",
       "Albania                   82.0               64.7               93.4   \n",
       "Algeria                   99.7               98.8               99.9   \n",
       "American Samoa             NaN                NaN                NaN   \n",
       "Andorra                  100.0              100.0              100.0   \n",
       "\n",
       "Series Code     EG.ELC.ACCS.ZS  EG.ELC.ACCS.RU.ZS  EG.ELC.ACCS.UR.ZS  \\\n",
       "Country Name                                                           \n",
       "Afghanistan               97.7               97.1               99.5   \n",
       "Albania                  100.0              100.0              100.0   \n",
       "Algeria                   99.5               98.7               99.8   \n",
       "American Samoa             NaN                NaN                NaN   \n",
       "Andorra                  100.0              100.0              100.0   \n",
       "\n",
       "Series Code     NY.ADJ.NNTY.CD  NY.ADJ.NNTY.PC.CD  NY.ADJ.DCO2.GN.ZS  \\\n",
       "Country Name                                                           \n",
       "Afghanistan       1.773194e+10         469.477760           1.290995   \n",
       "Albania           1.244998e+10        4361.999293           1.295783   \n",
       "Algeria           1.341336e+11        3140.907179           4.167493   \n",
       "American Samoa             NaN                NaN                NaN   \n",
       "Andorra                    NaN                NaN           0.588906   \n",
       "\n",
       "Series Code     NY.ADJ.DCO2.CD  ...  SG.VAW.ARGU.ZS  SG.VAW.BURN.ZS  \\\n",
       "Country Name                    ...                                   \n",
       "Afghanistan       2.479358e+08  ...             NaN             NaN   \n",
       "Albania           1.969622e+08  ...             NaN             NaN   \n",
       "Algeria           6.983390e+09  ...             NaN             NaN   \n",
       "American Samoa    1.449396e+07  ...             NaN             NaN   \n",
       "Andorra           2.038946e+07  ...             NaN             NaN   \n",
       "\n",
       "Series Code     SG.VAW.GOES.ZS  SG.VAW.NEGL.ZS  SG.VAW.REFU.ZS  \\\n",
       "Country Name                                                     \n",
       "Afghanistan                NaN             NaN             NaN   \n",
       "Albania                    NaN             NaN             NaN   \n",
       "Algeria                    NaN             NaN             NaN   \n",
       "American Samoa             NaN             NaN             NaN   \n",
       "Andorra                    NaN             NaN             NaN   \n",
       "\n",
       "Series Code     SH.SGR.PROC.P5  DT.NFL.UNEC.CD  DT.NFL.UNEP.CD  \\\n",
       "Country Name                                                     \n",
       "Afghanistan                NaN             NaN             NaN   \n",
       "Albania                    NaN             NaN             NaN   \n",
       "Algeria                    NaN             NaN             NaN   \n",
       "American Samoa             NaN             NaN             NaN   \n",
       "Andorra                    NaN             NaN             NaN   \n",
       "\n",
       "Series Code     DT.NFL.UNTA.CD  DT.NFL.UNWT.CD  \n",
       "Country Name                                    \n",
       "Afghanistan                NaN             NaN  \n",
       "Albania                    NaN             NaN  \n",
       "Algeria                    NaN             NaN  \n",
       "American Samoa             NaN             NaN  \n",
       "Andorra                    NaN             NaN  \n",
       "\n",
       "[5 rows x 1329 columns]"
      ]
     },
     "execution_count": 34,
     "metadata": {},
     "output_type": "execute_result"
    }
   ],
   "source": [
    "df_trans.head()"
   ]
  },
  {
   "cell_type": "code",
   "execution_count": 35,
   "id": "d3805372",
   "metadata": {},
   "outputs": [
    {
     "data": {
      "text/plain": [
       "108"
      ]
     },
     "execution_count": 35,
     "metadata": {},
     "output_type": "execute_result"
    }
   ],
   "source": [
    "drop_threshold = round(0.5*len(df_trans)) # we will drop colums that have more than 60% missing values\n",
    "drop_threshold"
   ]
  },
  {
   "cell_type": "code",
   "execution_count": 36,
   "id": "b2717268",
   "metadata": {},
   "outputs": [
    {
     "data": {
      "text/plain": [
       "378"
      ]
     },
     "execution_count": 36,
     "metadata": {},
     "output_type": "execute_result"
    }
   ],
   "source": [
    "drop_cols = []\n",
    "for col in df_trans.columns:\n",
    "    if df_trans[col].isnull().sum()>drop_threshold:\n",
    "        drop_cols.append(col)\n",
    "len(drop_cols)"
   ]
  },
  {
   "cell_type": "code",
   "execution_count": 37,
   "id": "2dd337bf",
   "metadata": {},
   "outputs": [
    {
     "data": {
      "text/html": [
       "<div>\n",
       "<style scoped>\n",
       "    .dataframe tbody tr th:only-of-type {\n",
       "        vertical-align: middle;\n",
       "    }\n",
       "\n",
       "    .dataframe tbody tr th {\n",
       "        vertical-align: top;\n",
       "    }\n",
       "\n",
       "    .dataframe thead th {\n",
       "        text-align: right;\n",
       "    }\n",
       "</style>\n",
       "<table border=\"1\" class=\"dataframe\">\n",
       "  <thead>\n",
       "    <tr style=\"text-align: right;\">\n",
       "      <th>Series Code</th>\n",
       "      <th>EG.CFT.ACCS.ZS</th>\n",
       "      <th>EG.CFT.ACCS.RU.ZS</th>\n",
       "      <th>EG.CFT.ACCS.UR.ZS</th>\n",
       "      <th>EG.ELC.ACCS.ZS</th>\n",
       "      <th>EG.ELC.ACCS.RU.ZS</th>\n",
       "      <th>EG.ELC.ACCS.UR.ZS</th>\n",
       "      <th>NY.ADJ.NNTY.CD</th>\n",
       "      <th>NY.ADJ.NNTY.PC.CD</th>\n",
       "      <th>NY.ADJ.DCO2.GN.ZS</th>\n",
       "      <th>NY.ADJ.DCO2.CD</th>\n",
       "      <th>...</th>\n",
       "      <th>SL.UEM.INTM.ZS</th>\n",
       "      <th>SL.UEM.INTM.FE.ZS</th>\n",
       "      <th>SL.UEM.INTM.MA.ZS</th>\n",
       "      <th>SL.UEM.TOTL.FE.NE.ZS</th>\n",
       "      <th>SL.UEM.TOTL.MA.NE.ZS</th>\n",
       "      <th>SL.UEM.TOTL.NE.ZS</th>\n",
       "      <th>SL.UEM.1524.FE.NE.ZS</th>\n",
       "      <th>SL.UEM.1524.MA.NE.ZS</th>\n",
       "      <th>SL.UEM.1524.NE.ZS</th>\n",
       "      <th>IP.IDS.NRCT</th>\n",
       "    </tr>\n",
       "    <tr>\n",
       "      <th>Country Name</th>\n",
       "      <th></th>\n",
       "      <th></th>\n",
       "      <th></th>\n",
       "      <th></th>\n",
       "      <th></th>\n",
       "      <th></th>\n",
       "      <th></th>\n",
       "      <th></th>\n",
       "      <th></th>\n",
       "      <th></th>\n",
       "      <th></th>\n",
       "      <th></th>\n",
       "      <th></th>\n",
       "      <th></th>\n",
       "      <th></th>\n",
       "      <th></th>\n",
       "      <th></th>\n",
       "      <th></th>\n",
       "      <th></th>\n",
       "      <th></th>\n",
       "      <th></th>\n",
       "    </tr>\n",
       "  </thead>\n",
       "  <tbody>\n",
       "    <tr>\n",
       "      <th>Afghanistan</th>\n",
       "      <td>32.6</td>\n",
       "      <td>15.6</td>\n",
       "      <td>83.2</td>\n",
       "      <td>97.7</td>\n",
       "      <td>97.1</td>\n",
       "      <td>99.5</td>\n",
       "      <td>1.773194e+10</td>\n",
       "      <td>469.477760</td>\n",
       "      <td>1.290995</td>\n",
       "      <td>2.479358e+08</td>\n",
       "      <td>...</td>\n",
       "      <td>NaN</td>\n",
       "      <td>NaN</td>\n",
       "      <td>NaN</td>\n",
       "      <td>NaN</td>\n",
       "      <td>NaN</td>\n",
       "      <td>NaN</td>\n",
       "      <td>NaN</td>\n",
       "      <td>NaN</td>\n",
       "      <td>NaN</td>\n",
       "      <td>NaN</td>\n",
       "    </tr>\n",
       "    <tr>\n",
       "      <th>Albania</th>\n",
       "      <td>82.0</td>\n",
       "      <td>64.7</td>\n",
       "      <td>93.4</td>\n",
       "      <td>100.0</td>\n",
       "      <td>100.0</td>\n",
       "      <td>100.0</td>\n",
       "      <td>1.244998e+10</td>\n",
       "      <td>4361.999293</td>\n",
       "      <td>1.295783</td>\n",
       "      <td>1.969622e+08</td>\n",
       "      <td>...</td>\n",
       "      <td>14.259</td>\n",
       "      <td>15.257</td>\n",
       "      <td>13.746</td>\n",
       "      <td>11.316</td>\n",
       "      <td>11.585</td>\n",
       "      <td>11.466</td>\n",
       "      <td>25.851</td>\n",
       "      <td>27.764</td>\n",
       "      <td>26.978</td>\n",
       "      <td>NaN</td>\n",
       "    </tr>\n",
       "    <tr>\n",
       "      <th>Algeria</th>\n",
       "      <td>99.7</td>\n",
       "      <td>98.8</td>\n",
       "      <td>99.9</td>\n",
       "      <td>99.5</td>\n",
       "      <td>98.7</td>\n",
       "      <td>99.8</td>\n",
       "      <td>1.341336e+11</td>\n",
       "      <td>3140.907179</td>\n",
       "      <td>4.167493</td>\n",
       "      <td>6.983390e+09</td>\n",
       "      <td>...</td>\n",
       "      <td>NaN</td>\n",
       "      <td>NaN</td>\n",
       "      <td>NaN</td>\n",
       "      <td>NaN</td>\n",
       "      <td>NaN</td>\n",
       "      <td>NaN</td>\n",
       "      <td>NaN</td>\n",
       "      <td>NaN</td>\n",
       "      <td>NaN</td>\n",
       "      <td>324.0</td>\n",
       "    </tr>\n",
       "    <tr>\n",
       "      <th>American Samoa</th>\n",
       "      <td>NaN</td>\n",
       "      <td>NaN</td>\n",
       "      <td>NaN</td>\n",
       "      <td>NaN</td>\n",
       "      <td>NaN</td>\n",
       "      <td>NaN</td>\n",
       "      <td>NaN</td>\n",
       "      <td>NaN</td>\n",
       "      <td>NaN</td>\n",
       "      <td>1.449396e+07</td>\n",
       "      <td>...</td>\n",
       "      <td>NaN</td>\n",
       "      <td>NaN</td>\n",
       "      <td>NaN</td>\n",
       "      <td>NaN</td>\n",
       "      <td>NaN</td>\n",
       "      <td>NaN</td>\n",
       "      <td>NaN</td>\n",
       "      <td>NaN</td>\n",
       "      <td>NaN</td>\n",
       "      <td>NaN</td>\n",
       "    </tr>\n",
       "    <tr>\n",
       "      <th>Andorra</th>\n",
       "      <td>100.0</td>\n",
       "      <td>100.0</td>\n",
       "      <td>100.0</td>\n",
       "      <td>100.0</td>\n",
       "      <td>100.0</td>\n",
       "      <td>100.0</td>\n",
       "      <td>NaN</td>\n",
       "      <td>NaN</td>\n",
       "      <td>0.588906</td>\n",
       "      <td>2.038946e+07</td>\n",
       "      <td>...</td>\n",
       "      <td>NaN</td>\n",
       "      <td>NaN</td>\n",
       "      <td>NaN</td>\n",
       "      <td>NaN</td>\n",
       "      <td>NaN</td>\n",
       "      <td>NaN</td>\n",
       "      <td>NaN</td>\n",
       "      <td>NaN</td>\n",
       "      <td>NaN</td>\n",
       "      <td>NaN</td>\n",
       "    </tr>\n",
       "  </tbody>\n",
       "</table>\n",
       "<p>5 rows × 951 columns</p>\n",
       "</div>"
      ],
      "text/plain": [
       "Series Code     EG.CFT.ACCS.ZS  EG.CFT.ACCS.RU.ZS  EG.CFT.ACCS.UR.ZS  \\\n",
       "Country Name                                                           \n",
       "Afghanistan               32.6               15.6               83.2   \n",
       "Albania                   82.0               64.7               93.4   \n",
       "Algeria                   99.7               98.8               99.9   \n",
       "American Samoa             NaN                NaN                NaN   \n",
       "Andorra                  100.0              100.0              100.0   \n",
       "\n",
       "Series Code     EG.ELC.ACCS.ZS  EG.ELC.ACCS.RU.ZS  EG.ELC.ACCS.UR.ZS  \\\n",
       "Country Name                                                           \n",
       "Afghanistan               97.7               97.1               99.5   \n",
       "Albania                  100.0              100.0              100.0   \n",
       "Algeria                   99.5               98.7               99.8   \n",
       "American Samoa             NaN                NaN                NaN   \n",
       "Andorra                  100.0              100.0              100.0   \n",
       "\n",
       "Series Code     NY.ADJ.NNTY.CD  NY.ADJ.NNTY.PC.CD  NY.ADJ.DCO2.GN.ZS  \\\n",
       "Country Name                                                           \n",
       "Afghanistan       1.773194e+10         469.477760           1.290995   \n",
       "Albania           1.244998e+10        4361.999293           1.295783   \n",
       "Algeria           1.341336e+11        3140.907179           4.167493   \n",
       "American Samoa             NaN                NaN                NaN   \n",
       "Andorra                    NaN                NaN           0.588906   \n",
       "\n",
       "Series Code     NY.ADJ.DCO2.CD  ...  SL.UEM.INTM.ZS  SL.UEM.INTM.FE.ZS  \\\n",
       "Country Name                    ...                                      \n",
       "Afghanistan       2.479358e+08  ...             NaN                NaN   \n",
       "Albania           1.969622e+08  ...          14.259             15.257   \n",
       "Algeria           6.983390e+09  ...             NaN                NaN   \n",
       "American Samoa    1.449396e+07  ...             NaN                NaN   \n",
       "Andorra           2.038946e+07  ...             NaN                NaN   \n",
       "\n",
       "Series Code     SL.UEM.INTM.MA.ZS  SL.UEM.TOTL.FE.NE.ZS  SL.UEM.TOTL.MA.NE.ZS  \\\n",
       "Country Name                                                                    \n",
       "Afghanistan                   NaN                   NaN                   NaN   \n",
       "Albania                    13.746                11.316                11.585   \n",
       "Algeria                       NaN                   NaN                   NaN   \n",
       "American Samoa                NaN                   NaN                   NaN   \n",
       "Andorra                       NaN                   NaN                   NaN   \n",
       "\n",
       "Series Code     SL.UEM.TOTL.NE.ZS  SL.UEM.1524.FE.NE.ZS  SL.UEM.1524.MA.NE.ZS  \\\n",
       "Country Name                                                                    \n",
       "Afghanistan                   NaN                   NaN                   NaN   \n",
       "Albania                    11.466                25.851                27.764   \n",
       "Algeria                       NaN                   NaN                   NaN   \n",
       "American Samoa                NaN                   NaN                   NaN   \n",
       "Andorra                       NaN                   NaN                   NaN   \n",
       "\n",
       "Series Code     SL.UEM.1524.NE.ZS  IP.IDS.NRCT  \n",
       "Country Name                                    \n",
       "Afghanistan                   NaN          NaN  \n",
       "Albania                    26.978          NaN  \n",
       "Algeria                       NaN        324.0  \n",
       "American Samoa                NaN          NaN  \n",
       "Andorra                       NaN          NaN  \n",
       "\n",
       "[5 rows x 951 columns]"
      ]
     },
     "execution_count": 37,
     "metadata": {},
     "output_type": "execute_result"
    }
   ],
   "source": [
    "df_trans.drop(columns=drop_cols, axis=1, inplace=True)\n",
    "df_trans.head()"
   ]
  },
  {
   "cell_type": "markdown",
   "id": "49ed6a51",
   "metadata": {},
   "source": [
    "# Split data into feature matrix (X) and target vector (y)"
   ]
  },
  {
   "cell_type": "code",
   "execution_count": 38,
   "id": "3bd49f1c",
   "metadata": {},
   "outputs": [
    {
     "data": {
      "text/plain": [
       "26"
      ]
     },
     "execution_count": 38,
     "metadata": {},
     "output_type": "execute_result"
    }
   ],
   "source": [
    "target = 'EN.ATM.CO2E.PC' # CO2 emissions (metric tons per capita)\n",
    "y = df_trans[target] \n",
    "y.isnull().sum()"
   ]
  },
  {
   "cell_type": "code",
   "execution_count": 39,
   "id": "fdc62d22",
   "metadata": {},
   "outputs": [
    {
     "data": {
      "text/plain": [
       "Country Name\n",
       "Afghanistan       0.297564\n",
       "Albania           1.749462\n",
       "Algeria           3.994402\n",
       "American Samoa         NaN\n",
       "Andorra           6.287204\n",
       "Name: EN.ATM.CO2E.PC, dtype: float64"
      ]
     },
     "execution_count": 39,
     "metadata": {},
     "output_type": "execute_result"
    }
   ],
   "source": [
    "y.head()"
   ]
  },
  {
   "cell_type": "code",
   "execution_count": 40,
   "id": "e40254f3",
   "metadata": {},
   "outputs": [
    {
     "data": {
      "text/html": [
       "<div>\n",
       "<style scoped>\n",
       "    .dataframe tbody tr th:only-of-type {\n",
       "        vertical-align: middle;\n",
       "    }\n",
       "\n",
       "    .dataframe tbody tr th {\n",
       "        vertical-align: top;\n",
       "    }\n",
       "\n",
       "    .dataframe thead th {\n",
       "        text-align: right;\n",
       "    }\n",
       "</style>\n",
       "<table border=\"1\" class=\"dataframe\">\n",
       "  <thead>\n",
       "    <tr style=\"text-align: right;\">\n",
       "      <th>Series Code</th>\n",
       "      <th>EG.CFT.ACCS.ZS</th>\n",
       "      <th>EG.CFT.ACCS.RU.ZS</th>\n",
       "      <th>EG.CFT.ACCS.UR.ZS</th>\n",
       "      <th>EG.ELC.ACCS.ZS</th>\n",
       "      <th>EG.ELC.ACCS.RU.ZS</th>\n",
       "      <th>EG.ELC.ACCS.UR.ZS</th>\n",
       "      <th>NY.ADJ.NNTY.CD</th>\n",
       "      <th>NY.ADJ.NNTY.PC.CD</th>\n",
       "      <th>NY.ADJ.DCO2.GN.ZS</th>\n",
       "      <th>NY.ADJ.DCO2.CD</th>\n",
       "      <th>...</th>\n",
       "      <th>SL.UEM.INTM.ZS</th>\n",
       "      <th>SL.UEM.INTM.FE.ZS</th>\n",
       "      <th>SL.UEM.INTM.MA.ZS</th>\n",
       "      <th>SL.UEM.TOTL.FE.NE.ZS</th>\n",
       "      <th>SL.UEM.TOTL.MA.NE.ZS</th>\n",
       "      <th>SL.UEM.TOTL.NE.ZS</th>\n",
       "      <th>SL.UEM.1524.FE.NE.ZS</th>\n",
       "      <th>SL.UEM.1524.MA.NE.ZS</th>\n",
       "      <th>SL.UEM.1524.NE.ZS</th>\n",
       "      <th>IP.IDS.NRCT</th>\n",
       "    </tr>\n",
       "    <tr>\n",
       "      <th>Country Name</th>\n",
       "      <th></th>\n",
       "      <th></th>\n",
       "      <th></th>\n",
       "      <th></th>\n",
       "      <th></th>\n",
       "      <th></th>\n",
       "      <th></th>\n",
       "      <th></th>\n",
       "      <th></th>\n",
       "      <th></th>\n",
       "      <th></th>\n",
       "      <th></th>\n",
       "      <th></th>\n",
       "      <th></th>\n",
       "      <th></th>\n",
       "      <th></th>\n",
       "      <th></th>\n",
       "      <th></th>\n",
       "      <th></th>\n",
       "      <th></th>\n",
       "      <th></th>\n",
       "    </tr>\n",
       "  </thead>\n",
       "  <tbody>\n",
       "    <tr>\n",
       "      <th>Afghanistan</th>\n",
       "      <td>32.6</td>\n",
       "      <td>15.6</td>\n",
       "      <td>83.2</td>\n",
       "      <td>97.7</td>\n",
       "      <td>97.1</td>\n",
       "      <td>99.5</td>\n",
       "      <td>1.773194e+10</td>\n",
       "      <td>469.477760</td>\n",
       "      <td>1.290995</td>\n",
       "      <td>2.479358e+08</td>\n",
       "      <td>...</td>\n",
       "      <td>NaN</td>\n",
       "      <td>NaN</td>\n",
       "      <td>NaN</td>\n",
       "      <td>NaN</td>\n",
       "      <td>NaN</td>\n",
       "      <td>NaN</td>\n",
       "      <td>NaN</td>\n",
       "      <td>NaN</td>\n",
       "      <td>NaN</td>\n",
       "      <td>NaN</td>\n",
       "    </tr>\n",
       "    <tr>\n",
       "      <th>Albania</th>\n",
       "      <td>82.0</td>\n",
       "      <td>64.7</td>\n",
       "      <td>93.4</td>\n",
       "      <td>100.0</td>\n",
       "      <td>100.0</td>\n",
       "      <td>100.0</td>\n",
       "      <td>1.244998e+10</td>\n",
       "      <td>4361.999293</td>\n",
       "      <td>1.295783</td>\n",
       "      <td>1.969622e+08</td>\n",
       "      <td>...</td>\n",
       "      <td>14.259</td>\n",
       "      <td>15.257</td>\n",
       "      <td>13.746</td>\n",
       "      <td>11.316</td>\n",
       "      <td>11.585</td>\n",
       "      <td>11.466</td>\n",
       "      <td>25.851</td>\n",
       "      <td>27.764</td>\n",
       "      <td>26.978</td>\n",
       "      <td>NaN</td>\n",
       "    </tr>\n",
       "    <tr>\n",
       "      <th>Algeria</th>\n",
       "      <td>99.7</td>\n",
       "      <td>98.8</td>\n",
       "      <td>99.9</td>\n",
       "      <td>99.5</td>\n",
       "      <td>98.7</td>\n",
       "      <td>99.8</td>\n",
       "      <td>1.341336e+11</td>\n",
       "      <td>3140.907179</td>\n",
       "      <td>4.167493</td>\n",
       "      <td>6.983390e+09</td>\n",
       "      <td>...</td>\n",
       "      <td>NaN</td>\n",
       "      <td>NaN</td>\n",
       "      <td>NaN</td>\n",
       "      <td>NaN</td>\n",
       "      <td>NaN</td>\n",
       "      <td>NaN</td>\n",
       "      <td>NaN</td>\n",
       "      <td>NaN</td>\n",
       "      <td>NaN</td>\n",
       "      <td>324.0</td>\n",
       "    </tr>\n",
       "    <tr>\n",
       "      <th>American Samoa</th>\n",
       "      <td>NaN</td>\n",
       "      <td>NaN</td>\n",
       "      <td>NaN</td>\n",
       "      <td>NaN</td>\n",
       "      <td>NaN</td>\n",
       "      <td>NaN</td>\n",
       "      <td>NaN</td>\n",
       "      <td>NaN</td>\n",
       "      <td>NaN</td>\n",
       "      <td>1.449396e+07</td>\n",
       "      <td>...</td>\n",
       "      <td>NaN</td>\n",
       "      <td>NaN</td>\n",
       "      <td>NaN</td>\n",
       "      <td>NaN</td>\n",
       "      <td>NaN</td>\n",
       "      <td>NaN</td>\n",
       "      <td>NaN</td>\n",
       "      <td>NaN</td>\n",
       "      <td>NaN</td>\n",
       "      <td>NaN</td>\n",
       "    </tr>\n",
       "    <tr>\n",
       "      <th>Andorra</th>\n",
       "      <td>100.0</td>\n",
       "      <td>100.0</td>\n",
       "      <td>100.0</td>\n",
       "      <td>100.0</td>\n",
       "      <td>100.0</td>\n",
       "      <td>100.0</td>\n",
       "      <td>NaN</td>\n",
       "      <td>NaN</td>\n",
       "      <td>0.588906</td>\n",
       "      <td>2.038946e+07</td>\n",
       "      <td>...</td>\n",
       "      <td>NaN</td>\n",
       "      <td>NaN</td>\n",
       "      <td>NaN</td>\n",
       "      <td>NaN</td>\n",
       "      <td>NaN</td>\n",
       "      <td>NaN</td>\n",
       "      <td>NaN</td>\n",
       "      <td>NaN</td>\n",
       "      <td>NaN</td>\n",
       "      <td>NaN</td>\n",
       "    </tr>\n",
       "  </tbody>\n",
       "</table>\n",
       "<p>5 rows × 950 columns</p>\n",
       "</div>"
      ],
      "text/plain": [
       "Series Code     EG.CFT.ACCS.ZS  EG.CFT.ACCS.RU.ZS  EG.CFT.ACCS.UR.ZS  \\\n",
       "Country Name                                                           \n",
       "Afghanistan               32.6               15.6               83.2   \n",
       "Albania                   82.0               64.7               93.4   \n",
       "Algeria                   99.7               98.8               99.9   \n",
       "American Samoa             NaN                NaN                NaN   \n",
       "Andorra                  100.0              100.0              100.0   \n",
       "\n",
       "Series Code     EG.ELC.ACCS.ZS  EG.ELC.ACCS.RU.ZS  EG.ELC.ACCS.UR.ZS  \\\n",
       "Country Name                                                           \n",
       "Afghanistan               97.7               97.1               99.5   \n",
       "Albania                  100.0              100.0              100.0   \n",
       "Algeria                   99.5               98.7               99.8   \n",
       "American Samoa             NaN                NaN                NaN   \n",
       "Andorra                  100.0              100.0              100.0   \n",
       "\n",
       "Series Code     NY.ADJ.NNTY.CD  NY.ADJ.NNTY.PC.CD  NY.ADJ.DCO2.GN.ZS  \\\n",
       "Country Name                                                           \n",
       "Afghanistan       1.773194e+10         469.477760           1.290995   \n",
       "Albania           1.244998e+10        4361.999293           1.295783   \n",
       "Algeria           1.341336e+11        3140.907179           4.167493   \n",
       "American Samoa             NaN                NaN                NaN   \n",
       "Andorra                    NaN                NaN           0.588906   \n",
       "\n",
       "Series Code     NY.ADJ.DCO2.CD  ...  SL.UEM.INTM.ZS  SL.UEM.INTM.FE.ZS  \\\n",
       "Country Name                    ...                                      \n",
       "Afghanistan       2.479358e+08  ...             NaN                NaN   \n",
       "Albania           1.969622e+08  ...          14.259             15.257   \n",
       "Algeria           6.983390e+09  ...             NaN                NaN   \n",
       "American Samoa    1.449396e+07  ...             NaN                NaN   \n",
       "Andorra           2.038946e+07  ...             NaN                NaN   \n",
       "\n",
       "Series Code     SL.UEM.INTM.MA.ZS  SL.UEM.TOTL.FE.NE.ZS  SL.UEM.TOTL.MA.NE.ZS  \\\n",
       "Country Name                                                                    \n",
       "Afghanistan                   NaN                   NaN                   NaN   \n",
       "Albania                    13.746                11.316                11.585   \n",
       "Algeria                       NaN                   NaN                   NaN   \n",
       "American Samoa                NaN                   NaN                   NaN   \n",
       "Andorra                       NaN                   NaN                   NaN   \n",
       "\n",
       "Series Code     SL.UEM.TOTL.NE.ZS  SL.UEM.1524.FE.NE.ZS  SL.UEM.1524.MA.NE.ZS  \\\n",
       "Country Name                                                                    \n",
       "Afghanistan                   NaN                   NaN                   NaN   \n",
       "Albania                    11.466                25.851                27.764   \n",
       "Algeria                       NaN                   NaN                   NaN   \n",
       "American Samoa                NaN                   NaN                   NaN   \n",
       "Andorra                       NaN                   NaN                   NaN   \n",
       "\n",
       "Series Code     SL.UEM.1524.NE.ZS  IP.IDS.NRCT  \n",
       "Country Name                                    \n",
       "Afghanistan                   NaN          NaN  \n",
       "Albania                    26.978          NaN  \n",
       "Algeria                       NaN        324.0  \n",
       "American Samoa                NaN          NaN  \n",
       "Andorra                       NaN          NaN  \n",
       "\n",
       "[5 rows x 950 columns]"
      ]
     },
     "execution_count": 40,
     "metadata": {},
     "output_type": "execute_result"
    }
   ],
   "source": [
    "X = df_trans.drop([target], axis=1)\n",
    "X.head()"
   ]
  },
  {
   "cell_type": "markdown",
   "id": "edeb2e56",
   "metadata": {},
   "source": [
    "# Feature Selection"
   ]
  },
  {
   "cell_type": "markdown",
   "id": "08fde7fa",
   "metadata": {},
   "source": [
    "## Feature Scaling"
   ]
  },
  {
   "cell_type": "code",
   "execution_count": 41,
   "id": "4516224e",
   "metadata": {},
   "outputs": [
    {
     "name": "stdout",
     "output_type": "stream",
     "text": [
      "X_scaled type: <class 'pandas.core.frame.DataFrame'>\n",
      "X_scaled shape: (217, 950)\n"
     ]
    },
    {
     "data": {
      "text/html": [
       "<div>\n",
       "<style scoped>\n",
       "    .dataframe tbody tr th:only-of-type {\n",
       "        vertical-align: middle;\n",
       "    }\n",
       "\n",
       "    .dataframe tbody tr th {\n",
       "        vertical-align: top;\n",
       "    }\n",
       "\n",
       "    .dataframe thead th {\n",
       "        text-align: right;\n",
       "    }\n",
       "</style>\n",
       "<table border=\"1\" class=\"dataframe\">\n",
       "  <thead>\n",
       "    <tr style=\"text-align: right;\">\n",
       "      <th>Series Code</th>\n",
       "      <th>EG.CFT.ACCS.ZS</th>\n",
       "      <th>EG.CFT.ACCS.RU.ZS</th>\n",
       "      <th>EG.CFT.ACCS.UR.ZS</th>\n",
       "      <th>EG.ELC.ACCS.ZS</th>\n",
       "      <th>EG.ELC.ACCS.RU.ZS</th>\n",
       "      <th>EG.ELC.ACCS.UR.ZS</th>\n",
       "      <th>NY.ADJ.NNTY.CD</th>\n",
       "      <th>NY.ADJ.NNTY.PC.CD</th>\n",
       "      <th>NY.ADJ.DCO2.GN.ZS</th>\n",
       "      <th>NY.ADJ.DCO2.CD</th>\n",
       "      <th>...</th>\n",
       "      <th>SL.UEM.INTM.ZS</th>\n",
       "      <th>SL.UEM.INTM.FE.ZS</th>\n",
       "      <th>SL.UEM.INTM.MA.ZS</th>\n",
       "      <th>SL.UEM.TOTL.FE.NE.ZS</th>\n",
       "      <th>SL.UEM.TOTL.MA.NE.ZS</th>\n",
       "      <th>SL.UEM.TOTL.NE.ZS</th>\n",
       "      <th>SL.UEM.1524.FE.NE.ZS</th>\n",
       "      <th>SL.UEM.1524.MA.NE.ZS</th>\n",
       "      <th>SL.UEM.1524.NE.ZS</th>\n",
       "      <th>IP.IDS.NRCT</th>\n",
       "    </tr>\n",
       "    <tr>\n",
       "      <th>Country Name</th>\n",
       "      <th></th>\n",
       "      <th></th>\n",
       "      <th></th>\n",
       "      <th></th>\n",
       "      <th></th>\n",
       "      <th></th>\n",
       "      <th></th>\n",
       "      <th></th>\n",
       "      <th></th>\n",
       "      <th></th>\n",
       "      <th></th>\n",
       "      <th></th>\n",
       "      <th></th>\n",
       "      <th></th>\n",
       "      <th></th>\n",
       "      <th></th>\n",
       "      <th></th>\n",
       "      <th></th>\n",
       "      <th></th>\n",
       "      <th></th>\n",
       "      <th></th>\n",
       "    </tr>\n",
       "  </thead>\n",
       "  <tbody>\n",
       "    <tr>\n",
       "      <th>Afghanistan</th>\n",
       "      <td>-0.923737</td>\n",
       "      <td>-1.044075</td>\n",
       "      <td>0.214607</td>\n",
       "      <td>0.472171</td>\n",
       "      <td>0.468695</td>\n",
       "      <td>0.419938</td>\n",
       "      <td>-0.221602</td>\n",
       "      <td>-0.729220</td>\n",
       "      <td>-0.327193</td>\n",
       "      <td>-0.187070</td>\n",
       "      <td>...</td>\n",
       "      <td>NaN</td>\n",
       "      <td>NaN</td>\n",
       "      <td>NaN</td>\n",
       "      <td>NaN</td>\n",
       "      <td>NaN</td>\n",
       "      <td>NaN</td>\n",
       "      <td>NaN</td>\n",
       "      <td>NaN</td>\n",
       "      <td>NaN</td>\n",
       "      <td>NaN</td>\n",
       "    </tr>\n",
       "    <tr>\n",
       "      <th>Albania</th>\n",
       "      <td>0.386290</td>\n",
       "      <td>0.130367</td>\n",
       "      <td>0.513818</td>\n",
       "      <td>0.566266</td>\n",
       "      <td>0.562507</td>\n",
       "      <td>0.454917</td>\n",
       "      <td>-0.224820</td>\n",
       "      <td>-0.463438</td>\n",
       "      <td>-0.323800</td>\n",
       "      <td>-0.188558</td>\n",
       "      <td>...</td>\n",
       "      <td>0.989727</td>\n",
       "      <td>0.570101</td>\n",
       "      <td>1.159429</td>\n",
       "      <td>0.421847</td>\n",
       "      <td>1.067799</td>\n",
       "      <td>0.840996</td>\n",
       "      <td>0.505386</td>\n",
       "      <td>1.174634</td>\n",
       "      <td>0.944289</td>\n",
       "      <td>NaN</td>\n",
       "    </tr>\n",
       "    <tr>\n",
       "      <th>Algeria</th>\n",
       "      <td>0.855672</td>\n",
       "      <td>0.946018</td>\n",
       "      <td>0.704492</td>\n",
       "      <td>0.545811</td>\n",
       "      <td>0.520453</td>\n",
       "      <td>0.440925</td>\n",
       "      <td>-0.150673</td>\n",
       "      <td>-0.546814</td>\n",
       "      <td>1.711529</td>\n",
       "      <td>0.009578</td>\n",
       "      <td>...</td>\n",
       "      <td>NaN</td>\n",
       "      <td>NaN</td>\n",
       "      <td>NaN</td>\n",
       "      <td>NaN</td>\n",
       "      <td>NaN</td>\n",
       "      <td>NaN</td>\n",
       "      <td>NaN</td>\n",
       "      <td>NaN</td>\n",
       "      <td>NaN</td>\n",
       "      <td>-0.346146</td>\n",
       "    </tr>\n",
       "    <tr>\n",
       "      <th>American Samoa</th>\n",
       "      <td>NaN</td>\n",
       "      <td>NaN</td>\n",
       "      <td>NaN</td>\n",
       "      <td>NaN</td>\n",
       "      <td>NaN</td>\n",
       "      <td>NaN</td>\n",
       "      <td>NaN</td>\n",
       "      <td>NaN</td>\n",
       "      <td>NaN</td>\n",
       "      <td>-0.193886</td>\n",
       "      <td>...</td>\n",
       "      <td>NaN</td>\n",
       "      <td>NaN</td>\n",
       "      <td>NaN</td>\n",
       "      <td>NaN</td>\n",
       "      <td>NaN</td>\n",
       "      <td>NaN</td>\n",
       "      <td>NaN</td>\n",
       "      <td>NaN</td>\n",
       "      <td>NaN</td>\n",
       "      <td>NaN</td>\n",
       "    </tr>\n",
       "    <tr>\n",
       "      <th>Andorra</th>\n",
       "      <td>0.863628</td>\n",
       "      <td>0.974721</td>\n",
       "      <td>0.707425</td>\n",
       "      <td>0.566266</td>\n",
       "      <td>0.562507</td>\n",
       "      <td>0.454917</td>\n",
       "      <td>NaN</td>\n",
       "      <td>NaN</td>\n",
       "      <td>-0.824800</td>\n",
       "      <td>-0.193714</td>\n",
       "      <td>...</td>\n",
       "      <td>NaN</td>\n",
       "      <td>NaN</td>\n",
       "      <td>NaN</td>\n",
       "      <td>NaN</td>\n",
       "      <td>NaN</td>\n",
       "      <td>NaN</td>\n",
       "      <td>NaN</td>\n",
       "      <td>NaN</td>\n",
       "      <td>NaN</td>\n",
       "      <td>NaN</td>\n",
       "    </tr>\n",
       "  </tbody>\n",
       "</table>\n",
       "<p>5 rows × 950 columns</p>\n",
       "</div>"
      ],
      "text/plain": [
       "Series Code     EG.CFT.ACCS.ZS  EG.CFT.ACCS.RU.ZS  EG.CFT.ACCS.UR.ZS  \\\n",
       "Country Name                                                           \n",
       "Afghanistan          -0.923737          -1.044075           0.214607   \n",
       "Albania               0.386290           0.130367           0.513818   \n",
       "Algeria               0.855672           0.946018           0.704492   \n",
       "American Samoa             NaN                NaN                NaN   \n",
       "Andorra               0.863628           0.974721           0.707425   \n",
       "\n",
       "Series Code     EG.ELC.ACCS.ZS  EG.ELC.ACCS.RU.ZS  EG.ELC.ACCS.UR.ZS  \\\n",
       "Country Name                                                           \n",
       "Afghanistan           0.472171           0.468695           0.419938   \n",
       "Albania               0.566266           0.562507           0.454917   \n",
       "Algeria               0.545811           0.520453           0.440925   \n",
       "American Samoa             NaN                NaN                NaN   \n",
       "Andorra               0.566266           0.562507           0.454917   \n",
       "\n",
       "Series Code     NY.ADJ.NNTY.CD  NY.ADJ.NNTY.PC.CD  NY.ADJ.DCO2.GN.ZS  \\\n",
       "Country Name                                                           \n",
       "Afghanistan          -0.221602          -0.729220          -0.327193   \n",
       "Albania              -0.224820          -0.463438          -0.323800   \n",
       "Algeria              -0.150673          -0.546814           1.711529   \n",
       "American Samoa             NaN                NaN                NaN   \n",
       "Andorra                    NaN                NaN          -0.824800   \n",
       "\n",
       "Series Code     NY.ADJ.DCO2.CD  ...  SL.UEM.INTM.ZS  SL.UEM.INTM.FE.ZS  \\\n",
       "Country Name                    ...                                      \n",
       "Afghanistan          -0.187070  ...             NaN                NaN   \n",
       "Albania              -0.188558  ...        0.989727           0.570101   \n",
       "Algeria               0.009578  ...             NaN                NaN   \n",
       "American Samoa       -0.193886  ...             NaN                NaN   \n",
       "Andorra              -0.193714  ...             NaN                NaN   \n",
       "\n",
       "Series Code     SL.UEM.INTM.MA.ZS  SL.UEM.TOTL.FE.NE.ZS  SL.UEM.TOTL.MA.NE.ZS  \\\n",
       "Country Name                                                                    \n",
       "Afghanistan                   NaN                   NaN                   NaN   \n",
       "Albania                  1.159429              0.421847              1.067799   \n",
       "Algeria                       NaN                   NaN                   NaN   \n",
       "American Samoa                NaN                   NaN                   NaN   \n",
       "Andorra                       NaN                   NaN                   NaN   \n",
       "\n",
       "Series Code     SL.UEM.TOTL.NE.ZS  SL.UEM.1524.FE.NE.ZS  SL.UEM.1524.MA.NE.ZS  \\\n",
       "Country Name                                                                    \n",
       "Afghanistan                   NaN                   NaN                   NaN   \n",
       "Albania                  0.840996              0.505386              1.174634   \n",
       "Algeria                       NaN                   NaN                   NaN   \n",
       "American Samoa                NaN                   NaN                   NaN   \n",
       "Andorra                       NaN                   NaN                   NaN   \n",
       "\n",
       "Series Code     SL.UEM.1524.NE.ZS  IP.IDS.NRCT  \n",
       "Country Name                                    \n",
       "Afghanistan                   NaN          NaN  \n",
       "Albania                  0.944289          NaN  \n",
       "Algeria                       NaN    -0.346146  \n",
       "American Samoa                NaN          NaN  \n",
       "Andorra                       NaN          NaN  \n",
       "\n",
       "[5 rows x 950 columns]"
      ]
     },
     "execution_count": 41,
     "metadata": {},
     "output_type": "execute_result"
    }
   ],
   "source": [
    "# Instantiate transformer\n",
    "ss = StandardScaler()\n",
    "\n",
    "# Transform `X`\n",
    "X_scaled_data = ss.fit_transform(X)\n",
    "\n",
    "# Put `X_scaled_data` into DataFrame\n",
    "X_scaled = pd.DataFrame(X_scaled_data, columns=X.columns, index=X.index)\n",
    "\n",
    "print(\"X_scaled type:\", type(X_scaled))\n",
    "print(\"X_scaled shape:\", X_scaled.shape)\n",
    "X_scaled.head()"
   ]
  },
  {
   "cell_type": "code",
   "execution_count": 42,
   "id": "a7875935",
   "metadata": {},
   "outputs": [
    {
     "name": "stdout",
     "output_type": "stream",
     "text": [
      "X_scaled_summary type: <class 'pandas.core.frame.DataFrame'>\n",
      "X_scaled_summary shape: (2, 950)\n"
     ]
    },
    {
     "data": {
      "text/html": [
       "<div>\n",
       "<style scoped>\n",
       "    .dataframe tbody tr th:only-of-type {\n",
       "        vertical-align: middle;\n",
       "    }\n",
       "\n",
       "    .dataframe tbody tr th {\n",
       "        vertical-align: top;\n",
       "    }\n",
       "\n",
       "    .dataframe thead th {\n",
       "        text-align: right;\n",
       "    }\n",
       "</style>\n",
       "<table border=\"1\" class=\"dataframe\">\n",
       "  <thead>\n",
       "    <tr style=\"text-align: right;\">\n",
       "      <th>Series Code</th>\n",
       "      <th>EG.CFT.ACCS.ZS</th>\n",
       "      <th>EG.CFT.ACCS.RU.ZS</th>\n",
       "      <th>EG.CFT.ACCS.UR.ZS</th>\n",
       "      <th>EG.ELC.ACCS.ZS</th>\n",
       "      <th>EG.ELC.ACCS.RU.ZS</th>\n",
       "      <th>EG.ELC.ACCS.UR.ZS</th>\n",
       "      <th>NY.ADJ.NNTY.CD</th>\n",
       "      <th>NY.ADJ.NNTY.PC.CD</th>\n",
       "      <th>NY.ADJ.DCO2.GN.ZS</th>\n",
       "      <th>NY.ADJ.DCO2.CD</th>\n",
       "      <th>...</th>\n",
       "      <th>SL.UEM.INTM.ZS</th>\n",
       "      <th>SL.UEM.INTM.FE.ZS</th>\n",
       "      <th>SL.UEM.INTM.MA.ZS</th>\n",
       "      <th>SL.UEM.TOTL.FE.NE.ZS</th>\n",
       "      <th>SL.UEM.TOTL.MA.NE.ZS</th>\n",
       "      <th>SL.UEM.TOTL.NE.ZS</th>\n",
       "      <th>SL.UEM.1524.FE.NE.ZS</th>\n",
       "      <th>SL.UEM.1524.MA.NE.ZS</th>\n",
       "      <th>SL.UEM.1524.NE.ZS</th>\n",
       "      <th>IP.IDS.NRCT</th>\n",
       "    </tr>\n",
       "  </thead>\n",
       "  <tbody>\n",
       "    <tr>\n",
       "      <th>mean</th>\n",
       "      <td>0</td>\n",
       "      <td>0</td>\n",
       "      <td>0</td>\n",
       "      <td>0</td>\n",
       "      <td>0</td>\n",
       "      <td>0</td>\n",
       "      <td>0</td>\n",
       "      <td>0</td>\n",
       "      <td>0</td>\n",
       "      <td>0</td>\n",
       "      <td>...</td>\n",
       "      <td>0</td>\n",
       "      <td>0</td>\n",
       "      <td>0</td>\n",
       "      <td>0</td>\n",
       "      <td>0</td>\n",
       "      <td>0</td>\n",
       "      <td>0</td>\n",
       "      <td>0</td>\n",
       "      <td>0</td>\n",
       "      <td>0</td>\n",
       "    </tr>\n",
       "    <tr>\n",
       "      <th>std</th>\n",
       "      <td>1</td>\n",
       "      <td>1</td>\n",
       "      <td>1</td>\n",
       "      <td>1</td>\n",
       "      <td>1</td>\n",
       "      <td>1</td>\n",
       "      <td>1</td>\n",
       "      <td>1</td>\n",
       "      <td>1</td>\n",
       "      <td>1</td>\n",
       "      <td>...</td>\n",
       "      <td>1</td>\n",
       "      <td>1</td>\n",
       "      <td>1</td>\n",
       "      <td>1</td>\n",
       "      <td>1</td>\n",
       "      <td>1</td>\n",
       "      <td>1</td>\n",
       "      <td>1</td>\n",
       "      <td>1</td>\n",
       "      <td>1</td>\n",
       "    </tr>\n",
       "  </tbody>\n",
       "</table>\n",
       "<p>2 rows × 950 columns</p>\n",
       "</div>"
      ],
      "text/plain": [
       "Series Code  EG.CFT.ACCS.ZS  EG.CFT.ACCS.RU.ZS  EG.CFT.ACCS.UR.ZS  \\\n",
       "mean                      0                  0                  0   \n",
       "std                       1                  1                  1   \n",
       "\n",
       "Series Code  EG.ELC.ACCS.ZS  EG.ELC.ACCS.RU.ZS  EG.ELC.ACCS.UR.ZS  \\\n",
       "mean                      0                  0                  0   \n",
       "std                       1                  1                  1   \n",
       "\n",
       "Series Code  NY.ADJ.NNTY.CD  NY.ADJ.NNTY.PC.CD  NY.ADJ.DCO2.GN.ZS  \\\n",
       "mean                      0                  0                  0   \n",
       "std                       1                  1                  1   \n",
       "\n",
       "Series Code  NY.ADJ.DCO2.CD  ...  SL.UEM.INTM.ZS  SL.UEM.INTM.FE.ZS  \\\n",
       "mean                      0  ...               0                  0   \n",
       "std                       1  ...               1                  1   \n",
       "\n",
       "Series Code  SL.UEM.INTM.MA.ZS  SL.UEM.TOTL.FE.NE.ZS  SL.UEM.TOTL.MA.NE.ZS  \\\n",
       "mean                         0                     0                     0   \n",
       "std                          1                     1                     1   \n",
       "\n",
       "Series Code  SL.UEM.TOTL.NE.ZS  SL.UEM.1524.FE.NE.ZS  SL.UEM.1524.MA.NE.ZS  \\\n",
       "mean                         0                     0                     0   \n",
       "std                          1                     1                     1   \n",
       "\n",
       "Series Code  SL.UEM.1524.NE.ZS  IP.IDS.NRCT  \n",
       "mean                         0            0  \n",
       "std                          1            1  \n",
       "\n",
       "[2 rows x 950 columns]"
      ]
     },
     "execution_count": 42,
     "metadata": {},
     "output_type": "execute_result"
    }
   ],
   "source": [
    "X_scaled_summary = X_scaled.aggregate([\"mean\",\"std\"]).astype(int)\n",
    "\n",
    "print(\"X_scaled_summary type:\", type(X_scaled_summary))\n",
    "print(\"X_scaled_summary shape:\", X_scaled_summary.shape)\n",
    "X_scaled_summary"
   ]
  },
  {
   "cell_type": "markdown",
   "id": "29477712",
   "metadata": {},
   "source": [
    "# GDP correlation"
   ]
  },
  {
   "cell_type": "code",
   "execution_count": 43,
   "id": "4a005858",
   "metadata": {},
   "outputs": [],
   "source": [
    "GDP_columns=list(data_dict.loc[472:491]['Series Code'])"
   ]
  },
  {
   "cell_type": "code",
   "execution_count": 44,
   "id": "75d55923",
   "metadata": {},
   "outputs": [
    {
     "data": {
      "text/plain": [
       "['NY.GDP.MKTP.KD',\n",
       " 'NY.GDP.MKTP.KN',\n",
       " 'NY.GDP.MKTP.CN',\n",
       " 'NY.GDP.MKTP.CD',\n",
       " 'NY.GDP.DEFL.ZS',\n",
       " 'NY.GDP.DEFL.ZS.AD',\n",
       " 'NY.GDP.MKTP.KD.ZG',\n",
       " 'NY.GDP.PCAP.KD',\n",
       " 'NY.GDP.PCAP.KN',\n",
       " 'NY.GDP.PCAP.CN',\n",
       " 'NY.GDP.PCAP.CD',\n",
       " 'NY.GDP.PCAP.KD.ZG',\n",
       " 'NY.GDP.PCAP.PP.KD',\n",
       " 'NY.GDP.PCAP.PP.CD',\n",
       " 'SL.GDP.PCAP.EM.KD',\n",
       " 'EG.GDP.PUSE.KO.PP.KD',\n",
       " 'EG.GDP.PUSE.KO.PP',\n",
       " 'NY.GDP.MKTP.PP.KD',\n",
       " 'NY.GDP.MKTP.PP.CD',\n",
       " 'NY.GDP.MKTP.CN.AD']"
      ]
     },
     "execution_count": 44,
     "metadata": {},
     "output_type": "execute_result"
    }
   ],
   "source": [
    "GDP_columns"
   ]
  },
  {
   "cell_type": "code",
   "execution_count": 45,
   "id": "19c1929b",
   "metadata": {},
   "outputs": [],
   "source": [
    "read_GDP=[]\n",
    "for col in GDP_columns:\n",
    "    if col in X_scaled.columns:\n",
    "        read_GDP.append(col)\n",
    "#read_GDP=[\"NY.GDP.PCAP.KD\",\"NY.GDP.MKTP.KD.ZG\",\"NY.GDP.PCAP.KN\",\"NY.GDP.PCAP.KD.ZG\"]\n",
    "X_GDP = X_scaled[read_GDP]\n",
    "# X_scaled = X_scaled.fillna(X_scaled.mean())"
   ]
  },
  {
   "cell_type": "code",
   "execution_count": null,
   "id": "13d9c92a",
   "metadata": {},
   "outputs": [],
   "source": [
    "# vif_data = pd.DataFrame()\n",
    "# vif_data[\"Feature\"] = X_scaled.columns\n",
    "# vif_data[\"VIF\"] = [variance_inflation_factor(X_scaled.values, i) for i in range(X_scaled.shape[1])]"
   ]
  },
  {
   "cell_type": "code",
   "execution_count": null,
   "id": "92e294a1",
   "metadata": {},
   "outputs": [],
   "source": [
    "# vif_data[\"VIF\"].loc[82]"
   ]
  },
  {
   "cell_type": "code",
   "execution_count": null,
   "id": "58f32f9f",
   "metadata": {},
   "outputs": [],
   "source": [
    "# vif_data.sort_values(by=\"VIF\").head(20)"
   ]
  },
  {
   "cell_type": "code",
   "execution_count": null,
   "id": "370c5896",
   "metadata": {},
   "outputs": [],
   "source": [
    "# vif_data[\"VIF\"] = [variance_inflation_factor(self.X.values, i) for i in range(self.X.shape[1])]\n",
    "# to_drop = vif_data[vif_data[\"VIF\"] > threshold][\"Feature\"].tolist()\n",
    "# self.X = self.X.drop(columns=to_drop)\n"
   ]
  },
  {
   "cell_type": "code",
   "execution_count": null,
   "id": "8c1f50d9",
   "metadata": {},
   "outputs": [],
   "source": []
  },
  {
   "cell_type": "code",
   "execution_count": 46,
   "id": "c09d044b",
   "metadata": {},
   "outputs": [
    {
     "data": {
      "text/plain": [
       "18"
      ]
     },
     "execution_count": 46,
     "metadata": {},
     "output_type": "execute_result"
    }
   ],
   "source": [
    "len(read_GDP)"
   ]
  },
  {
   "cell_type": "code",
   "execution_count": 47,
   "id": "c4561027",
   "metadata": {},
   "outputs": [
    {
     "data": {
      "text/plain": [
       "20"
      ]
     },
     "execution_count": 47,
     "metadata": {},
     "output_type": "execute_result"
    }
   ],
   "source": [
    "len(GDP_columns)"
   ]
  },
  {
   "cell_type": "code",
   "execution_count": null,
   "id": "a28447f7",
   "metadata": {},
   "outputs": [],
   "source": []
  },
  {
   "cell_type": "code",
   "execution_count": 48,
   "id": "d078cde0",
   "metadata": {},
   "outputs": [
    {
     "data": {
      "image/png": "[encoded data removed]",
      "text/plain": [
       "<Figure size 640x480 with 2 Axes>"
      ]
     },
     "metadata": {},
     "output_type": "display_data"
    }
   ],
   "source": [
    "# Create correlation matrix\n",
    "correlation = X_GDP.select_dtypes(\"number\").corr().abs()\n",
    "correlation\n",
    "# Plot heatmap of `correlation`\n",
    "sns.heatmap(correlation);"
   ]
  },
  {
   "cell_type": "code",
   "execution_count": 51,
   "id": "7ea9342f",
   "metadata": {},
   "outputs": [
    {
     "data": {
      "text/plain": [
       "0.9488375080715651"
      ]
     },
     "execution_count": 51,
     "metadata": {},
     "output_type": "execute_result"
    }
   ],
   "source": [
    "X_GDP['NY.GDP.MKTP.PP.KD'].corr(X_GDP['NY.GDP.MKTP.KD'])"
   ]
  },
  {
   "cell_type": "code",
   "execution_count": 52,
   "id": "c2be9ff3",
   "metadata": {},
   "outputs": [
    {
     "data": {
      "application/vnd.plotly.v1+json": {
       "config": {
        "plotlyServerURL": "https://plot.ly"
       },
       "data": [
        {
         "hovertemplate": "NY.GDP.MKTP.PP.KD=%{x}<br>NY.GDP.MKTP.KD=%{y}<extra></extra>",
         "legendgroup": "",
         "marker": {
          "color": "#636efa",
          "symbol": "circle"
         },
         "mode": "markers",
         "name": "",
         "orientation": "v",
         "showlegend": false,
         "type": "scatter",
         "x": [
          -0.23810636101520077,
          -0.26326098188690816,
          -0.033821288368022964,
          null,
          -0.2776607815205837,
          -0.17948020722210514,
          -0.27845450702162977,
          0.16763081327508347,
          -0.26153606389476153,
          -0.2778985904040656,
          0.2612857870615725,
          -0.0616480271432275,
          -0.20417949014850767,
          -0.27467844617252746,
          -0.24912217965115574,
          0.14143304291482067,
          -0.2776736470828973,
          -0.185248321745212,
          -0.014159938142546786,
          -0.27776767489513055,
          -0.2638799958776866,
          -0.2771979507439255,
          -0.2753102954765558,
          -0.23596877006159558,
          -0.2579019790745542,
          -0.26370572966145744,
          1.1156774564646335,
          null,
          -0.26620982855184566,
          -0.20646004592106876,
          -0.2608058411189546,
          -0.2755509759336255,
          -0.2777167953617749,
          -0.2505146266184839,
          -0.23300632481249828,
          0.5167985439033178,
          -0.27751916658415426,
          -0.2773518426361596,
          -0.2678322729048119,
          null,
          -0.07720502458423667,
          9.422339184489545,
          0.049354860776674093,
          -0.27843400629154536,
          -0.2344734465860988,
          -0.26491821068552973,
          -0.23534175302746058,
          -0.2174370083690808,
          -0.22733933380310833,
          null,
          -0.27778950790918094,
          -0.2641186663289064,
          -0.0854537815412822,
          -0.13295051452955772,
          -0.2771146861803347,
          -0.2790263395783468,
          -0.19260087284041794,
          -0.18980922025344713,
          0.32372630117167606,
          -0.25497857924148387,
          -0.2679663539205848,
          null,
          -0.258582369057077,
          -0.2752983595309314,
          -0.17415398454047798,
          -0.2781685698166856,
          -0.27483223312806404,
          -0.16045014593537152,
          1.1040987259756583,
          null,
          -0.26231240184270865,
          -0.27694271910814255,
          -0.2542133196771937,
          1.6590186286394473,
          -0.2035356182422141,
          null,
          -0.14694213142708037,
          -0.2780464614909687,
          -0.2787271770711265,
          null,
          -0.20657801567704917,
          -0.2621606798932318,
          -0.27784276779502615,
          -0.2754232923606931,
          -0.26544932466724097,
          -0.25621792653789727,
          -0.09623746460425923,
          -0.1424971245496792,
          -0.2706604352294727,
          3.8316730742151415,
          1.0180040322531347,
          0.17671551784233333,
          -0.050235320464931836,
          -0.10481077474586552,
          null,
          -0.1281115385260455,
          0.8376138533057856,
          -0.26870024792263614,
          1.8462487457697128,
          -0.24246862787972934,
          -0.040733240546539595,
          -0.18063244516534885,
          -0.27932989401282937,
          null,
          0.626716594886968,
          -0.27160398844170425,
          -0.19767924711413293,
          -0.2644918011725717,
          -0.2576515643976414,
          -0.25434658584472447,
          -0.2455982502867019,
          -0.27719129264537073,
          -0.27649880809630745,
          -0.23623289644092466,
          null,
          -0.23380797610668727,
          -0.24843297840147338,
          -0.24596998927870814,
          -0.2614149311339032,
          -0.26707417083655177,
          0.1113103940475729,
          -0.27549040147344633,
          -0.26019124463360055,
          -0.2694469449838161,
          -0.2793600252661435,
          -0.2691898329204856,
          -0.26730329357812593,
          0.754818671534971,
          -0.2793029363169725,
          -0.26492635683880844,
          null,
          -0.2602070705658858,
          -0.2735486816440494,
          -0.15922667750084682,
          -0.26241242901091766,
          -0.1505227494995181,
          -0.2687682211349988,
          -0.27941672832450815,
          -0.230602889617829,
          0.15454301957428396,
          null,
          -0.19114944920255536,
          -0.2632490832459375,
          -0.2656533451710004,
          0.16057699343823761,
          -0.26406594544843076,
          null,
          -0.10392399083948634,
          -0.2135238998068805,
          0.17673332266133468,
          -0.27933129705721865,
          -0.22685390667821861,
          -0.2640323295910693,
          -0.2422099194560452,
          -0.09215386821454939,
          0.111436546045315,
          0.26460374334074144,
          -0.1247778516160551,
          -0.22811739466319997,
          -0.1680223665963563,
          -0.01333223830331929,
          1.8015231858660672,
          -0.2667564926407399,
          -0.2789142100894816,
          -0.27864766213119924,
          -0.27901097468110153,
          0.3529896463684982,
          -0.2546207792986148,
          -0.22552635011010286,
          -0.2782136678106868,
          -0.2744640632327301,
          -0.02492901599668973,
          -0.2787718107711823,
          -0.2036073136937456,
          -0.24416225321654458,
          -0.2787415120021383,
          -0.2702146913362949,
          0.03961028627723933,
          null,
          0.5372289979425239,
          -0.16035361077896984,
          -0.2789131710967963,
          -0.2779890825193609,
          null,
          -0.27883581809701075,
          -0.2178320327795755,
          -0.274316902612115,
          -0.04221598872960097,
          -0.02241319583629559,
          -0.2565246979674036,
          -0.2664830800609352,
          -0.2048229387161867,
          0.28850508729042124,
          -0.2769925439500545,
          -0.2715652546819952,
          -0.27919234183981445,
          -0.2619788259091437,
          -0.2212643635840509,
          0.5958679585817054,
          null,
          -0.27901681239688647,
          -0.279443423104072,
          -0.23630386064736672,
          0.00035869998503955435,
          -0.03660687549261807,
          1.0774791779161048,
          8.232087087641903,
          -0.2412903020777982,
          -0.18237092849419376,
          -0.27908223211609695,
          null,
          0.1422791739981879,
          -0.2776540691770214,
          -0.2685010802259218,
          null,
          -0.25464793665947894,
          -0.25990627472520034
         ],
         "xaxis": "x",
         "y": [
          -0.21561372071428794,
          -0.22015911772263466,
          -0.11457477879885161,
          -0.22704006863458723,
          -0.22571274483003145,
          -0.1792850150637168,
          -0.2264476976235287,
          0.09128689804254968,
          -0.2202149961331877,
          -0.22559111841253207,
          0.6061909023578588,
          0.003454114035139245,
          -0.1974919002817138,
          -0.22068191012323224,
          -0.20790526578229182,
          -0.08353660841201585,
          -0.22467681533659373,
          -0.19446577858281255,
          0.048740898596402196,
          -0.22612503066391787,
          -0.21948316673891022,
          -0.22357587250036626,
          -0.2259148362881141,
          -0.20609173982230428,
          -0.2169740691447851,
          -0.21834989240643077,
          0.7873815049376148,
          null,
          -0.21998566518441973,
          -0.1953441122613746,
          -0.21900894865908702,
          -0.22560184249571552,
          -0.22621071942910143,
          -0.21414060147732025,
          -0.20647717684288755,
          0.7187452353595605,
          -0.2243602401176529,
          -0.2262827098469448,
          -0.22152073246510004,
          null,
          -0.08146303277978813,
          7.745183264766015,
          -0.04815432751364918,
          -0.2267812981950903,
          -0.2025815615779443,
          -0.22148492035359754,
          -0.19148692397772754,
          -0.19448253375642913,
          -0.19492361135793113,
          -0.17663194200871202,
          -0.22581206173012125,
          -0.21344132721376827,
          -0.10713582942675291,
          -0.04191019646031659,
          -0.22570172339933683,
          -0.2270746125543092,
          -0.17759835246321906,
          -0.16964794328679433,
          -0.005395454739365659,
          -0.21301427963816488,
          -0.22178547273291924,
          null,
          -0.21234948723122005,
          -0.22493431850218765,
          -0.17740170995482912,
          -0.2257739008219757,
          -0.22448195572472543,
          -0.08532903210188672,
          1.2319119854703764,
          -0.22407193418049326,
          -0.21876911433669155,
          -0.22645524115193338,
          -0.21706791601320763,
          1.7787044700293433,
          -0.19255623989343562,
          null,
          -0.11368132377288595,
          -0.22588035883753466,
          -0.22675782318972684,
          -0.22406738882509777,
          -0.18791105173826736,
          -0.220656770404854,
          -0.2266217953225685,
          -0.2245628059969501,
          -0.21875515466419293,
          -0.2138181944510153,
          -0.042350198137770384,
          -0.14519996737228166,
          -0.2158303586992439,
          1.2722828663115324,
          0.3577832003167741,
          0.014804370082574772,
          -0.11487339685686039,
          -0.020237103980828317,
          -0.2229376989302668,
          -0.027490276788555517,
          0.8422971552988856,
          -0.21906250837988628,
          2.317974265325225,
          -0.20406708594740988,
          -0.10966394833924253,
          -0.18039917010819218,
          -0.22726400083632278,
          null,
          0.6861452273727561,
          -0.22318179472883323,
          -0.16230769159582062,
          -0.2229736899153987,
          -0.2170784979946905,
          -0.21057154166890707,
          -0.20133226614411853,
          -0.2261081236232555,
          -0.22559989198083336,
          -0.19141059868885385,
          null,
          -0.20050197097058464,
          -0.19027400332625896,
          -0.19897132121379016,
          -0.22003717669227296,
          -0.22135762912511578,
          -0.024065095716648045,
          -0.22432726080807083,
          -0.21845208251705636,
          -0.21923291759839447,
          -0.22726449796884937,
          -0.22339157426115422,
          -0.21965519462750718,
          0.4861380040934712,
          -0.22720463060663854,
          -0.2222817493152152,
          -0.22344208532239446,
          -0.21948608936637537,
          -0.2247252271252843,
          -0.15843447126679347,
          -0.2171058337607462,
          -0.18508926572030276,
          -0.22111908349942946,
          -0.2273410661053238,
          -0.21032325769184756,
          0.24118687131811206,
          null,
          -0.11451151680072329,
          -0.22008731832868794,
          -0.22058027731734134,
          0.056667654929378246,
          -0.22115298768491443,
          -0.22681252480665573,
          0.0013906411163373095,
          -0.1810747213374077,
          -0.024823616982979527,
          -0.22723246013047924,
          -0.1915918682646502,
          -0.2136054166176699,
          -0.20470662988534666,
          -0.10748314381889074,
          -0.006430540743024351,
          0.09131610843913802,
          -0.10338719163146506,
          -0.1736378413297797,
          -0.13405379017234648,
          -0.1058272192563012,
          0.587664153799366,
          -0.2211591277068248,
          -0.22686826561298953,
          -0.22654937837539987,
          -0.2272216780277841,
          0.1730864985124393,
          -0.21480947932180483,
          -0.20195251341382886,
          -0.226330118915707,
          -0.22454128579202803,
          -0.032308223558729414,
          -0.22662776306145277,
          -0.17190924728697748,
          -0.19927443532092837,
          -0.22656112362458966,
          -0.22254595409106961,
          -0.026919612732992825,
          null,
          0.5109112491370426,
          -0.1731817340937978,
          -0.2268075124474305,
          -0.22628902740969414,
          null,
          -0.2269094191509607,
          -0.19877563157378678,
          -0.22445941298904354,
          0.07922492448930346,
          0.1892456647205726,
          -0.21863366309538987,
          -0.2212878249216918,
          -0.19372816697204157,
          0.029253451120039888,
          -0.2262992014662915,
          -0.22356547589193387,
          -0.22711984700503948,
          -0.2141550931793542,
          -0.199875322775447,
          0.32863036431452125,
          -0.2018998917174593,
          -0.2267797347962546,
          -0.22736509393908788,
          -0.2053072083101694,
          -0.1705401494700869,
          -0.0024645407712556447,
          1.5333717056370266,
          11.002119960431322,
          -0.19374738729720292,
          -0.16774037920784765,
          -0.22690880503412092,
          null,
          -0.05175570407599134,
          -0.22522974533033954,
          -0.21856347100106752,
          null,
          -0.21395668393879,
          -0.21589110014563007
         ],
         "yaxis": "y"
        }
       ],
       "layout": {
        "legend": {
         "tracegroupgap": 0
        },
        "margin": {
         "t": 60
        },
        "template": {
         "data": {
          "bar": [
           {
            "error_x": {
             "color": "#2a3f5f"
            },
            "error_y": {
             "color": "#2a3f5f"
            },
            "marker": {
             "line": {
              "color": "#E5ECF6",
              "width": 0.5
             },
             "pattern": {
              "fillmode": "overlay",
              "size": 10,
              "solidity": 0.2
             }
            },
            "type": "bar"
           }
          ],
          "barpolar": [
           {
            "marker": {
             "line": {
              "color": "#E5ECF6",
              "width": 0.5
             },
             "pattern": {
              "fillmode": "overlay",
              "size": 10,
              "solidity": 0.2
             }
            },
            "type": "barpolar"
           }
          ],
          "carpet": [
           {
            "aaxis": {
             "endlinecolor": "#2a3f5f",
             "gridcolor": "white",
             "linecolor": "white",
             "minorgridcolor": "white",
             "startlinecolor": "#2a3f5f"
            },
            "baxis": {
             "endlinecolor": "#2a3f5f",
             "gridcolor": "white",
             "linecolor": "white",
             "minorgridcolor": "white",
             "startlinecolor": "#2a3f5f"
            },
            "type": "carpet"
           }
          ],
          "choropleth": [
           {
            "colorbar": {
             "outlinewidth": 0,
             "ticks": ""
            },
            "type": "choropleth"
           }
          ],
          "contour": [
           {
            "colorbar": {
             "outlinewidth": 0,
             "ticks": ""
            },
            "colorscale": [
             [
              0,
              "#0d0887"
             ],
             [
              0.1111111111111111,
              "#46039f"
             ],
             [
              0.2222222222222222,
              "#7201a8"
             ],
             [
              0.3333333333333333,
              "#9c179e"
             ],
             [
              0.4444444444444444,
              "#bd3786"
             ],
             [
              0.5555555555555556,
              "#d8576b"
             ],
             [
              0.6666666666666666,
              "#ed7953"
             ],
             [
              0.7777777777777778,
              "#fb9f3a"
             ],
             [
              0.8888888888888888,
              "#fdca26"
             ],
             [
              1,
              "#f0f921"
             ]
            ],
            "type": "contour"
           }
          ],
          "contourcarpet": [
           {
            "colorbar": {
             "outlinewidth": 0,
             "ticks": ""
            },
            "type": "contourcarpet"
           }
          ],
          "heatmap": [
           {
            "colorbar": {
             "outlinewidth": 0,
             "ticks": ""
            },
            "colorscale": [
             [
              0,
              "#0d0887"
             ],
             [
              0.1111111111111111,
              "#46039f"
             ],
             [
              0.2222222222222222,
              "#7201a8"
             ],
             [
              0.3333333333333333,
              "#9c179e"
             ],
             [
              0.4444444444444444,
              "#bd3786"
             ],
             [
              0.5555555555555556,
              "#d8576b"
             ],
             [
              0.6666666666666666,
              "#ed7953"
             ],
             [
              0.7777777777777778,
              "#fb9f3a"
             ],
             [
              0.8888888888888888,
              "#fdca26"
             ],
             [
              1,
              "#f0f921"
             ]
            ],
            "type": "heatmap"
           }
          ],
          "heatmapgl": [
           {
            "colorbar": {
             "outlinewidth": 0,
             "ticks": ""
            },
            "colorscale": [
             [
              0,
              "#0d0887"
             ],
             [
              0.1111111111111111,
              "#46039f"
             ],
             [
              0.2222222222222222,
              "#7201a8"
             ],
             [
              0.3333333333333333,
              "#9c179e"
             ],
             [
              0.4444444444444444,
              "#bd3786"
             ],
             [
              0.5555555555555556,
              "#d8576b"
             ],
             [
              0.6666666666666666,
              "#ed7953"
             ],
             [
              0.7777777777777778,
              "#fb9f3a"
             ],
             [
              0.8888888888888888,
              "#fdca26"
             ],
             [
              1,
              "#f0f921"
             ]
            ],
            "type": "heatmapgl"
           }
          ],
          "histogram": [
           {
            "marker": {
             "pattern": {
              "fillmode": "overlay",
              "size": 10,
              "solidity": 0.2
             }
            },
            "type": "histogram"
           }
          ],
          "histogram2d": [
           {
            "colorbar": {
             "outlinewidth": 0,
             "ticks": ""
            },
            "colorscale": [
             [
              0,
              "#0d0887"
             ],
             [
              0.1111111111111111,
              "#46039f"
             ],
             [
              0.2222222222222222,
              "#7201a8"
             ],
             [
              0.3333333333333333,
              "#9c179e"
             ],
             [
              0.4444444444444444,
              "#bd3786"
             ],
             [
              0.5555555555555556,
              "#d8576b"
             ],
             [
              0.6666666666666666,
              "#ed7953"
             ],
             [
              0.7777777777777778,
              "#fb9f3a"
             ],
             [
              0.8888888888888888,
              "#fdca26"
             ],
             [
              1,
              "#f0f921"
             ]
            ],
            "type": "histogram2d"
           }
          ],
          "histogram2dcontour": [
           {
            "colorbar": {
             "outlinewidth": 0,
             "ticks": ""
            },
            "colorscale": [
             [
              0,
              "#0d0887"
             ],
             [
              0.1111111111111111,
              "#46039f"
             ],
             [
              0.2222222222222222,
              "#7201a8"
             ],
             [
              0.3333333333333333,
              "#9c179e"
             ],
             [
              0.4444444444444444,
              "#bd3786"
             ],
             [
              0.5555555555555556,
              "#d8576b"
             ],
             [
              0.6666666666666666,
              "#ed7953"
             ],
             [
              0.7777777777777778,
              "#fb9f3a"
             ],
             [
              0.8888888888888888,
              "#fdca26"
             ],
             [
              1,
              "#f0f921"
             ]
            ],
            "type": "histogram2dcontour"
           }
          ],
          "mesh3d": [
           {
            "colorbar": {
             "outlinewidth": 0,
             "ticks": ""
            },
            "type": "mesh3d"
           }
          ],
          "parcoords": [
           {
            "line": {
             "colorbar": {
              "outlinewidth": 0,
              "ticks": ""
             }
            },
            "type": "parcoords"
           }
          ],
          "pie": [
           {
            "automargin": true,
            "type": "pie"
           }
          ],
          "scatter": [
           {
            "fillpattern": {
             "fillmode": "overlay",
             "size": 10,
             "solidity": 0.2
            },
            "type": "scatter"
           }
          ],
          "scatter3d": [
           {
            "line": {
             "colorbar": {
              "outlinewidth": 0,
              "ticks": ""
             }
            },
            "marker": {
             "colorbar": {
              "outlinewidth": 0,
              "ticks": ""
             }
            },
            "type": "scatter3d"
           }
          ],
          "scattercarpet": [
           {
            "marker": {
             "colorbar": {
              "outlinewidth": 0,
              "ticks": ""
             }
            },
            "type": "scattercarpet"
           }
          ],
          "scattergeo": [
           {
            "marker": {
             "colorbar": {
              "outlinewidth": 0,
              "ticks": ""
             }
            },
            "type": "scattergeo"
           }
          ],
          "scattergl": [
           {
            "marker": {
             "colorbar": {
              "outlinewidth": 0,
              "ticks": ""
             }
            },
            "type": "scattergl"
           }
          ],
          "scattermapbox": [
           {
            "marker": {
             "colorbar": {
              "outlinewidth": 0,
              "ticks": ""
             }
            },
            "type": "scattermapbox"
           }
          ],
          "scatterpolar": [
           {
            "marker": {
             "colorbar": {
              "outlinewidth": 0,
              "ticks": ""
             }
            },
            "type": "scatterpolar"
           }
          ],
          "scatterpolargl": [
           {
            "marker": {
             "colorbar": {
              "outlinewidth": 0,
              "ticks": ""
             }
            },
            "type": "scatterpolargl"
           }
          ],
          "scatterternary": [
           {
            "marker": {
             "colorbar": {
              "outlinewidth": 0,
              "ticks": ""
             }
            },
            "type": "scatterternary"
           }
          ],
          "surface": [
           {
            "colorbar": {
             "outlinewidth": 0,
             "ticks": ""
            },
            "colorscale": [
             [
              0,
              "#0d0887"
             ],
             [
              0.1111111111111111,
              "#46039f"
             ],
             [
              0.2222222222222222,
              "#7201a8"
             ],
             [
              0.3333333333333333,
              "#9c179e"
             ],
             [
              0.4444444444444444,
              "#bd3786"
             ],
             [
              0.5555555555555556,
              "#d8576b"
             ],
             [
              0.6666666666666666,
              "#ed7953"
             ],
             [
              0.7777777777777778,
              "#fb9f3a"
             ],
             [
              0.8888888888888888,
              "#fdca26"
             ],
             [
              1,
              "#f0f921"
             ]
            ],
            "type": "surface"
           }
          ],
          "table": [
           {
            "cells": {
             "fill": {
              "color": "#EBF0F8"
             },
             "line": {
              "color": "white"
             }
            },
            "header": {
             "fill": {
              "color": "#C8D4E3"
             },
             "line": {
              "color": "white"
             }
            },
            "type": "table"
           }
          ]
         },
         "layout": {
          "annotationdefaults": {
           "arrowcolor": "#2a3f5f",
           "arrowhead": 0,
           "arrowwidth": 1
          },
          "autotypenumbers": "strict",
          "coloraxis": {
           "colorbar": {
            "outlinewidth": 0,
            "ticks": ""
           }
          },
          "colorscale": {
           "diverging": [
            [
             0,
             "#8e0152"
            ],
            [
             0.1,
             "#c51b7d"
            ],
            [
             0.2,
             "#de77ae"
            ],
            [
             0.3,
             "#f1b6da"
            ],
            [
             0.4,
             "#fde0ef"
            ],
            [
             0.5,
             "#f7f7f7"
            ],
            [
             0.6,
             "#e6f5d0"
            ],
            [
             0.7,
             "#b8e186"
            ],
            [
             0.8,
             "#7fbc41"
            ],
            [
             0.9,
             "#4d9221"
            ],
            [
             1,
             "#276419"
            ]
           ],
           "sequential": [
            [
             0,
             "#0d0887"
            ],
            [
             0.1111111111111111,
             "#46039f"
            ],
            [
             0.2222222222222222,
             "#7201a8"
            ],
            [
             0.3333333333333333,
             "#9c179e"
            ],
            [
             0.4444444444444444,
             "#bd3786"
            ],
            [
             0.5555555555555556,
             "#d8576b"
            ],
            [
             0.6666666666666666,
             "#ed7953"
            ],
            [
             0.7777777777777778,
             "#fb9f3a"
            ],
            [
             0.8888888888888888,
             "#fdca26"
            ],
            [
             1,
             "#f0f921"
            ]
           ],
           "sequentialminus": [
            [
             0,
             "#0d0887"
            ],
            [
             0.1111111111111111,
             "#46039f"
            ],
            [
             0.2222222222222222,
             "#7201a8"
            ],
            [
             0.3333333333333333,
             "#9c179e"
            ],
            [
             0.4444444444444444,
             "#bd3786"
            ],
            [
             0.5555555555555556,
             "#d8576b"
            ],
            [
             0.6666666666666666,
             "#ed7953"
            ],
            [
             0.7777777777777778,
             "#fb9f3a"
            ],
            [
             0.8888888888888888,
             "#fdca26"
            ],
            [
             1,
             "#f0f921"
            ]
           ]
          },
          "colorway": [
           "#636efa",
           "#EF553B",
           "#00cc96",
           "#ab63fa",
           "#FFA15A",
           "#19d3f3",
           "#FF6692",
           "#B6E880",
           "#FF97FF",
           "#FECB52"
          ],
          "font": {
           "color": "#2a3f5f"
          },
          "geo": {
           "bgcolor": "white",
           "lakecolor": "white",
           "landcolor": "#E5ECF6",
           "showlakes": true,
           "showland": true,
           "subunitcolor": "white"
          },
          "hoverlabel": {
           "align": "left"
          },
          "hovermode": "closest",
          "mapbox": {
           "style": "light"
          },
          "paper_bgcolor": "white",
          "plot_bgcolor": "#E5ECF6",
          "polar": {
           "angularaxis": {
            "gridcolor": "white",
            "linecolor": "white",
            "ticks": ""
           },
           "bgcolor": "#E5ECF6",
           "radialaxis": {
            "gridcolor": "white",
            "linecolor": "white",
            "ticks": ""
           }
          },
          "scene": {
           "xaxis": {
            "backgroundcolor": "#E5ECF6",
            "gridcolor": "white",
            "gridwidth": 2,
            "linecolor": "white",
            "showbackground": true,
            "ticks": "",
            "zerolinecolor": "white"
           },
           "yaxis": {
            "backgroundcolor": "#E5ECF6",
            "gridcolor": "white",
            "gridwidth": 2,
            "linecolor": "white",
            "showbackground": true,
            "ticks": "",
            "zerolinecolor": "white"
           },
           "zaxis": {
            "backgroundcolor": "#E5ECF6",
            "gridcolor": "white",
            "gridwidth": 2,
            "linecolor": "white",
            "showbackground": true,
            "ticks": "",
            "zerolinecolor": "white"
           }
          },
          "shapedefaults": {
           "line": {
            "color": "#2a3f5f"
           }
          },
          "ternary": {
           "aaxis": {
            "gridcolor": "white",
            "linecolor": "white",
            "ticks": ""
           },
           "baxis": {
            "gridcolor": "white",
            "linecolor": "white",
            "ticks": ""
           },
           "bgcolor": "#E5ECF6",
           "caxis": {
            "gridcolor": "white",
            "linecolor": "white",
            "ticks": ""
           }
          },
          "title": {
           "x": 0.05
          },
          "xaxis": {
           "automargin": true,
           "gridcolor": "white",
           "linecolor": "white",
           "ticks": "",
           "title": {
            "standoff": 15
           },
           "zerolinecolor": "white",
           "zerolinewidth": 2
          },
          "yaxis": {
           "automargin": true,
           "gridcolor": "white",
           "linecolor": "white",
           "ticks": "",
           "title": {
            "standoff": 15
           },
           "zerolinecolor": "white",
           "zerolinewidth": 2
          }
         }
        },
        "xaxis": {
         "anchor": "y",
         "domain": [
          0,
          1
         ],
         "title": {
          "text": "NY.GDP.MKTP.PP.KD"
         }
        },
        "yaxis": {
         "anchor": "x",
         "domain": [
          0,
          1
         ],
         "title": {
          "text": "NY.GDP.MKTP.KD"
         }
        }
       }
      },
      "text/html": [
       "<div>                            <div id=\"4c836243-37f8-4f8d-a54d-614fb347347e\" class=\"plotly-graph-div\" style=\"height:525px; width:100%;\"></div>            <script type=\"text/javascript\">                require([\"plotly\"], function(Plotly) {                    window.PLOTLYENV=window.PLOTLYENV || {};                                    if (document.getElementById(\"4c836243-37f8-4f8d-a54d-614fb347347e\")) {                    Plotly.newPlot(                        \"4c836243-37f8-4f8d-a54d-614fb347347e\",                        [{\"hovertemplate\":\"NY.GDP.MKTP.PP.KD=%{x}\\u003cbr\\u003eNY.GDP.MKTP.KD=%{y}\\u003cextra\\u003e\\u003c\\u002fextra\\u003e\",\"legendgroup\":\"\",\"marker\":{\"color\":\"#636efa\",\"symbol\":\"circle\"},\"mode\":\"markers\",\"name\":\"\",\"orientation\":\"v\",\"showlegend\":false,\"x\":[-0.23810636101520077,-0.26326098188690816,-0.033821288368022964,null,-0.2776607815205837,-0.17948020722210514,-0.27845450702162977,0.16763081327508347,-0.26153606389476153,-0.2778985904040656,0.2612857870615725,-0.0616480271432275,-0.20417949014850767,-0.27467844617252746,-0.24912217965115574,0.14143304291482067,-0.2776736470828973,-0.185248321745212,-0.014159938142546786,-0.27776767489513055,-0.2638799958776866,-0.2771979507439255,-0.2753102954765558,-0.23596877006159558,-0.2579019790745542,-0.26370572966145744,1.1156774564646335,null,-0.26620982855184566,-0.20646004592106876,-0.2608058411189546,-0.2755509759336255,-0.2777167953617749,-0.2505146266184839,-0.23300632481249828,0.5167985439033178,-0.27751916658415426,-0.2773518426361596,-0.2678322729048119,null,-0.07720502458423667,9.422339184489545,0.049354860776674093,-0.27843400629154536,-0.2344734465860988,-0.26491821068552973,-0.23534175302746058,-0.2174370083690808,-0.22733933380310833,null,-0.27778950790918094,-0.2641186663289064,-0.0854537815412822,-0.13295051452955772,-0.2771146861803347,-0.2790263395783468,-0.19260087284041794,-0.18980922025344713,0.32372630117167606,-0.25497857924148387,-0.2679663539205848,null,-0.258582369057077,-0.2752983595309314,-0.17415398454047798,-0.2781685698166856,-0.27483223312806404,-0.16045014593537152,1.1040987259756583,null,-0.26231240184270865,-0.27694271910814255,-0.2542133196771937,1.6590186286394473,-0.2035356182422141,null,-0.14694213142708037,-0.2780464614909687,-0.2787271770711265,null,-0.20657801567704917,-0.2621606798932318,-0.27784276779502615,-0.2754232923606931,-0.26544932466724097,-0.25621792653789727,-0.09623746460425923,-0.1424971245496792,-0.2706604352294727,3.8316730742151415,1.0180040322531347,0.17671551784233333,-0.050235320464931836,-0.10481077474586552,null,-0.1281115385260455,0.8376138533057856,-0.26870024792263614,1.8462487457697128,-0.24246862787972934,-0.040733240546539595,-0.18063244516534885,-0.27932989401282937,null,0.626716594886968,-0.27160398844170425,-0.19767924711413293,-0.2644918011725717,-0.2576515643976414,-0.25434658584472447,-0.2455982502867019,-0.27719129264537073,-0.27649880809630745,-0.23623289644092466,null,-0.23380797610668727,-0.24843297840147338,-0.24596998927870814,-0.2614149311339032,-0.26707417083655177,0.1113103940475729,-0.27549040147344633,-0.26019124463360055,-0.2694469449838161,-0.2793600252661435,-0.2691898329204856,-0.26730329357812593,0.754818671534971,-0.2793029363169725,-0.26492635683880844,null,-0.2602070705658858,-0.2735486816440494,-0.15922667750084682,-0.26241242901091766,-0.1505227494995181,-0.2687682211349988,-0.27941672832450815,-0.230602889617829,0.15454301957428396,null,-0.19114944920255536,-0.2632490832459375,-0.2656533451710004,0.16057699343823761,-0.26406594544843076,null,-0.10392399083948634,-0.2135238998068805,0.17673332266133468,-0.27933129705721865,-0.22685390667821861,-0.2640323295910693,-0.2422099194560452,-0.09215386821454939,0.111436546045315,0.26460374334074144,-0.1247778516160551,-0.22811739466319997,-0.1680223665963563,-0.01333223830331929,1.8015231858660672,-0.2667564926407399,-0.2789142100894816,-0.27864766213119924,-0.27901097468110153,0.3529896463684982,-0.2546207792986148,-0.22552635011010286,-0.2782136678106868,-0.2744640632327301,-0.02492901599668973,-0.2787718107711823,-0.2036073136937456,-0.24416225321654458,-0.2787415120021383,-0.2702146913362949,0.03961028627723933,null,0.5372289979425239,-0.16035361077896984,-0.2789131710967963,-0.2779890825193609,null,-0.27883581809701075,-0.2178320327795755,-0.274316902612115,-0.04221598872960097,-0.02241319583629559,-0.2565246979674036,-0.2664830800609352,-0.2048229387161867,0.28850508729042124,-0.2769925439500545,-0.2715652546819952,-0.27919234183981445,-0.2619788259091437,-0.2212643635840509,0.5958679585817054,null,-0.27901681239688647,-0.279443423104072,-0.23630386064736672,0.00035869998503955435,-0.03660687549261807,1.0774791779161048,8.232087087641903,-0.2412903020777982,-0.18237092849419376,-0.27908223211609695,null,0.1422791739981879,-0.2776540691770214,-0.2685010802259218,null,-0.25464793665947894,-0.25990627472520034],\"xaxis\":\"x\",\"y\":[-0.21561372071428794,-0.22015911772263466,-0.11457477879885161,-0.22704006863458723,-0.22571274483003145,-0.1792850150637168,-0.2264476976235287,0.09128689804254968,-0.2202149961331877,-0.22559111841253207,0.6061909023578588,0.003454114035139245,-0.1974919002817138,-0.22068191012323224,-0.20790526578229182,-0.08353660841201585,-0.22467681533659373,-0.19446577858281255,0.048740898596402196,-0.22612503066391787,-0.21948316673891022,-0.22357587250036626,-0.2259148362881141,-0.20609173982230428,-0.2169740691447851,-0.21834989240643077,0.7873815049376148,null,-0.21998566518441973,-0.1953441122613746,-0.21900894865908702,-0.22560184249571552,-0.22621071942910143,-0.21414060147732025,-0.20647717684288755,0.7187452353595605,-0.2243602401176529,-0.2262827098469448,-0.22152073246510004,null,-0.08146303277978813,7.745183264766015,-0.04815432751364918,-0.2267812981950903,-0.2025815615779443,-0.22148492035359754,-0.19148692397772754,-0.19448253375642913,-0.19492361135793113,-0.17663194200871202,-0.22581206173012125,-0.21344132721376827,-0.10713582942675291,-0.04191019646031659,-0.22570172339933683,-0.2270746125543092,-0.17759835246321906,-0.16964794328679433,-0.005395454739365659,-0.21301427963816488,-0.22178547273291924,null,-0.21234948723122005,-0.22493431850218765,-0.17740170995482912,-0.2257739008219757,-0.22448195572472543,-0.08532903210188672,1.2319119854703764,-0.22407193418049326,-0.21876911433669155,-0.22645524115193338,-0.21706791601320763,1.7787044700293433,-0.19255623989343562,null,-0.11368132377288595,-0.22588035883753466,-0.22675782318972684,-0.22406738882509777,-0.18791105173826736,-0.220656770404854,-0.2266217953225685,-0.2245628059969501,-0.21875515466419293,-0.2138181944510153,-0.042350198137770384,-0.14519996737228166,-0.2158303586992439,1.2722828663115324,0.3577832003167741,0.014804370082574772,-0.11487339685686039,-0.020237103980828317,-0.2229376989302668,-0.027490276788555517,0.8422971552988856,-0.21906250837988628,2.317974265325225,-0.20406708594740988,-0.10966394833924253,-0.18039917010819218,-0.22726400083632278,null,0.6861452273727561,-0.22318179472883323,-0.16230769159582062,-0.2229736899153987,-0.2170784979946905,-0.21057154166890707,-0.20133226614411853,-0.2261081236232555,-0.22559989198083336,-0.19141059868885385,null,-0.20050197097058464,-0.19027400332625896,-0.19897132121379016,-0.22003717669227296,-0.22135762912511578,-0.024065095716648045,-0.22432726080807083,-0.21845208251705636,-0.21923291759839447,-0.22726449796884937,-0.22339157426115422,-0.21965519462750718,0.4861380040934712,-0.22720463060663854,-0.2222817493152152,-0.22344208532239446,-0.21948608936637537,-0.2247252271252843,-0.15843447126679347,-0.2171058337607462,-0.18508926572030276,-0.22111908349942946,-0.2273410661053238,-0.21032325769184756,0.24118687131811206,null,-0.11451151680072329,-0.22008731832868794,-0.22058027731734134,0.056667654929378246,-0.22115298768491443,-0.22681252480665573,0.0013906411163373095,-0.1810747213374077,-0.024823616982979527,-0.22723246013047924,-0.1915918682646502,-0.2136054166176699,-0.20470662988534666,-0.10748314381889074,-0.006430540743024351,0.09131610843913802,-0.10338719163146506,-0.1736378413297797,-0.13405379017234648,-0.1058272192563012,0.587664153799366,-0.2211591277068248,-0.22686826561298953,-0.22654937837539987,-0.2272216780277841,0.1730864985124393,-0.21480947932180483,-0.20195251341382886,-0.226330118915707,-0.22454128579202803,-0.032308223558729414,-0.22662776306145277,-0.17190924728697748,-0.19927443532092837,-0.22656112362458966,-0.22254595409106961,-0.026919612732992825,null,0.5109112491370426,-0.1731817340937978,-0.2268075124474305,-0.22628902740969414,null,-0.2269094191509607,-0.19877563157378678,-0.22445941298904354,0.07922492448930346,0.1892456647205726,-0.21863366309538987,-0.2212878249216918,-0.19372816697204157,0.029253451120039888,-0.2262992014662915,-0.22356547589193387,-0.22711984700503948,-0.2141550931793542,-0.199875322775447,0.32863036431452125,-0.2018998917174593,-0.2267797347962546,-0.22736509393908788,-0.2053072083101694,-0.1705401494700869,-0.0024645407712556447,1.5333717056370266,11.002119960431322,-0.19374738729720292,-0.16774037920784765,-0.22690880503412092,null,-0.05175570407599134,-0.22522974533033954,-0.21856347100106752,null,-0.21395668393879,-0.21589110014563007],\"yaxis\":\"y\",\"type\":\"scatter\"}],                        {\"template\":{\"data\":{\"histogram2dcontour\":[{\"type\":\"histogram2dcontour\",\"colorbar\":{\"outlinewidth\":0,\"ticks\":\"\"},\"colorscale\":[[0.0,\"#0d0887\"],[0.1111111111111111,\"#46039f\"],[0.2222222222222222,\"#7201a8\"],[0.3333333333333333,\"#9c179e\"],[0.4444444444444444,\"#bd3786\"],[0.5555555555555556,\"#d8576b\"],[0.6666666666666666,\"#ed7953\"],[0.7777777777777778,\"#fb9f3a\"],[0.8888888888888888,\"#fdca26\"],[1.0,\"#f0f921\"]]}],\"choropleth\":[{\"type\":\"choropleth\",\"colorbar\":{\"outlinewidth\":0,\"ticks\":\"\"}}],\"histogram2d\":[{\"type\":\"histogram2d\",\"colorbar\":{\"outlinewidth\":0,\"ticks\":\"\"},\"colorscale\":[[0.0,\"#0d0887\"],[0.1111111111111111,\"#46039f\"],[0.2222222222222222,\"#7201a8\"],[0.3333333333333333,\"#9c179e\"],[0.4444444444444444,\"#bd3786\"],[0.5555555555555556,\"#d8576b\"],[0.6666666666666666,\"#ed7953\"],[0.7777777777777778,\"#fb9f3a\"],[0.8888888888888888,\"#fdca26\"],[1.0,\"#f0f921\"]]}],\"heatmap\":[{\"type\":\"heatmap\",\"colorbar\":{\"outlinewidth\":0,\"ticks\":\"\"},\"colorscale\":[[0.0,\"#0d0887\"],[0.1111111111111111,\"#46039f\"],[0.2222222222222222,\"#7201a8\"],[0.3333333333333333,\"#9c179e\"],[0.4444444444444444,\"#bd3786\"],[0.5555555555555556,\"#d8576b\"],[0.6666666666666666,\"#ed7953\"],[0.7777777777777778,\"#fb9f3a\"],[0.8888888888888888,\"#fdca26\"],[1.0,\"#f0f921\"]]}],\"heatmapgl\":[{\"type\":\"heatmapgl\",\"colorbar\":{\"outlinewidth\":0,\"ticks\":\"\"},\"colorscale\":[[0.0,\"#0d0887\"],[0.1111111111111111,\"#46039f\"],[0.2222222222222222,\"#7201a8\"],[0.3333333333333333,\"#9c179e\"],[0.4444444444444444,\"#bd3786\"],[0.5555555555555556,\"#d8576b\"],[0.6666666666666666,\"#ed7953\"],[0.7777777777777778,\"#fb9f3a\"],[0.8888888888888888,\"#fdca26\"],[1.0,\"#f0f921\"]]}],\"contourcarpet\":[{\"type\":\"contourcarpet\",\"colorbar\":{\"outlinewidth\":0,\"ticks\":\"\"}}],\"contour\":[{\"type\":\"contour\",\"colorbar\":{\"outlinewidth\":0,\"ticks\":\"\"},\"colorscale\":[[0.0,\"#0d0887\"],[0.1111111111111111,\"#46039f\"],[0.2222222222222222,\"#7201a8\"],[0.3333333333333333,\"#9c179e\"],[0.4444444444444444,\"#bd3786\"],[0.5555555555555556,\"#d8576b\"],[0.6666666666666666,\"#ed7953\"],[0.7777777777777778,\"#fb9f3a\"],[0.8888888888888888,\"#fdca26\"],[1.0,\"#f0f921\"]]}],\"surface\":[{\"type\":\"surface\",\"colorbar\":{\"outlinewidth\":0,\"ticks\":\"\"},\"colorscale\":[[0.0,\"#0d0887\"],[0.1111111111111111,\"#46039f\"],[0.2222222222222222,\"#7201a8\"],[0.3333333333333333,\"#9c179e\"],[0.4444444444444444,\"#bd3786\"],[0.5555555555555556,\"#d8576b\"],[0.6666666666666666,\"#ed7953\"],[0.7777777777777778,\"#fb9f3a\"],[0.8888888888888888,\"#fdca26\"],[1.0,\"#f0f921\"]]}],\"mesh3d\":[{\"type\":\"mesh3d\",\"colorbar\":{\"outlinewidth\":0,\"ticks\":\"\"}}],\"scatter\":[{\"fillpattern\":{\"fillmode\":\"overlay\",\"size\":10,\"solidity\":0.2},\"type\":\"scatter\"}],\"parcoords\":[{\"type\":\"parcoords\",\"line\":{\"colorbar\":{\"outlinewidth\":0,\"ticks\":\"\"}}}],\"scatterpolargl\":[{\"type\":\"scatterpolargl\",\"marker\":{\"colorbar\":{\"outlinewidth\":0,\"ticks\":\"\"}}}],\"bar\":[{\"error_x\":{\"color\":\"#2a3f5f\"},\"error_y\":{\"color\":\"#2a3f5f\"},\"marker\":{\"line\":{\"color\":\"#E5ECF6\",\"width\":0.5},\"pattern\":{\"fillmode\":\"overlay\",\"size\":10,\"solidity\":0.2}},\"type\":\"bar\"}],\"scattergeo\":[{\"type\":\"scattergeo\",\"marker\":{\"colorbar\":{\"outlinewidth\":0,\"ticks\":\"\"}}}],\"scatterpolar\":[{\"type\":\"scatterpolar\",\"marker\":{\"colorbar\":{\"outlinewidth\":0,\"ticks\":\"\"}}}],\"histogram\":[{\"marker\":{\"pattern\":{\"fillmode\":\"overlay\",\"size\":10,\"solidity\":0.2}},\"type\":\"histogram\"}],\"scattergl\":[{\"type\":\"scattergl\",\"marker\":{\"colorbar\":{\"outlinewidth\":0,\"ticks\":\"\"}}}],\"scatter3d\":[{\"type\":\"scatter3d\",\"line\":{\"colorbar\":{\"outlinewidth\":0,\"ticks\":\"\"}},\"marker\":{\"colorbar\":{\"outlinewidth\":0,\"ticks\":\"\"}}}],\"scattermapbox\":[{\"type\":\"scattermapbox\",\"marker\":{\"colorbar\":{\"outlinewidth\":0,\"ticks\":\"\"}}}],\"scatterternary\":[{\"type\":\"scatterternary\",\"marker\":{\"colorbar\":{\"outlinewidth\":0,\"ticks\":\"\"}}}],\"scattercarpet\":[{\"type\":\"scattercarpet\",\"marker\":{\"colorbar\":{\"outlinewidth\":0,\"ticks\":\"\"}}}],\"carpet\":[{\"aaxis\":{\"endlinecolor\":\"#2a3f5f\",\"gridcolor\":\"white\",\"linecolor\":\"white\",\"minorgridcolor\":\"white\",\"startlinecolor\":\"#2a3f5f\"},\"baxis\":{\"endlinecolor\":\"#2a3f5f\",\"gridcolor\":\"white\",\"linecolor\":\"white\",\"minorgridcolor\":\"white\",\"startlinecolor\":\"#2a3f5f\"},\"type\":\"carpet\"}],\"table\":[{\"cells\":{\"fill\":{\"color\":\"#EBF0F8\"},\"line\":{\"color\":\"white\"}},\"header\":{\"fill\":{\"color\":\"#C8D4E3\"},\"line\":{\"color\":\"white\"}},\"type\":\"table\"}],\"barpolar\":[{\"marker\":{\"line\":{\"color\":\"#E5ECF6\",\"width\":0.5},\"pattern\":{\"fillmode\":\"overlay\",\"size\":10,\"solidity\":0.2}},\"type\":\"barpolar\"}],\"pie\":[{\"automargin\":true,\"type\":\"pie\"}]},\"layout\":{\"autotypenumbers\":\"strict\",\"colorway\":[\"#636efa\",\"#EF553B\",\"#00cc96\",\"#ab63fa\",\"#FFA15A\",\"#19d3f3\",\"#FF6692\",\"#B6E880\",\"#FF97FF\",\"#FECB52\"],\"font\":{\"color\":\"#2a3f5f\"},\"hovermode\":\"closest\",\"hoverlabel\":{\"align\":\"left\"},\"paper_bgcolor\":\"white\",\"plot_bgcolor\":\"#E5ECF6\",\"polar\":{\"bgcolor\":\"#E5ECF6\",\"angularaxis\":{\"gridcolor\":\"white\",\"linecolor\":\"white\",\"ticks\":\"\"},\"radialaxis\":{\"gridcolor\":\"white\",\"linecolor\":\"white\",\"ticks\":\"\"}},\"ternary\":{\"bgcolor\":\"#E5ECF6\",\"aaxis\":{\"gridcolor\":\"white\",\"linecolor\":\"white\",\"ticks\":\"\"},\"baxis\":{\"gridcolor\":\"white\",\"linecolor\":\"white\",\"ticks\":\"\"},\"caxis\":{\"gridcolor\":\"white\",\"linecolor\":\"white\",\"ticks\":\"\"}},\"coloraxis\":{\"colorbar\":{\"outlinewidth\":0,\"ticks\":\"\"}},\"colorscale\":{\"sequential\":[[0.0,\"#0d0887\"],[0.1111111111111111,\"#46039f\"],[0.2222222222222222,\"#7201a8\"],[0.3333333333333333,\"#9c179e\"],[0.4444444444444444,\"#bd3786\"],[0.5555555555555556,\"#d8576b\"],[0.6666666666666666,\"#ed7953\"],[0.7777777777777778,\"#fb9f3a\"],[0.8888888888888888,\"#fdca26\"],[1.0,\"#f0f921\"]],\"sequentialminus\":[[0.0,\"#0d0887\"],[0.1111111111111111,\"#46039f\"],[0.2222222222222222,\"#7201a8\"],[0.3333333333333333,\"#9c179e\"],[0.4444444444444444,\"#bd3786\"],[0.5555555555555556,\"#d8576b\"],[0.6666666666666666,\"#ed7953\"],[0.7777777777777778,\"#fb9f3a\"],[0.8888888888888888,\"#fdca26\"],[1.0,\"#f0f921\"]],\"diverging\":[[0,\"#8e0152\"],[0.1,\"#c51b7d\"],[0.2,\"#de77ae\"],[0.3,\"#f1b6da\"],[0.4,\"#fde0ef\"],[0.5,\"#f7f7f7\"],[0.6,\"#e6f5d0\"],[0.7,\"#b8e186\"],[0.8,\"#7fbc41\"],[0.9,\"#4d9221\"],[1,\"#276419\"]]},\"xaxis\":{\"gridcolor\":\"white\",\"linecolor\":\"white\",\"ticks\":\"\",\"title\":{\"standoff\":15},\"zerolinecolor\":\"white\",\"automargin\":true,\"zerolinewidth\":2},\"yaxis\":{\"gridcolor\":\"white\",\"linecolor\":\"white\",\"ticks\":\"\",\"title\":{\"standoff\":15},\"zerolinecolor\":\"white\",\"automargin\":true,\"zerolinewidth\":2},\"scene\":{\"xaxis\":{\"backgroundcolor\":\"#E5ECF6\",\"gridcolor\":\"white\",\"linecolor\":\"white\",\"showbackground\":true,\"ticks\":\"\",\"zerolinecolor\":\"white\",\"gridwidth\":2},\"yaxis\":{\"backgroundcolor\":\"#E5ECF6\",\"gridcolor\":\"white\",\"linecolor\":\"white\",\"showbackground\":true,\"ticks\":\"\",\"zerolinecolor\":\"white\",\"gridwidth\":2},\"zaxis\":{\"backgroundcolor\":\"#E5ECF6\",\"gridcolor\":\"white\",\"linecolor\":\"white\",\"showbackground\":true,\"ticks\":\"\",\"zerolinecolor\":\"white\",\"gridwidth\":2}},\"shapedefaults\":{\"line\":{\"color\":\"#2a3f5f\"}},\"annotationdefaults\":{\"arrowcolor\":\"#2a3f5f\",\"arrowhead\":0,\"arrowwidth\":1},\"geo\":{\"bgcolor\":\"white\",\"landcolor\":\"#E5ECF6\",\"subunitcolor\":\"white\",\"showland\":true,\"showlakes\":true,\"lakecolor\":\"white\"},\"title\":{\"x\":0.05},\"mapbox\":{\"style\":\"light\"}}},\"xaxis\":{\"anchor\":\"y\",\"domain\":[0.0,1.0],\"title\":{\"text\":\"NY.GDP.MKTP.PP.KD\"}},\"yaxis\":{\"anchor\":\"x\",\"domain\":[0.0,1.0],\"title\":{\"text\":\"NY.GDP.MKTP.KD\"}},\"legend\":{\"tracegroupgap\":0},\"margin\":{\"t\":60}},                        {\"responsive\": true}                    ).then(function(){\n",
       "                            \n",
       "var gd = document.getElementById('4c836243-37f8-4f8d-a54d-614fb347347e');\n",
       "var x = new MutationObserver(function (mutations, observer) {{\n",
       "        var display = window.getComputedStyle(gd).display;\n",
       "        if (!display || display === 'none') {{\n",
       "            console.log([gd, 'removed!']);\n",
       "            Plotly.purge(gd);\n",
       "            observer.disconnect();\n",
       "        }}\n",
       "}});\n",
       "\n",
       "// Listen for the removal of the full notebook cells\n",
       "var notebookContainer = gd.closest('#notebook-container');\n",
       "if (notebookContainer) {{\n",
       "    x.observe(notebookContainer, {childList: true});\n",
       "}}\n",
       "\n",
       "// Listen for the clearing of the current output cell\n",
       "var outputEl = gd.closest('.output');\n",
       "if (outputEl) {{\n",
       "    x.observe(outputEl, {childList: true});\n",
       "}}\n",
       "\n",
       "                        })                };                });            </script>        </div>"
      ]
     },
     "metadata": {},
     "output_type": "display_data"
    }
   ],
   "source": [
    "px.scatter(X_GDP,x='NY.GDP.MKTP.PP.KD',y='NY.GDP.MKTP.KD')"
   ]
  },
  {
   "cell_type": "code",
   "execution_count": 26,
   "id": "8812e539",
   "metadata": {},
   "outputs": [],
   "source": [
    "# Drop features with high correlation\n",
    "threshold = 0.95\n",
    "# Select upper triangle of correlation matrix\n",
    "upper = correlation.where(np.triu(np.ones(correlation.shape), k=1).astype(bool))\n",
    "\n",
    "# Find features with correlation greater than threshold\n",
    "to_drop = [column for column in upper.columns if any(upper[column] >= threshold)]"
   ]
  },
  {
   "cell_type": "code",
   "execution_count": null,
   "id": "34873549",
   "metadata": {},
   "outputs": [],
   "source": [
    "X_reduced = X_GDP.drop(to_drop, axis=1)\n",
    "X_reduced.head()"
   ]
  },
  {
   "cell_type": "code",
   "execution_count": null,
   "id": "7c278e01",
   "metadata": {},
   "outputs": [],
   "source": [
    "sns.heatmap(X_reduced.select_dtypes(\"number\").corr().abs());"
   ]
  },
  {
   "cell_type": "code",
   "execution_count": null,
   "id": "a144bc95",
   "metadata": {},
   "outputs": [],
   "source": [
    "target_corr = abs(X_reduced.corrwith(y)).sort_values()"
   ]
  },
  {
   "cell_type": "code",
   "execution_count": null,
   "id": "f7d498c3",
   "metadata": {},
   "outputs": [],
   "source": [
    "target_corr"
   ]
  },
  {
   "cell_type": "code",
   "execution_count": null,
   "id": "70098bbf",
   "metadata": {},
   "outputs": [],
   "source": [
    "target_corr = abs(X_scaled[read_GDP].corrwith(y)).sort_values()"
   ]
  },
  {
   "cell_type": "code",
   "execution_count": null,
   "id": "1880ab86",
   "metadata": {},
   "outputs": [],
   "source": [
    "target_corr"
   ]
  },
  {
   "cell_type": "code",
   "execution_count": null,
   "id": "26ba30c7",
   "metadata": {},
   "outputs": [],
   "source": [
    "X_scaled['NY.GDP.PCAP.PP.KD'].corr(X_scaled['NY.GDP.PCAP.PP.CD'])"
   ]
  },
  {
   "cell_type": "code",
   "execution_count": null,
   "id": "a1b5951b",
   "metadata": {},
   "outputs": [],
   "source": [
    "# Drop features with high correlation\n",
    "threshold = 0.95\n",
    "# Select upper triangle of correlation matrix\n",
    "upper = correlation.where(np.triu(np.ones(correlation.shape), k=1).astype(bool))\n",
    "lower = correlation.where(np.tril(np.ones(correlation.shape), k=-1).astype(bool))\n",
    "\n",
    "# Find features with correlation greater than threshold\n",
    "to_drop = [column for column in upper.columns if any(upper[column] >= threshold)]"
   ]
  },
  {
   "cell_type": "code",
   "execution_count": null,
   "id": "3047e933",
   "metadata": {},
   "outputs": [],
   "source": [
    "upper"
   ]
  },
  {
   "cell_type": "code",
   "execution_count": null,
   "id": "3d882a35",
   "metadata": {},
   "outputs": [],
   "source": [
    "X_reduced = X_GDP.drop(to_drop, axis=1)\n",
    "X_reduced.head()"
   ]
  },
  {
   "cell_type": "code",
   "execution_count": null,
   "id": "b61c8496",
   "metadata": {},
   "outputs": [],
   "source": [
    "sns.heatmap(X_reduced.select_dtypes(\"number\").corr().abs());"
   ]
  },
  {
   "cell_type": "code",
   "execution_count": null,
   "id": "5986081b",
   "metadata": {},
   "outputs": [],
   "source": []
  }
 ],
 "metadata": {
  "kernelspec": {
   "display_name": "Python 3 (ipykernel)",
   "language": "python",
   "name": "python3"
  },
  "language_info": {
   "codemirror_mode": {
    "name": "ipython",
    "version": 3
   },
   "file_extension": ".py",
   "mimetype": "text/x-python",
   "name": "python",
   "nbconvert_exporter": "python",
   "pygments_lexer": "ipython3",
   "version": "3.11.5"
  }
 },
 "nbformat": 4,
 "nbformat_minor": 5
}
